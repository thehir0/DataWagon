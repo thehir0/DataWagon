{
 "cells": [
  {
   "cell_type": "code",
   "execution_count": 1,
   "outputs": [],
   "source": [
    "import pandas as pd\n",
    "import numpy as np\n"
   ],
   "metadata": {
    "collapsed": false,
    "ExecuteTime": {
     "end_time": "2023-10-30T12:12:44.453550500Z",
     "start_time": "2023-10-30T12:12:31.873323700Z"
    }
   }
  },
  {
   "cell_type": "code",
   "execution_count": 2,
   "outputs": [],
   "source": [
    "from metrics_f1 import calc_f1_score"
   ],
   "metadata": {
    "collapsed": false,
    "pycharm": {
     "name": "#%%\n"
    }
   }
  },
  {
   "cell_type": "markdown",
   "source": [
    "## Загрузка данных"
   ],
   "metadata": {
    "collapsed": false
   }
  },
  {
   "cell_type": "code",
   "execution_count": 3,
   "outputs": [],
   "source": [
    "path_train = r\"./\""
   ],
   "metadata": {
    "collapsed": false,
    "pycharm": {
     "name": "#%%\n"
    }
   }
  },
  {
   "cell_type": "code",
   "execution_count": 4,
   "outputs": [],
   "source": [
    "# данные по дислокации\n",
    "dislok = pd.read_parquet(path_train + '/dislok_wagons.parquet').convert_dtypes()\n",
    "# данные по текущим ремонтам\n",
    "pr_rem = pd.read_parquet(path_train + '/pr_rems.parquet').convert_dtypes()\n",
    "# список вагонов с остаточным пробегом на момент прогноза\n",
    "wag_prob = pd.read_parquet(path_train + '/wagons_probeg_ownersip.parquet').convert_dtypes()\n",
    " # параметры вагона\n",
    "wag_param = pd.read_parquet(path_train + '/wag_params.parquet').convert_dtypes()\n",
    "# таргет по прогноза выбытия вагонов в ПР на месяц и на 10 дней\n",
    "target = pd.read_csv(path_train +'/target/y_train.csv').convert_dtypes()\n",
    " # текущие ремонты вагонов\n",
    "tr_rem = pd.read_parquet(path_train + '/tr_rems.parquet').convert_dtypes()"
   ],
   "metadata": {
    "collapsed": false,
    "pycharm": {
     "name": "#%%\n"
    }
   }
  },
  {
   "cell_type": "code",
   "execution_count": 5,
   "outputs": [],
   "source": [
    "wag_param = wag_param.drop_duplicates(subset='wagnum', keep='last')# у вагонов могут меняться параметры, поэтмоу номер дублируется. В данной модели это фактор не учитывается"
   ],
   "metadata": {
    "collapsed": false,
    "pycharm": {
     "name": "#%%\n"
    }
   }
  },
  {
   "cell_type": "code",
   "execution_count": 6,
   "outputs": [],
   "source": [
    "month_to_predict = pd.to_datetime('2022-12-01')"
   ],
   "metadata": {
    "collapsed": false,
    "pycharm": {
     "name": "#%%\n"
    }
   }
  },
  {
   "cell_type": "code",
   "execution_count": 7,
   "outputs": [],
   "source": [
    "target.month = pd.to_datetime(target.month)\n",
    "target = target[target.month == month_to_predict][['wagnum','target_month','target_day']]"
   ],
   "metadata": {
    "collapsed": false,
    "pycharm": {
     "name": "#%%\n"
    }
   }
  },
  {
   "cell_type": "code",
   "execution_count": 8,
   "outputs": [
    {
     "data": {
      "text/plain": "(1584, 570)"
     },
     "execution_count": 8,
     "metadata": {},
     "output_type": "execute_result"
    }
   ],
   "source": [
    "target.target_month.sum(), target.target_day.sum()"
   ],
   "metadata": {
    "collapsed": false,
    "pycharm": {
     "name": "#%%\n"
    }
   }
  },
  {
   "cell_type": "markdown",
   "source": [
    "# Наивная модель"
   ],
   "metadata": {
    "collapsed": false
   }
  },
  {
   "cell_type": "markdown",
   "source": [
    "Наивная модель будет построена на правилах с использованием минимального набора данных, без применения Ml.\n",
    "\n",
    "Реальный процесс выглядит следующим образом - в начале месяца берется срез по парку по всем вагонам, за ремонт которых несёт ответственность ПГК. Для выбранных вагонов требуется установить, какие из них будут отремонтированы в текущем месяце. Данная информация помогает планировать нагрузку на вагоно-ремонтное предприятие(ВРП). Вторая модель определяет критичные вагоны, которые будут отправлены в ремонт в первую очередь( в ближайшие 10 дней). Это помогает фокусировать внимание диспетчеров.\n",
    "\n",
    "Основными критериями по которым вагон отправляется в плановый ремонт - является его остаточный пробег и срок до планового ремонта.\n",
    "В регламентах РЖД используется следующее правило - если ресурс по пробегу не превышает 500 км и/или плановый ремонт должен наступить через 15 дней(или меньше), то вагон может ехать только на ВРП.\n",
    "Из этого регламента вытекают две особенности:\n",
    "1. Диспетчер старается отправить вагон раньше положенных значений. Это позволяет выбрать предприятия, на которых ремонтироваться дешевле, а не ближайшее.\n",
    "2. Компания-оператор может выбирать какому из нормативов нужно следовать - ремонтировать вагон по сроку, или по пробегу, или по обоим критериям сразу. Поэтому встречаются вагоны, у которых пробег может не отслеживаться.\n",
    "\n",
    "Вагон может быть отправлен в плановый ремонт и раньше положенного. На это может влиять, например, история грузовых операций и количество текущих(мелких) ремонтов. Основная цель участников в данной задаче - найти закономерности и оценить значимые признаки, по которым вагон выбывает в плановый ремонт."
   ],
   "metadata": {
    "collapsed": false
   }
  },
  {
   "cell_type": "markdown",
   "source": [
    "## Подготовка данных"
   ],
   "metadata": {
    "collapsed": false
   }
  },
  {
   "cell_type": "code",
   "execution_count": 9,
   "outputs": [],
   "source": [
    "# оставим только данные по остаточному пробегу для каждого номерав вагона\n",
    "wag_prob = wag_prob[(wag_prob.repdate == month_to_predict) | (wag_prob.repdate == wag_prob.repdate.min())]"
   ],
   "metadata": {
    "collapsed": false,
    "pycharm": {
     "name": "#%%\n"
    }
   }
  },
  {
   "cell_type": "code",
   "execution_count": 10,
   "outputs": [],
   "source": [
    "# оценим среднесуточный пробег из данных по пробегу вагона, на тот случай, если данных по нормативу нет\n",
    "wag_prob_ =wag_prob.groupby('wagnum', as_index = False).agg({'repdate':['max', 'min'] , 'ost_prob': ['max','min']},)#.droplevel(1)\n",
    "wag_prob_.columns = [head+'_' + name\n",
    "                     if head!='wagnum'\n",
    "                     else head\n",
    "                     for head, name in wag_prob_.columns ]\n",
    "\n",
    "wag_prob_['diff_days'] = wag_prob_.repdate_max - wag_prob_.repdate_min\n",
    "wag_prob_['mean_run'] = (wag_prob_.ost_prob_max - wag_prob_.ost_prob_min )/ wag_prob_.diff_days.dt.days\n",
    "wag_prob = wag_prob[wag_prob.repdate == wag_prob.repdate.max()][['wagnum','ost_prob']]\n",
    "wag_prob = wag_prob.merge(wag_prob_[['wagnum','mean_run']])"
   ],
   "metadata": {
    "collapsed": false,
    "pycharm": {
     "name": "#%%\n"
    }
   }
  },
  {
   "cell_type": "code",
   "execution_count": 11,
   "outputs": [],
   "source": [
    "# для каждого вагона оставим только информацию по сроку службы и нормативу суточного пробега между ПР\n",
    "wag_param = wag_param[['wagnum','srok_sl','cnsi_probeg_dr','cnsi_probeg_kr']]"
   ],
   "metadata": {
    "collapsed": false,
    "pycharm": {
     "name": "#%%\n"
    }
   }
  },
  {
   "cell_type": "code",
   "execution_count": 12,
   "outputs": [],
   "source": [
    "# добавим признак, что вагон был в ПР в предыдущем месяце. Скорее всего, если вагон был в ПР недавно, то повторно он не поедет\n",
    "pr_rem['was_repair_in_prev_month'] = 1\n",
    "pr_rem = pr_rem[['wagnum','was_repair_in_prev_month']]\n",
    "pr_rem = pr_rem.drop_duplicates(subset='wagnum') #некоторые вагоны все же ремонтируются больше 1 раза, поэтому нужен сбросить дубли"
   ],
   "metadata": {
    "collapsed": false,
    "pycharm": {
     "name": "#%%\n"
    }
   }
  },
  {
   "cell_type": "code",
   "execution_count": 13,
   "outputs": [],
   "source": [
    "# посчитаем сколько текущих ремонтов было за прошедший период\n",
    "tr_rem = tr_rem.groupby('wagnum', as_index= False).kod_vrab.count()"
   ],
   "metadata": {
    "collapsed": false,
    "pycharm": {
     "name": "#%%\n"
    }
   }
  },
  {
   "cell_type": "code",
   "execution_count": 14,
   "outputs": [],
   "source": [
    "# сохраним только дату следующего планового ремонта для вагона\n",
    "dislok = dislok[['wagnum','date_pl_rem']].drop_duplicates(subset = 'wagnum', keep='last')"
   ],
   "metadata": {
    "collapsed": false,
    "pycharm": {
     "name": "#%%\n"
    }
   }
  },
  {
   "cell_type": "code",
   "execution_count": 15,
   "outputs": [],
   "source": [
    "# соберем все данные вместе\n",
    "wp = target[['wagnum']].merge(wag_param, on ='wagnum', how = 'left')\\\n",
    "             .merge(wag_prob, how = 'left')\\\n",
    "             .merge(pr_rem, how = 'left')\\\n",
    "             .merge(tr_rem, how = 'left')\\\n",
    "             .merge(dislok, how = 'left')"
   ],
   "metadata": {
    "collapsed": false,
    "pycharm": {
     "name": "#%%\n"
    }
   }
  },
  {
   "cell_type": "code",
   "execution_count": 16,
   "outputs": [
    {
     "data": {
      "text/plain": "       wagnum    srok_sl  cnsi_probeg_dr  cnsi_probeg_kr  ost_prob  \\\n0       33361 2033-03-01             110             160    159916   \n1       33364 2031-04-12             110             160      4268   \n2       33366 2032-01-21             110             160      1507   \n3       33358 2032-11-30             110             160     30223   \n4       33349 2033-12-04             110             160    153839   \n...       ...        ...             ...             ...       ...   \n33972   25045 2034-08-30             110             160    150682   \n33973   27156 2030-12-18             110             160    153800   \n33974   21361 2028-03-04             160             160    141836   \n33975    8061 2025-10-10             110             160    156895   \n33976   33350 2047-02-05             250             500     90841   \n\n          mean_run  was_repair_in_prev_month  kod_vrab date_pl_rem  \n0       1248.97541                       1.0       3.0  2023-02-17  \n1       269.139344                       1.0       2.0  2023-10-03  \n2        71.598361                       1.0       2.0  2023-04-03  \n3        95.114754                       NaN       2.0  2024-02-23  \n4       1214.07377                       1.0       NaN  2023-07-06  \n...            ...                       ...       ...         ...  \n33972   1086.07377                       1.0       NaN  2023-06-29  \n33973  1170.663934                       1.0       4.0  2023-06-27  \n33974  1038.860656                       1.0       NaN  2023-06-08  \n33975          NaN                       1.0       NaN  2022-10-08  \n33976          NaN                       1.0       1.0  2022-07-25  \n\n[33977 rows x 9 columns]",
      "text/html": "<div>\n<style scoped>\n    .dataframe tbody tr th:only-of-type {\n        vertical-align: middle;\n    }\n\n    .dataframe tbody tr th {\n        vertical-align: top;\n    }\n\n    .dataframe thead th {\n        text-align: right;\n    }\n</style>\n<table border=\"1\" class=\"dataframe\">\n  <thead>\n    <tr style=\"text-align: right;\">\n      <th></th>\n      <th>wagnum</th>\n      <th>srok_sl</th>\n      <th>cnsi_probeg_dr</th>\n      <th>cnsi_probeg_kr</th>\n      <th>ost_prob</th>\n      <th>mean_run</th>\n      <th>was_repair_in_prev_month</th>\n      <th>kod_vrab</th>\n      <th>date_pl_rem</th>\n    </tr>\n  </thead>\n  <tbody>\n    <tr>\n      <th>0</th>\n      <td>33361</td>\n      <td>2033-03-01</td>\n      <td>110</td>\n      <td>160</td>\n      <td>159916</td>\n      <td>1248.97541</td>\n      <td>1.0</td>\n      <td>3.0</td>\n      <td>2023-02-17</td>\n    </tr>\n    <tr>\n      <th>1</th>\n      <td>33364</td>\n      <td>2031-04-12</td>\n      <td>110</td>\n      <td>160</td>\n      <td>4268</td>\n      <td>269.139344</td>\n      <td>1.0</td>\n      <td>2.0</td>\n      <td>2023-10-03</td>\n    </tr>\n    <tr>\n      <th>2</th>\n      <td>33366</td>\n      <td>2032-01-21</td>\n      <td>110</td>\n      <td>160</td>\n      <td>1507</td>\n      <td>71.598361</td>\n      <td>1.0</td>\n      <td>2.0</td>\n      <td>2023-04-03</td>\n    </tr>\n    <tr>\n      <th>3</th>\n      <td>33358</td>\n      <td>2032-11-30</td>\n      <td>110</td>\n      <td>160</td>\n      <td>30223</td>\n      <td>95.114754</td>\n      <td>NaN</td>\n      <td>2.0</td>\n      <td>2024-02-23</td>\n    </tr>\n    <tr>\n      <th>4</th>\n      <td>33349</td>\n      <td>2033-12-04</td>\n      <td>110</td>\n      <td>160</td>\n      <td>153839</td>\n      <td>1214.07377</td>\n      <td>1.0</td>\n      <td>NaN</td>\n      <td>2023-07-06</td>\n    </tr>\n    <tr>\n      <th>...</th>\n      <td>...</td>\n      <td>...</td>\n      <td>...</td>\n      <td>...</td>\n      <td>...</td>\n      <td>...</td>\n      <td>...</td>\n      <td>...</td>\n      <td>...</td>\n    </tr>\n    <tr>\n      <th>33972</th>\n      <td>25045</td>\n      <td>2034-08-30</td>\n      <td>110</td>\n      <td>160</td>\n      <td>150682</td>\n      <td>1086.07377</td>\n      <td>1.0</td>\n      <td>NaN</td>\n      <td>2023-06-29</td>\n    </tr>\n    <tr>\n      <th>33973</th>\n      <td>27156</td>\n      <td>2030-12-18</td>\n      <td>110</td>\n      <td>160</td>\n      <td>153800</td>\n      <td>1170.663934</td>\n      <td>1.0</td>\n      <td>4.0</td>\n      <td>2023-06-27</td>\n    </tr>\n    <tr>\n      <th>33974</th>\n      <td>21361</td>\n      <td>2028-03-04</td>\n      <td>160</td>\n      <td>160</td>\n      <td>141836</td>\n      <td>1038.860656</td>\n      <td>1.0</td>\n      <td>NaN</td>\n      <td>2023-06-08</td>\n    </tr>\n    <tr>\n      <th>33975</th>\n      <td>8061</td>\n      <td>2025-10-10</td>\n      <td>110</td>\n      <td>160</td>\n      <td>156895</td>\n      <td>NaN</td>\n      <td>1.0</td>\n      <td>NaN</td>\n      <td>2022-10-08</td>\n    </tr>\n    <tr>\n      <th>33976</th>\n      <td>33350</td>\n      <td>2047-02-05</td>\n      <td>250</td>\n      <td>500</td>\n      <td>90841</td>\n      <td>NaN</td>\n      <td>1.0</td>\n      <td>1.0</td>\n      <td>2022-07-25</td>\n    </tr>\n  </tbody>\n</table>\n<p>33977 rows × 9 columns</p>\n</div>"
     },
     "execution_count": 16,
     "metadata": {},
     "output_type": "execute_result"
    }
   ],
   "source": [
    "wp.head()"
   ],
   "metadata": {
    "collapsed": false,
    "pycharm": {
     "name": "#%%\n"
    }
   }
  },
  {
   "cell_type": "code",
   "execution_count": 17,
   "outputs": [],
   "source": [
    "# Получим среднесуточный пробег, как среднее от нормативов и реального пробега\n",
    "wp[['cnsi_probeg_dr','cnsi_probeg_kr','mean_run']] = wp[['cnsi_probeg_dr','cnsi_probeg_kr','mean_run']].fillna(0)\n",
    "wp['day_run'] = wp.apply(lambda x : [ val  for val in [x.cnsi_probeg_kr, x.cnsi_probeg_dr, x.mean_run] if val != 0], axis = 1 )\n",
    "wp['day_run']= wp.apply(lambda x : np.mean(x.day_run) if len(x.day_run)> 0 else 0, axis = 1 )"
   ],
   "metadata": {
    "collapsed": false,
    "pycharm": {
     "name": "#%%\n"
    }
   }
  },
  {
   "cell_type": "code",
   "execution_count": 18,
   "outputs": [],
   "source": [
    "wp['current_date'] = month_to_predict"
   ],
   "metadata": {
    "collapsed": false,
    "pycharm": {
     "name": "#%%\n"
    }
   }
  },
  {
   "cell_type": "code",
   "execution_count": 19,
   "outputs": [],
   "source": [
    "# определим, сколько дней осталось до истечения срока службы\n",
    "wp['date_diff_srk_sl'] = wp['srok_sl']- wp['current_date']"
   ],
   "metadata": {
    "collapsed": false,
    "pycharm": {
     "name": "#%%\n"
    }
   }
  },
  {
   "cell_type": "code",
   "execution_count": 20,
   "outputs": [],
   "source": [
    "# определим, сколько дней осталось до ближайшего ПР\n",
    "wp['date_diff_pl_rem'] = wp['date_pl_rem']- wp['current_date']"
   ],
   "metadata": {
    "collapsed": false,
    "pycharm": {
     "name": "#%%\n"
    }
   }
  },
  {
   "cell_type": "code",
   "execution_count": 21,
   "outputs": [],
   "source": [
    "# определим, какой остаточный ресурс будет на момент окончания месяца\n",
    "wp['prob_end_month'] = wp['ost_prob'] - wp['day_run']* 30"
   ],
   "metadata": {
    "collapsed": false,
    "pycharm": {
     "name": "#%%\n"
    }
   }
  },
  {
   "cell_type": "code",
   "execution_count": 22,
   "outputs": [],
   "source": [
    "wp['target_month'] = 0"
   ],
   "metadata": {
    "collapsed": false,
    "pycharm": {
     "name": "#%%\n"
    }
   }
  },
  {
   "cell_type": "code",
   "execution_count": 23,
   "outputs": [],
   "source": [
    "# вагон выбывает в ПР в следующем месяце, если:\n",
    "# остаточный пробег < 5 000 км\n",
    "# срок службы < 500 лней\n",
    "# до следующего  ПР < 40 дней\n",
    "# ,число текущих ремонтов > 5\n",
    "wp.loc[(wp.prob_end_month <= 5000) \\\n",
    "       | (wp.date_diff_srk_sl < pd.to_timedelta(40))\\\n",
    "        | (wp.date_diff_pl_rem < pd.to_timedelta(10)) \\\n",
    "        | (wp.kod_vrab > 5),'target_month'] = 1"
   ],
   "metadata": {
    "collapsed": false,
    "pycharm": {
     "name": "#%%\n"
    }
   }
  },
  {
   "cell_type": "code",
   "execution_count": 24,
   "outputs": [],
   "source": [
    "wp['target_day'] = wp['target_month']"
   ],
   "metadata": {
    "collapsed": false,
    "pycharm": {
     "name": "#%%\n"
    }
   }
  },
  {
   "cell_type": "code",
   "execution_count": 25,
   "outputs": [],
   "source": [
    "pred_target = target[['wagnum']].merge(wp[['wagnum','target_month','target_day']],how = 'left')\n",
    "pred_target = pred_target.drop_duplicates(subset = 'wagnum')"
   ],
   "metadata": {
    "collapsed": false,
    "pycharm": {
     "name": "#%%\n"
    }
   }
  },
  {
   "cell_type": "code",
   "execution_count": 26,
   "outputs": [
    {
     "data": {
      "text/plain": "3.5"
     },
     "execution_count": 26,
     "metadata": {},
     "output_type": "execute_result"
    }
   ],
   "source": [
    "# Проверим соотношение отмеченных вагонов с фактическим значением\n",
    "round(pred_target.target_month.sum() / target.target_month.sum(), 2)"
   ],
   "metadata": {
    "collapsed": false,
    "pycharm": {
     "name": "#%%\n"
    }
   }
  },
  {
   "cell_type": "code",
   "execution_count": 27,
   "outputs": [],
   "source": [
    "# сохраним таргет за месяц  для выбранного периода отдельно\n",
    "target_path = './prediction/target_predicton.csv'"
   ],
   "metadata": {
    "collapsed": false,
    "pycharm": {
     "name": "#%%\n"
    }
   }
  },
  {
   "cell_type": "code",
   "execution_count": 28,
   "outputs": [],
   "source": [
    "pred_target.drop_duplicates(subset = 'wagnum').to_csv(target_path, index=False)"
   ],
   "metadata": {
    "collapsed": false,
    "pycharm": {
     "name": "#%%\n"
    }
   }
  },
  {
   "cell_type": "code",
   "execution_count": 29,
   "outputs": [],
   "source": [
    "true_target_path = './prediction/target_predicton_true.csv'"
   ],
   "metadata": {
    "collapsed": false,
    "pycharm": {
     "name": "#%%\n"
    }
   }
  },
  {
   "cell_type": "code",
   "execution_count": 30,
   "outputs": [],
   "source": [
    "target.drop_duplicates(subset = 'wagnum').to_csv(true_target_path, index=False)"
   ],
   "metadata": {
    "collapsed": false,
    "pycharm": {
     "name": "#%%\n"
    }
   }
  },
  {
   "cell_type": "code",
   "execution_count": 31,
   "outputs": [
    {
     "data": {
      "text/plain": "0.23121339736861674"
     },
     "execution_count": 31,
     "metadata": {},
     "output_type": "execute_result"
    }
   ],
   "source": [
    "# оценим насколько хорошо удалось предсказать выбытие вагонов  по месяцу и по 10 дням\n",
    "calc_f1_score( true_target_path, target_path,)"
   ],
   "metadata": {
    "collapsed": false,
    "pycharm": {
     "name": "#%%\n"
    }
   }
  },
  {
   "cell_type": "code",
   "execution_count": 31,
   "outputs": [],
   "source": [],
   "metadata": {
    "collapsed": false,
    "pycharm": {
     "name": "#%%\n"
    }
   }
  }
 ],
 "metadata": {
  "kernelspec": {
   "display_name": "Python 3",
   "language": "python",
   "name": "python3"
  },
  "language_info": {
   "codemirror_mode": {
    "name": "ipython",
    "version": 2
   },
   "file_extension": ".py",
   "mimetype": "text/x-python",
   "name": "python",
   "nbconvert_exporter": "python",
   "pygments_lexer": "ipython2",
   "version": "2.7.6"
  }
 },
 "nbformat": 4,
 "nbformat_minor": 0
}