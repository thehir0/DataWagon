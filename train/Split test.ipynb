{
 "cells": [
  {
   "cell_type": "code",
   "execution_count": 8,
   "outputs": [],
   "source": [
    "import pandas as pd\n",
    "from src.split import split_train_val\n",
    "\n",
    "path_train = r\"./\"\n",
    "target = pd.read_csv(path_train +'/target/y_train.csv').convert_dtypes()\n",
    "\n",
    "features = ['wagnum', 'month']\n",
    "labels = ['target_month', 'target_day']\n",
    "X_train, X_val, y_train, y_val = split_train_val(target, features, labels, 0.1, 42)"
   ],
   "metadata": {
    "collapsed": false
   }
  },
  {
   "cell_type": "code",
   "execution_count": 9,
   "outputs": [
    {
     "data": {
      "text/plain": "        wagnum       month\n2801      9383  2023-01-01\n73656    23269  2022-09-01\n19341    22338  2023-01-01\n167314   20819  2022-11-01\n76163    33877  2022-09-01\n66831    25454  2022-08-01\n185240   16915  2022-12-01\n81037    17555  2022-09-01\n175803   23635  2022-12-01\n177725   33623  2022-12-01",
      "text/html": "<div>\n<style scoped>\n    .dataframe tbody tr th:only-of-type {\n        vertical-align: middle;\n    }\n\n    .dataframe tbody tr th {\n        vertical-align: top;\n    }\n\n    .dataframe thead th {\n        text-align: right;\n    }\n</style>\n<table border=\"1\" class=\"dataframe\">\n  <thead>\n    <tr style=\"text-align: right;\">\n      <th></th>\n      <th>wagnum</th>\n      <th>month</th>\n    </tr>\n  </thead>\n  <tbody>\n    <tr>\n      <th>2801</th>\n      <td>9383</td>\n      <td>2023-01-01</td>\n    </tr>\n    <tr>\n      <th>73656</th>\n      <td>23269</td>\n      <td>2022-09-01</td>\n    </tr>\n    <tr>\n      <th>19341</th>\n      <td>22338</td>\n      <td>2023-01-01</td>\n    </tr>\n    <tr>\n      <th>167314</th>\n      <td>20819</td>\n      <td>2022-11-01</td>\n    </tr>\n    <tr>\n      <th>76163</th>\n      <td>33877</td>\n      <td>2022-09-01</td>\n    </tr>\n    <tr>\n      <th>66831</th>\n      <td>25454</td>\n      <td>2022-08-01</td>\n    </tr>\n    <tr>\n      <th>185240</th>\n      <td>16915</td>\n      <td>2022-12-01</td>\n    </tr>\n    <tr>\n      <th>81037</th>\n      <td>17555</td>\n      <td>2022-09-01</td>\n    </tr>\n    <tr>\n      <th>175803</th>\n      <td>23635</td>\n      <td>2022-12-01</td>\n    </tr>\n    <tr>\n      <th>177725</th>\n      <td>33623</td>\n      <td>2022-12-01</td>\n    </tr>\n  </tbody>\n</table>\n</div>"
     },
     "execution_count": 9,
     "metadata": {},
     "output_type": "execute_result"
    }
   ],
   "source": [
    "X_train.head(10)"
   ],
   "metadata": {
    "collapsed": false
   }
  },
  {
   "cell_type": "code",
   "execution_count": 10,
   "outputs": [
    {
     "data": {
      "text/plain": "        target_month  target_day\n2801               0           0\n73656              0           0\n19341              0           0\n167314             0           0\n76163              0           0\n66831              0           0\n185240             0           0\n81037              0           0\n175803             0           0\n177725             0           0",
      "text/html": "<div>\n<style scoped>\n    .dataframe tbody tr th:only-of-type {\n        vertical-align: middle;\n    }\n\n    .dataframe tbody tr th {\n        vertical-align: top;\n    }\n\n    .dataframe thead th {\n        text-align: right;\n    }\n</style>\n<table border=\"1\" class=\"dataframe\">\n  <thead>\n    <tr style=\"text-align: right;\">\n      <th></th>\n      <th>target_month</th>\n      <th>target_day</th>\n    </tr>\n  </thead>\n  <tbody>\n    <tr>\n      <th>2801</th>\n      <td>0</td>\n      <td>0</td>\n    </tr>\n    <tr>\n      <th>73656</th>\n      <td>0</td>\n      <td>0</td>\n    </tr>\n    <tr>\n      <th>19341</th>\n      <td>0</td>\n      <td>0</td>\n    </tr>\n    <tr>\n      <th>167314</th>\n      <td>0</td>\n      <td>0</td>\n    </tr>\n    <tr>\n      <th>76163</th>\n      <td>0</td>\n      <td>0</td>\n    </tr>\n    <tr>\n      <th>66831</th>\n      <td>0</td>\n      <td>0</td>\n    </tr>\n    <tr>\n      <th>185240</th>\n      <td>0</td>\n      <td>0</td>\n    </tr>\n    <tr>\n      <th>81037</th>\n      <td>0</td>\n      <td>0</td>\n    </tr>\n    <tr>\n      <th>175803</th>\n      <td>0</td>\n      <td>0</td>\n    </tr>\n    <tr>\n      <th>177725</th>\n      <td>0</td>\n      <td>0</td>\n    </tr>\n  </tbody>\n</table>\n</div>"
     },
     "execution_count": 10,
     "metadata": {},
     "output_type": "execute_result"
    }
   ],
   "source": [
    "y_train.head(10)"
   ],
   "metadata": {
    "collapsed": false
   }
  },
  {
   "cell_type": "code",
   "execution_count": 11,
   "outputs": [],
   "source": [
    "X_train.to_csv('X_train.csv')\n",
    "y_train.to_csv('y_train.csv')\n",
    "X_val.to_csv('X_val.csv')\n",
    "y_val.to_csv('y_val.csv')"
   ],
   "metadata": {
    "collapsed": false
   }
  },
  {
   "cell_type": "code",
   "execution_count": null,
   "outputs": [],
   "source": [],
   "metadata": {
    "collapsed": false
   }
  }
 ],
 "metadata": {
  "kernelspec": {
   "display_name": "Python 3",
   "language": "python",
   "name": "python3"
  },
  "language_info": {
   "codemirror_mode": {
    "name": "ipython",
    "version": 2
   },
   "file_extension": ".py",
   "mimetype": "text/x-python",
   "name": "python",
   "nbconvert_exporter": "python",
   "pygments_lexer": "ipython2",
   "version": "2.7.6"
  }
 },
 "nbformat": 4,
 "nbformat_minor": 0
}
