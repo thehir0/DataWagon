{
 "cells": [
  {
   "cell_type": "code",
   "execution_count": 51,
   "outputs": [],
   "source": [
    "import pandas as pd\n",
    "import sys\n",
    "sys.path.append('..')\n",
    "from src.timeconverter import date_to_timestamp"
   ],
   "metadata": {
    "collapsed": false
   }
  },
  {
   "cell_type": "code",
   "execution_count": 52,
   "metadata": {
    "collapsed": true
   },
   "outputs": [],
   "source": [
    "path_train = r\"./\""
   ]
  },
  {
   "cell_type": "code",
   "execution_count": 53,
   "outputs": [],
   "source": [
    "# текущие ремонты вагонов\n",
    "tr_rem = pd.read_parquet(path_train + '/tr_rems.parquet').convert_dtypes()"
   ],
   "metadata": {
    "collapsed": false
   }
  },
  {
   "cell_type": "code",
   "execution_count": 54,
   "outputs": [
    {
     "data": {
      "text/plain": "      wagnum  rem_month  kod_vrab  neis1_kod  neis2_kod  neis3_kod  mod1_kod   \n0      29938 2022-08-01         3          0         98         54         7  \\\n1      29938 2022-08-01         3         14         98         54         7   \n2      29852 2022-08-01         2          0         98         54         7   \n3      29852 2022-08-01         2         36         98         54         7   \n4      13674 2022-08-01         2         95         98         54         7   \n...      ...        ...       ...        ...        ...        ...       ...   \n7695   31868 2023-01-01         3         14         98         54         7   \n7696   22921 2023-01-01         5          0         98         54         7   \n7697   22921 2023-01-01         3         34         95         54         7   \n7698    4978 2023-01-01         3        131         68         54         7   \n7699   16226 2023-01-01         3          6         98         54         7   \n\n      mod2_kod  mod3_kod  mod4_kod  mod5_kod  mod6_kod  mod7_kod   \n0            4         2         0         0         0         0  \\\n1            4         2         0         0         0         0   \n2            4         2         0         0         0         0   \n3            4         2         0         0         0         0   \n4            4         2         0         0         0         0   \n...        ...       ...       ...       ...       ...       ...   \n7695         4         2         0         0         0         0   \n7696         4         2         0         0         0         0   \n7697         4         2         0         0         0         0   \n7698         4         2         0         0         0         0   \n7699         4         2         0         0         0         0   \n\n      road_id_send  gr_probeg  por_probeg  st_id_send  \n0               38      87913       37467       10522  \n1               38      87913       37467       10441  \n2               28      81824       45579        4789  \n3               28      81824       45579        4789  \n4               28      64130       34697        4789  \n...            ...        ...         ...         ...  \n7695            42      88690       60006       11552  \n7696            28      93198       53596        6168  \n7697            28      93198       53596        6168  \n7698             3      72453       38209         262  \n7699            43      71577       20493       11915  \n\n[48652 rows x 17 columns]",
      "text/html": "<div>\n<style scoped>\n    .dataframe tbody tr th:only-of-type {\n        vertical-align: middle;\n    }\n\n    .dataframe tbody tr th {\n        vertical-align: top;\n    }\n\n    .dataframe thead th {\n        text-align: right;\n    }\n</style>\n<table border=\"1\" class=\"dataframe\">\n  <thead>\n    <tr style=\"text-align: right;\">\n      <th></th>\n      <th>wagnum</th>\n      <th>rem_month</th>\n      <th>kod_vrab</th>\n      <th>neis1_kod</th>\n      <th>neis2_kod</th>\n      <th>neis3_kod</th>\n      <th>mod1_kod</th>\n      <th>mod2_kod</th>\n      <th>mod3_kod</th>\n      <th>mod4_kod</th>\n      <th>mod5_kod</th>\n      <th>mod6_kod</th>\n      <th>mod7_kod</th>\n      <th>road_id_send</th>\n      <th>gr_probeg</th>\n      <th>por_probeg</th>\n      <th>st_id_send</th>\n    </tr>\n  </thead>\n  <tbody>\n    <tr>\n      <th>0</th>\n      <td>29938</td>\n      <td>2022-08-01</td>\n      <td>3</td>\n      <td>0</td>\n      <td>98</td>\n      <td>54</td>\n      <td>7</td>\n      <td>4</td>\n      <td>2</td>\n      <td>0</td>\n      <td>0</td>\n      <td>0</td>\n      <td>0</td>\n      <td>38</td>\n      <td>87913</td>\n      <td>37467</td>\n      <td>10522</td>\n    </tr>\n    <tr>\n      <th>1</th>\n      <td>29938</td>\n      <td>2022-08-01</td>\n      <td>3</td>\n      <td>14</td>\n      <td>98</td>\n      <td>54</td>\n      <td>7</td>\n      <td>4</td>\n      <td>2</td>\n      <td>0</td>\n      <td>0</td>\n      <td>0</td>\n      <td>0</td>\n      <td>38</td>\n      <td>87913</td>\n      <td>37467</td>\n      <td>10441</td>\n    </tr>\n    <tr>\n      <th>2</th>\n      <td>29852</td>\n      <td>2022-08-01</td>\n      <td>2</td>\n      <td>0</td>\n      <td>98</td>\n      <td>54</td>\n      <td>7</td>\n      <td>4</td>\n      <td>2</td>\n      <td>0</td>\n      <td>0</td>\n      <td>0</td>\n      <td>0</td>\n      <td>28</td>\n      <td>81824</td>\n      <td>45579</td>\n      <td>4789</td>\n    </tr>\n    <tr>\n      <th>3</th>\n      <td>29852</td>\n      <td>2022-08-01</td>\n      <td>2</td>\n      <td>36</td>\n      <td>98</td>\n      <td>54</td>\n      <td>7</td>\n      <td>4</td>\n      <td>2</td>\n      <td>0</td>\n      <td>0</td>\n      <td>0</td>\n      <td>0</td>\n      <td>28</td>\n      <td>81824</td>\n      <td>45579</td>\n      <td>4789</td>\n    </tr>\n    <tr>\n      <th>4</th>\n      <td>13674</td>\n      <td>2022-08-01</td>\n      <td>2</td>\n      <td>95</td>\n      <td>98</td>\n      <td>54</td>\n      <td>7</td>\n      <td>4</td>\n      <td>2</td>\n      <td>0</td>\n      <td>0</td>\n      <td>0</td>\n      <td>0</td>\n      <td>28</td>\n      <td>64130</td>\n      <td>34697</td>\n      <td>4789</td>\n    </tr>\n    <tr>\n      <th>...</th>\n      <td>...</td>\n      <td>...</td>\n      <td>...</td>\n      <td>...</td>\n      <td>...</td>\n      <td>...</td>\n      <td>...</td>\n      <td>...</td>\n      <td>...</td>\n      <td>...</td>\n      <td>...</td>\n      <td>...</td>\n      <td>...</td>\n      <td>...</td>\n      <td>...</td>\n      <td>...</td>\n      <td>...</td>\n    </tr>\n    <tr>\n      <th>7695</th>\n      <td>31868</td>\n      <td>2023-01-01</td>\n      <td>3</td>\n      <td>14</td>\n      <td>98</td>\n      <td>54</td>\n      <td>7</td>\n      <td>4</td>\n      <td>2</td>\n      <td>0</td>\n      <td>0</td>\n      <td>0</td>\n      <td>0</td>\n      <td>42</td>\n      <td>88690</td>\n      <td>60006</td>\n      <td>11552</td>\n    </tr>\n    <tr>\n      <th>7696</th>\n      <td>22921</td>\n      <td>2023-01-01</td>\n      <td>5</td>\n      <td>0</td>\n      <td>98</td>\n      <td>54</td>\n      <td>7</td>\n      <td>4</td>\n      <td>2</td>\n      <td>0</td>\n      <td>0</td>\n      <td>0</td>\n      <td>0</td>\n      <td>28</td>\n      <td>93198</td>\n      <td>53596</td>\n      <td>6168</td>\n    </tr>\n    <tr>\n      <th>7697</th>\n      <td>22921</td>\n      <td>2023-01-01</td>\n      <td>3</td>\n      <td>34</td>\n      <td>95</td>\n      <td>54</td>\n      <td>7</td>\n      <td>4</td>\n      <td>2</td>\n      <td>0</td>\n      <td>0</td>\n      <td>0</td>\n      <td>0</td>\n      <td>28</td>\n      <td>93198</td>\n      <td>53596</td>\n      <td>6168</td>\n    </tr>\n    <tr>\n      <th>7698</th>\n      <td>4978</td>\n      <td>2023-01-01</td>\n      <td>3</td>\n      <td>131</td>\n      <td>68</td>\n      <td>54</td>\n      <td>7</td>\n      <td>4</td>\n      <td>2</td>\n      <td>0</td>\n      <td>0</td>\n      <td>0</td>\n      <td>0</td>\n      <td>3</td>\n      <td>72453</td>\n      <td>38209</td>\n      <td>262</td>\n    </tr>\n    <tr>\n      <th>7699</th>\n      <td>16226</td>\n      <td>2023-01-01</td>\n      <td>3</td>\n      <td>6</td>\n      <td>98</td>\n      <td>54</td>\n      <td>7</td>\n      <td>4</td>\n      <td>2</td>\n      <td>0</td>\n      <td>0</td>\n      <td>0</td>\n      <td>0</td>\n      <td>43</td>\n      <td>71577</td>\n      <td>20493</td>\n      <td>11915</td>\n    </tr>\n  </tbody>\n</table>\n<p>48652 rows × 17 columns</p>\n</div>"
     },
     "execution_count": 54,
     "metadata": {},
     "output_type": "execute_result"
    }
   ],
   "source": [
    "tr_rem"
   ],
   "metadata": {
    "collapsed": false
   }
  },
  {
   "cell_type": "code",
   "execution_count": 45,
   "outputs": [],
   "source": [
    "tr_rem['rem_month'] = tr_rem['rem_month'].astype(str)\n",
    "tr_rem['rem_month'] = tr_rem['rem_month'].apply(date_to_timestamp)"
   ],
   "metadata": {
    "collapsed": false
   }
  },
  {
   "cell_type": "code",
   "execution_count": 46,
   "outputs": [
    {
     "data": {
      "text/plain": "      wagnum   rem_month  kod_vrab  neis1_kod  neis2_kod  neis3_kod  mod1_kod   \n0      29938  1659312000         3          0         98         54         7  \\\n1      29938  1659312000         3         14         98         54         7   \n2      29852  1659312000         2          0         98         54         7   \n3      29852  1659312000         2         36         98         54         7   \n4      13674  1659312000         2         95         98         54         7   \n...      ...         ...       ...        ...        ...        ...       ...   \n7695   31868  1672531200         3         14         98         54         7   \n7696   22921  1672531200         5          0         98         54         7   \n7697   22921  1672531200         3         34         95         54         7   \n7698    4978  1672531200         3        131         68         54         7   \n7699   16226  1672531200         3          6         98         54         7   \n\n      mod2_kod  mod3_kod  mod4_kod  mod5_kod  mod6_kod  mod7_kod   \n0            4         2         0         0         0         0  \\\n1            4         2         0         0         0         0   \n2            4         2         0         0         0         0   \n3            4         2         0         0         0         0   \n4            4         2         0         0         0         0   \n...        ...       ...       ...       ...       ...       ...   \n7695         4         2         0         0         0         0   \n7696         4         2         0         0         0         0   \n7697         4         2         0         0         0         0   \n7698         4         2         0         0         0         0   \n7699         4         2         0         0         0         0   \n\n      road_id_send  gr_probeg  por_probeg  st_id_send  \n0               38      87913       37467       10522  \n1               38      87913       37467       10441  \n2               28      81824       45579        4789  \n3               28      81824       45579        4789  \n4               28      64130       34697        4789  \n...            ...        ...         ...         ...  \n7695            42      88690       60006       11552  \n7696            28      93198       53596        6168  \n7697            28      93198       53596        6168  \n7698             3      72453       38209         262  \n7699            43      71577       20493       11915  \n\n[48652 rows x 17 columns]",
      "text/html": "<div>\n<style scoped>\n    .dataframe tbody tr th:only-of-type {\n        vertical-align: middle;\n    }\n\n    .dataframe tbody tr th {\n        vertical-align: top;\n    }\n\n    .dataframe thead th {\n        text-align: right;\n    }\n</style>\n<table border=\"1\" class=\"dataframe\">\n  <thead>\n    <tr style=\"text-align: right;\">\n      <th></th>\n      <th>wagnum</th>\n      <th>rem_month</th>\n      <th>kod_vrab</th>\n      <th>neis1_kod</th>\n      <th>neis2_kod</th>\n      <th>neis3_kod</th>\n      <th>mod1_kod</th>\n      <th>mod2_kod</th>\n      <th>mod3_kod</th>\n      <th>mod4_kod</th>\n      <th>mod5_kod</th>\n      <th>mod6_kod</th>\n      <th>mod7_kod</th>\n      <th>road_id_send</th>\n      <th>gr_probeg</th>\n      <th>por_probeg</th>\n      <th>st_id_send</th>\n    </tr>\n  </thead>\n  <tbody>\n    <tr>\n      <th>0</th>\n      <td>29938</td>\n      <td>1659312000</td>\n      <td>3</td>\n      <td>0</td>\n      <td>98</td>\n      <td>54</td>\n      <td>7</td>\n      <td>4</td>\n      <td>2</td>\n      <td>0</td>\n      <td>0</td>\n      <td>0</td>\n      <td>0</td>\n      <td>38</td>\n      <td>87913</td>\n      <td>37467</td>\n      <td>10522</td>\n    </tr>\n    <tr>\n      <th>1</th>\n      <td>29938</td>\n      <td>1659312000</td>\n      <td>3</td>\n      <td>14</td>\n      <td>98</td>\n      <td>54</td>\n      <td>7</td>\n      <td>4</td>\n      <td>2</td>\n      <td>0</td>\n      <td>0</td>\n      <td>0</td>\n      <td>0</td>\n      <td>38</td>\n      <td>87913</td>\n      <td>37467</td>\n      <td>10441</td>\n    </tr>\n    <tr>\n      <th>2</th>\n      <td>29852</td>\n      <td>1659312000</td>\n      <td>2</td>\n      <td>0</td>\n      <td>98</td>\n      <td>54</td>\n      <td>7</td>\n      <td>4</td>\n      <td>2</td>\n      <td>0</td>\n      <td>0</td>\n      <td>0</td>\n      <td>0</td>\n      <td>28</td>\n      <td>81824</td>\n      <td>45579</td>\n      <td>4789</td>\n    </tr>\n    <tr>\n      <th>3</th>\n      <td>29852</td>\n      <td>1659312000</td>\n      <td>2</td>\n      <td>36</td>\n      <td>98</td>\n      <td>54</td>\n      <td>7</td>\n      <td>4</td>\n      <td>2</td>\n      <td>0</td>\n      <td>0</td>\n      <td>0</td>\n      <td>0</td>\n      <td>28</td>\n      <td>81824</td>\n      <td>45579</td>\n      <td>4789</td>\n    </tr>\n    <tr>\n      <th>4</th>\n      <td>13674</td>\n      <td>1659312000</td>\n      <td>2</td>\n      <td>95</td>\n      <td>98</td>\n      <td>54</td>\n      <td>7</td>\n      <td>4</td>\n      <td>2</td>\n      <td>0</td>\n      <td>0</td>\n      <td>0</td>\n      <td>0</td>\n      <td>28</td>\n      <td>64130</td>\n      <td>34697</td>\n      <td>4789</td>\n    </tr>\n    <tr>\n      <th>...</th>\n      <td>...</td>\n      <td>...</td>\n      <td>...</td>\n      <td>...</td>\n      <td>...</td>\n      <td>...</td>\n      <td>...</td>\n      <td>...</td>\n      <td>...</td>\n      <td>...</td>\n      <td>...</td>\n      <td>...</td>\n      <td>...</td>\n      <td>...</td>\n      <td>...</td>\n      <td>...</td>\n      <td>...</td>\n    </tr>\n    <tr>\n      <th>7695</th>\n      <td>31868</td>\n      <td>1672531200</td>\n      <td>3</td>\n      <td>14</td>\n      <td>98</td>\n      <td>54</td>\n      <td>7</td>\n      <td>4</td>\n      <td>2</td>\n      <td>0</td>\n      <td>0</td>\n      <td>0</td>\n      <td>0</td>\n      <td>42</td>\n      <td>88690</td>\n      <td>60006</td>\n      <td>11552</td>\n    </tr>\n    <tr>\n      <th>7696</th>\n      <td>22921</td>\n      <td>1672531200</td>\n      <td>5</td>\n      <td>0</td>\n      <td>98</td>\n      <td>54</td>\n      <td>7</td>\n      <td>4</td>\n      <td>2</td>\n      <td>0</td>\n      <td>0</td>\n      <td>0</td>\n      <td>0</td>\n      <td>28</td>\n      <td>93198</td>\n      <td>53596</td>\n      <td>6168</td>\n    </tr>\n    <tr>\n      <th>7697</th>\n      <td>22921</td>\n      <td>1672531200</td>\n      <td>3</td>\n      <td>34</td>\n      <td>95</td>\n      <td>54</td>\n      <td>7</td>\n      <td>4</td>\n      <td>2</td>\n      <td>0</td>\n      <td>0</td>\n      <td>0</td>\n      <td>0</td>\n      <td>28</td>\n      <td>93198</td>\n      <td>53596</td>\n      <td>6168</td>\n    </tr>\n    <tr>\n      <th>7698</th>\n      <td>4978</td>\n      <td>1672531200</td>\n      <td>3</td>\n      <td>131</td>\n      <td>68</td>\n      <td>54</td>\n      <td>7</td>\n      <td>4</td>\n      <td>2</td>\n      <td>0</td>\n      <td>0</td>\n      <td>0</td>\n      <td>0</td>\n      <td>3</td>\n      <td>72453</td>\n      <td>38209</td>\n      <td>262</td>\n    </tr>\n    <tr>\n      <th>7699</th>\n      <td>16226</td>\n      <td>1672531200</td>\n      <td>3</td>\n      <td>6</td>\n      <td>98</td>\n      <td>54</td>\n      <td>7</td>\n      <td>4</td>\n      <td>2</td>\n      <td>0</td>\n      <td>0</td>\n      <td>0</td>\n      <td>0</td>\n      <td>43</td>\n      <td>71577</td>\n      <td>20493</td>\n      <td>11915</td>\n    </tr>\n  </tbody>\n</table>\n<p>48652 rows × 17 columns</p>\n</div>"
     },
     "execution_count": 46,
     "metadata": {},
     "output_type": "execute_result"
    }
   ],
   "source": [
    "tr_rem"
   ],
   "metadata": {
    "collapsed": false
   }
  },
  {
   "cell_type": "code",
   "execution_count": 47,
   "outputs": [
    {
     "data": {
      "text/plain": "17849"
     },
     "execution_count": 47,
     "metadata": {},
     "output_type": "execute_result"
    }
   ],
   "source": [
    "unique_values_count = tr_rem['wagnum'].nunique()\n",
    "unique_values_count"
   ],
   "metadata": {
    "collapsed": false
   }
  },
  {
   "cell_type": "code",
   "execution_count": 49,
   "outputs": [
    {
     "name": "stdout",
     "output_type": "stream",
     "text": [
      "       wagnum   rem_month  kod_vrab  neis1_kod  neis2_kod  neis3_kod   \n",
      "0       16226  1672531200         3          6         98         54  \\\n",
      "1        9553  1672531200         2         37         98         54   \n",
      "2        5719  1672531200         3          6         19         51   \n",
      "3       16443  1672531200         3          2         98         54   \n",
      "4       17827  1672531200         3          0         98         54   \n",
      "...       ...         ...       ...        ...        ...        ...   \n",
      "17844   30184  1659312000         2          0         98         54   \n",
      "17845   23245  1659312000         3          0         98         54   \n",
      "17846   29416  1659312000         5          0         98         54   \n",
      "17847    6290  1659312000         2          0         98         54   \n",
      "17848   19956  1659312000         3          0         98         54   \n",
      "\n",
      "       mod1_kod  mod2_kod  mod3_kod  mod4_kod  mod5_kod  mod6_kod  mod7_kod   \n",
      "0             7         4         2         0         0         0         0  \\\n",
      "1             7         4         2         0         0         0         0   \n",
      "2             7         4         2         0         0         0         0   \n",
      "3             7         4         2         0         0         0         0   \n",
      "4             7         4         2         0         0         0         0   \n",
      "...         ...       ...       ...       ...       ...       ...       ...   \n",
      "17844         7         4         2         0         0         0         0   \n",
      "17845         7         4         2         0         0         0         0   \n",
      "17846         7         4         2         0         0         0         0   \n",
      "17847         7         4         2         0         0         0         0   \n",
      "17848         7         4         2         0         0         0         0   \n",
      "\n",
      "       road_id_send  gr_probeg  por_probeg  st_id_send  \n",
      "0                43      71577       20493       11915  \n",
      "1                25      34104        8187        5234  \n",
      "2                42      98308       56779       11464  \n",
      "3                 3     110746       37421         457  \n",
      "4                42      42192       14857       11413  \n",
      "...             ...        ...         ...         ...  \n",
      "17844            16      76577       34826        4169  \n",
      "17845            28      55202       21818        4790  \n",
      "17846            30     116659       36505       12627  \n",
      "17847             3      62849       33069         848  \n",
      "17848            38      85569       42821        9753  \n",
      "\n",
      "[17849 rows x 17 columns]\n"
     ]
    }
   ],
   "source": [
    "tr_rem.sort_values(by='rem_month', ascending=False, inplace=True)\n",
    "\n",
    "tr_rem = tr_rem.drop_duplicates(subset='wagnum', keep='first')\n",
    "\n",
    "tr_rem.reset_index(drop=True, inplace=True)"
   ],
   "metadata": {
    "collapsed": false
   }
  },
  {
   "cell_type": "code",
   "execution_count": 50,
   "outputs": [
    {
     "data": {
      "text/plain": "       wagnum   rem_month  kod_vrab  neis1_kod  neis2_kod  neis3_kod   \n0       16226  1672531200         3          6         98         54  \\\n1        9553  1672531200         2         37         98         54   \n2        5719  1672531200         3          6         19         51   \n3       16443  1672531200         3          2         98         54   \n4       17827  1672531200         3          0         98         54   \n...       ...         ...       ...        ...        ...        ...   \n17844   30184  1659312000         2          0         98         54   \n17845   23245  1659312000         3          0         98         54   \n17846   29416  1659312000         5          0         98         54   \n17847    6290  1659312000         2          0         98         54   \n17848   19956  1659312000         3          0         98         54   \n\n       mod1_kod  mod2_kod  mod3_kod  mod4_kod  mod5_kod  mod6_kod  mod7_kod   \n0             7         4         2         0         0         0         0  \\\n1             7         4         2         0         0         0         0   \n2             7         4         2         0         0         0         0   \n3             7         4         2         0         0         0         0   \n4             7         4         2         0         0         0         0   \n...         ...       ...       ...       ...       ...       ...       ...   \n17844         7         4         2         0         0         0         0   \n17845         7         4         2         0         0         0         0   \n17846         7         4         2         0         0         0         0   \n17847         7         4         2         0         0         0         0   \n17848         7         4         2         0         0         0         0   \n\n       road_id_send  gr_probeg  por_probeg  st_id_send  \n0                43      71577       20493       11915  \n1                25      34104        8187        5234  \n2                42      98308       56779       11464  \n3                 3     110746       37421         457  \n4                42      42192       14857       11413  \n...             ...        ...         ...         ...  \n17844            16      76577       34826        4169  \n17845            28      55202       21818        4790  \n17846            30     116659       36505       12627  \n17847             3      62849       33069         848  \n17848            38      85569       42821        9753  \n\n[17849 rows x 17 columns]",
      "text/html": "<div>\n<style scoped>\n    .dataframe tbody tr th:only-of-type {\n        vertical-align: middle;\n    }\n\n    .dataframe tbody tr th {\n        vertical-align: top;\n    }\n\n    .dataframe thead th {\n        text-align: right;\n    }\n</style>\n<table border=\"1\" class=\"dataframe\">\n  <thead>\n    <tr style=\"text-align: right;\">\n      <th></th>\n      <th>wagnum</th>\n      <th>rem_month</th>\n      <th>kod_vrab</th>\n      <th>neis1_kod</th>\n      <th>neis2_kod</th>\n      <th>neis3_kod</th>\n      <th>mod1_kod</th>\n      <th>mod2_kod</th>\n      <th>mod3_kod</th>\n      <th>mod4_kod</th>\n      <th>mod5_kod</th>\n      <th>mod6_kod</th>\n      <th>mod7_kod</th>\n      <th>road_id_send</th>\n      <th>gr_probeg</th>\n      <th>por_probeg</th>\n      <th>st_id_send</th>\n    </tr>\n  </thead>\n  <tbody>\n    <tr>\n      <th>0</th>\n      <td>16226</td>\n      <td>1672531200</td>\n      <td>3</td>\n      <td>6</td>\n      <td>98</td>\n      <td>54</td>\n      <td>7</td>\n      <td>4</td>\n      <td>2</td>\n      <td>0</td>\n      <td>0</td>\n      <td>0</td>\n      <td>0</td>\n      <td>43</td>\n      <td>71577</td>\n      <td>20493</td>\n      <td>11915</td>\n    </tr>\n    <tr>\n      <th>1</th>\n      <td>9553</td>\n      <td>1672531200</td>\n      <td>2</td>\n      <td>37</td>\n      <td>98</td>\n      <td>54</td>\n      <td>7</td>\n      <td>4</td>\n      <td>2</td>\n      <td>0</td>\n      <td>0</td>\n      <td>0</td>\n      <td>0</td>\n      <td>25</td>\n      <td>34104</td>\n      <td>8187</td>\n      <td>5234</td>\n    </tr>\n    <tr>\n      <th>2</th>\n      <td>5719</td>\n      <td>1672531200</td>\n      <td>3</td>\n      <td>6</td>\n      <td>19</td>\n      <td>51</td>\n      <td>7</td>\n      <td>4</td>\n      <td>2</td>\n      <td>0</td>\n      <td>0</td>\n      <td>0</td>\n      <td>0</td>\n      <td>42</td>\n      <td>98308</td>\n      <td>56779</td>\n      <td>11464</td>\n    </tr>\n    <tr>\n      <th>3</th>\n      <td>16443</td>\n      <td>1672531200</td>\n      <td>3</td>\n      <td>2</td>\n      <td>98</td>\n      <td>54</td>\n      <td>7</td>\n      <td>4</td>\n      <td>2</td>\n      <td>0</td>\n      <td>0</td>\n      <td>0</td>\n      <td>0</td>\n      <td>3</td>\n      <td>110746</td>\n      <td>37421</td>\n      <td>457</td>\n    </tr>\n    <tr>\n      <th>4</th>\n      <td>17827</td>\n      <td>1672531200</td>\n      <td>3</td>\n      <td>0</td>\n      <td>98</td>\n      <td>54</td>\n      <td>7</td>\n      <td>4</td>\n      <td>2</td>\n      <td>0</td>\n      <td>0</td>\n      <td>0</td>\n      <td>0</td>\n      <td>42</td>\n      <td>42192</td>\n      <td>14857</td>\n      <td>11413</td>\n    </tr>\n    <tr>\n      <th>...</th>\n      <td>...</td>\n      <td>...</td>\n      <td>...</td>\n      <td>...</td>\n      <td>...</td>\n      <td>...</td>\n      <td>...</td>\n      <td>...</td>\n      <td>...</td>\n      <td>...</td>\n      <td>...</td>\n      <td>...</td>\n      <td>...</td>\n      <td>...</td>\n      <td>...</td>\n      <td>...</td>\n      <td>...</td>\n    </tr>\n    <tr>\n      <th>17844</th>\n      <td>30184</td>\n      <td>1659312000</td>\n      <td>2</td>\n      <td>0</td>\n      <td>98</td>\n      <td>54</td>\n      <td>7</td>\n      <td>4</td>\n      <td>2</td>\n      <td>0</td>\n      <td>0</td>\n      <td>0</td>\n      <td>0</td>\n      <td>16</td>\n      <td>76577</td>\n      <td>34826</td>\n      <td>4169</td>\n    </tr>\n    <tr>\n      <th>17845</th>\n      <td>23245</td>\n      <td>1659312000</td>\n      <td>3</td>\n      <td>0</td>\n      <td>98</td>\n      <td>54</td>\n      <td>7</td>\n      <td>4</td>\n      <td>2</td>\n      <td>0</td>\n      <td>0</td>\n      <td>0</td>\n      <td>0</td>\n      <td>28</td>\n      <td>55202</td>\n      <td>21818</td>\n      <td>4790</td>\n    </tr>\n    <tr>\n      <th>17846</th>\n      <td>29416</td>\n      <td>1659312000</td>\n      <td>5</td>\n      <td>0</td>\n      <td>98</td>\n      <td>54</td>\n      <td>7</td>\n      <td>4</td>\n      <td>2</td>\n      <td>0</td>\n      <td>0</td>\n      <td>0</td>\n      <td>0</td>\n      <td>30</td>\n      <td>116659</td>\n      <td>36505</td>\n      <td>12627</td>\n    </tr>\n    <tr>\n      <th>17847</th>\n      <td>6290</td>\n      <td>1659312000</td>\n      <td>2</td>\n      <td>0</td>\n      <td>98</td>\n      <td>54</td>\n      <td>7</td>\n      <td>4</td>\n      <td>2</td>\n      <td>0</td>\n      <td>0</td>\n      <td>0</td>\n      <td>0</td>\n      <td>3</td>\n      <td>62849</td>\n      <td>33069</td>\n      <td>848</td>\n    </tr>\n    <tr>\n      <th>17848</th>\n      <td>19956</td>\n      <td>1659312000</td>\n      <td>3</td>\n      <td>0</td>\n      <td>98</td>\n      <td>54</td>\n      <td>7</td>\n      <td>4</td>\n      <td>2</td>\n      <td>0</td>\n      <td>0</td>\n      <td>0</td>\n      <td>0</td>\n      <td>38</td>\n      <td>85569</td>\n      <td>42821</td>\n      <td>9753</td>\n    </tr>\n  </tbody>\n</table>\n<p>17849 rows × 17 columns</p>\n</div>"
     },
     "execution_count": 50,
     "metadata": {},
     "output_type": "execute_result"
    }
   ],
   "source": [
    "tr_rem"
   ],
   "metadata": {
    "collapsed": false
   }
  },
  {
   "cell_type": "code",
   "execution_count": 30,
   "outputs": [],
   "source": [],
   "metadata": {
    "collapsed": false
   }
  }
 ],
 "metadata": {
  "kernelspec": {
   "display_name": "Python 3",
   "language": "python",
   "name": "python3"
  },
  "language_info": {
   "codemirror_mode": {
    "name": "ipython",
    "version": 2
   },
   "file_extension": ".py",
   "mimetype": "text/x-python",
   "name": "python",
   "nbconvert_exporter": "python",
   "pygments_lexer": "ipython2",
   "version": "2.7.6"
  }
 },
 "nbformat": 4,
 "nbformat_minor": 0
}
