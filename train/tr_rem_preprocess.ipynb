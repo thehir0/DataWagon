{
 "cells": [
  {
   "cell_type": "code",
   "execution_count": 10,
   "outputs": [],
   "source": [
    "import pandas as pd\n",
    "import sys\n",
    "sys.path.append('..')\n",
    "from src.split import split_train_val\n",
    "import numpy as np"
   ],
   "metadata": {
    "collapsed": false
   }
  },
  {
   "cell_type": "code",
   "execution_count": 11,
   "metadata": {
    "collapsed": true
   },
   "outputs": [],
   "source": [
    "path_train = r\"./\""
   ]
  },
  {
   "cell_type": "code",
   "execution_count": 12,
   "outputs": [],
   "source": [
    "# текущие ремонты вагонов\n",
    "tr_rem = pd.read_parquet(path_train + '/tr_rems.parquet').convert_dtypes()\n",
    "target = pd.read_csv(path_train +'/target/y_train.csv').convert_dtypes()"
   ],
   "metadata": {
    "collapsed": false
   }
  },
  {
   "cell_type": "code",
   "execution_count": 13,
   "outputs": [],
   "source": [
    "features = ['wagnum', 'month']\n",
    "labels = ['target_month', 'target_day']\n",
    "X_train, X_val, y_train, y_val = split_train_val(target, features, labels, 0.1, 42)"
   ],
   "metadata": {
    "collapsed": false
   }
  },
  {
   "cell_type": "code",
   "execution_count": 17,
   "outputs": [],
   "source": [
    "X_train.to_csv('X_train.csv')\n",
    "y_train.to_csv('y_train.csv')\n",
    "X_val.to_csv('X_val.csv')\n",
    "y_val.to_csv('y_val.csv')"
   ],
   "metadata": {
    "collapsed": false
   }
  },
  {
   "cell_type": "code",
   "execution_count": 5,
   "outputs": [
    {
     "data": {
      "text/plain": "1690848000"
     },
     "execution_count": 5,
     "metadata": {},
     "output_type": "execute_result"
    }
   ],
   "source": [
    "from datetime import datetime\n",
    "import pytz\n",
    "\n",
    "def date_to_timestamp(date_string: str) -> int:\n",
    "    date = datetime.strptime(date_string, '%Y-%m-%d')\n",
    "    utc = pytz.UTC\n",
    "    date_utc = utc.localize(date)\n",
    "    timestamp_seconds = int(date_utc.timestamp())\n",
    "    return timestamp_seconds\n",
    "\n",
    "def timestamp_to_date(timestamp: int) -> str:\n",
    "    date = datetime.utcfromtimestamp(timestamp)\n",
    "    date_string = date.strftime('%Y-%m-%d')\n",
    "    return date_string\n",
    "\n",
    "date_to_timestamp('2023-08-01')"
   ],
   "metadata": {
    "collapsed": false
   }
  },
  {
   "cell_type": "code",
   "execution_count": 7,
   "outputs": [
    {
     "data": {
      "text/plain": "        Unnamed: 0  wagnum       month\n0             2801    9383  1672531200\n1            73656   23269  1661990400\n2            19341   22338  1672531200\n3           167314   20819  1667260800\n4            76163   33877  1661990400\n...            ...     ...         ...\n183462      119879   19359  1664582400\n183463      103694   10552  1664582400\n183464      131932    3211  1664582400\n183465      146867   23676  1667260800\n183466      121958   16854  1664582400\n\n[183467 rows x 3 columns]",
      "text/html": "<div>\n<style scoped>\n    .dataframe tbody tr th:only-of-type {\n        vertical-align: middle;\n    }\n\n    .dataframe tbody tr th {\n        vertical-align: top;\n    }\n\n    .dataframe thead th {\n        text-align: right;\n    }\n</style>\n<table border=\"1\" class=\"dataframe\">\n  <thead>\n    <tr style=\"text-align: right;\">\n      <th></th>\n      <th>Unnamed: 0</th>\n      <th>wagnum</th>\n      <th>month</th>\n    </tr>\n  </thead>\n  <tbody>\n    <tr>\n      <th>0</th>\n      <td>2801</td>\n      <td>9383</td>\n      <td>1672531200</td>\n    </tr>\n    <tr>\n      <th>1</th>\n      <td>73656</td>\n      <td>23269</td>\n      <td>1661990400</td>\n    </tr>\n    <tr>\n      <th>2</th>\n      <td>19341</td>\n      <td>22338</td>\n      <td>1672531200</td>\n    </tr>\n    <tr>\n      <th>3</th>\n      <td>167314</td>\n      <td>20819</td>\n      <td>1667260800</td>\n    </tr>\n    <tr>\n      <th>4</th>\n      <td>76163</td>\n      <td>33877</td>\n      <td>1661990400</td>\n    </tr>\n    <tr>\n      <th>...</th>\n      <td>...</td>\n      <td>...</td>\n      <td>...</td>\n    </tr>\n    <tr>\n      <th>183462</th>\n      <td>119879</td>\n      <td>19359</td>\n      <td>1664582400</td>\n    </tr>\n    <tr>\n      <th>183463</th>\n      <td>103694</td>\n      <td>10552</td>\n      <td>1664582400</td>\n    </tr>\n    <tr>\n      <th>183464</th>\n      <td>131932</td>\n      <td>3211</td>\n      <td>1664582400</td>\n    </tr>\n    <tr>\n      <th>183465</th>\n      <td>146867</td>\n      <td>23676</td>\n      <td>1667260800</td>\n    </tr>\n    <tr>\n      <th>183466</th>\n      <td>121958</td>\n      <td>16854</td>\n      <td>1664582400</td>\n    </tr>\n  </tbody>\n</table>\n<p>183467 rows × 3 columns</p>\n</div>"
     },
     "execution_count": 7,
     "metadata": {},
     "output_type": "execute_result"
    }
   ],
   "source": [
    "X_train['month'] = X_train['month'].apply(date_to_timestamp)\n",
    "X_train"
   ],
   "metadata": {
    "collapsed": false
   }
  },
  {
   "cell_type": "code",
   "execution_count": 42,
   "outputs": [],
   "source": [
    "tr_rem['rem_month'] = tr_rem['rem_month'].astype(str)\n",
    "tr_rem['rem_month'] = tr_rem['rem_month'].apply(date_to_timestamp)"
   ],
   "metadata": {
    "collapsed": false
   }
  },
  {
   "cell_type": "code",
   "execution_count": 43,
   "outputs": [
    {
     "data": {
      "text/plain": "48652"
     },
     "execution_count": 43,
     "metadata": {},
     "output_type": "execute_result"
    }
   ],
   "source": [
    "len(tr_rem)"
   ],
   "metadata": {
    "collapsed": false
   }
  },
  {
   "cell_type": "code",
   "execution_count": 44,
   "outputs": [
    {
     "data": {
      "text/plain": "   wagnum   rem_month  kod_vrab  neis1_kod  neis2_kod  neis3_kod  mod1_kod   \n0   29938  1659312000         3          0         98         54         7  \\\n1   29938  1659312000         3         14         98         54         7   \n2   29852  1659312000         2          0         98         54         7   \n3   29852  1659312000         2         36         98         54         7   \n4   13674  1659312000         2         95         98         54         7   \n\n   mod2_kod  mod3_kod  mod4_kod  mod5_kod  mod6_kod  mod7_kod  road_id_send   \n0         4         2         0         0         0         0            38  \\\n1         4         2         0         0         0         0            38   \n2         4         2         0         0         0         0            28   \n3         4         2         0         0         0         0            28   \n4         4         2         0         0         0         0            28   \n\n   gr_probeg  por_probeg  st_id_send  \n0      87913       37467       10522  \n1      87913       37467       10441  \n2      81824       45579        4789  \n3      81824       45579        4789  \n4      64130       34697        4789  ",
      "text/html": "<div>\n<style scoped>\n    .dataframe tbody tr th:only-of-type {\n        vertical-align: middle;\n    }\n\n    .dataframe tbody tr th {\n        vertical-align: top;\n    }\n\n    .dataframe thead th {\n        text-align: right;\n    }\n</style>\n<table border=\"1\" class=\"dataframe\">\n  <thead>\n    <tr style=\"text-align: right;\">\n      <th></th>\n      <th>wagnum</th>\n      <th>rem_month</th>\n      <th>kod_vrab</th>\n      <th>neis1_kod</th>\n      <th>neis2_kod</th>\n      <th>neis3_kod</th>\n      <th>mod1_kod</th>\n      <th>mod2_kod</th>\n      <th>mod3_kod</th>\n      <th>mod4_kod</th>\n      <th>mod5_kod</th>\n      <th>mod6_kod</th>\n      <th>mod7_kod</th>\n      <th>road_id_send</th>\n      <th>gr_probeg</th>\n      <th>por_probeg</th>\n      <th>st_id_send</th>\n    </tr>\n  </thead>\n  <tbody>\n    <tr>\n      <th>0</th>\n      <td>29938</td>\n      <td>1659312000</td>\n      <td>3</td>\n      <td>0</td>\n      <td>98</td>\n      <td>54</td>\n      <td>7</td>\n      <td>4</td>\n      <td>2</td>\n      <td>0</td>\n      <td>0</td>\n      <td>0</td>\n      <td>0</td>\n      <td>38</td>\n      <td>87913</td>\n      <td>37467</td>\n      <td>10522</td>\n    </tr>\n    <tr>\n      <th>1</th>\n      <td>29938</td>\n      <td>1659312000</td>\n      <td>3</td>\n      <td>14</td>\n      <td>98</td>\n      <td>54</td>\n      <td>7</td>\n      <td>4</td>\n      <td>2</td>\n      <td>0</td>\n      <td>0</td>\n      <td>0</td>\n      <td>0</td>\n      <td>38</td>\n      <td>87913</td>\n      <td>37467</td>\n      <td>10441</td>\n    </tr>\n    <tr>\n      <th>2</th>\n      <td>29852</td>\n      <td>1659312000</td>\n      <td>2</td>\n      <td>0</td>\n      <td>98</td>\n      <td>54</td>\n      <td>7</td>\n      <td>4</td>\n      <td>2</td>\n      <td>0</td>\n      <td>0</td>\n      <td>0</td>\n      <td>0</td>\n      <td>28</td>\n      <td>81824</td>\n      <td>45579</td>\n      <td>4789</td>\n    </tr>\n    <tr>\n      <th>3</th>\n      <td>29852</td>\n      <td>1659312000</td>\n      <td>2</td>\n      <td>36</td>\n      <td>98</td>\n      <td>54</td>\n      <td>7</td>\n      <td>4</td>\n      <td>2</td>\n      <td>0</td>\n      <td>0</td>\n      <td>0</td>\n      <td>0</td>\n      <td>28</td>\n      <td>81824</td>\n      <td>45579</td>\n      <td>4789</td>\n    </tr>\n    <tr>\n      <th>4</th>\n      <td>13674</td>\n      <td>1659312000</td>\n      <td>2</td>\n      <td>95</td>\n      <td>98</td>\n      <td>54</td>\n      <td>7</td>\n      <td>4</td>\n      <td>2</td>\n      <td>0</td>\n      <td>0</td>\n      <td>0</td>\n      <td>0</td>\n      <td>28</td>\n      <td>64130</td>\n      <td>34697</td>\n      <td>4789</td>\n    </tr>\n  </tbody>\n</table>\n</div>"
     },
     "execution_count": 44,
     "metadata": {},
     "output_type": "execute_result"
    }
   ],
   "source": [
    "tr_rem.head(5)"
   ],
   "metadata": {
    "collapsed": false
   }
  },
  {
   "cell_type": "code",
   "execution_count": 49,
   "outputs": [],
   "source": [
    "import pandas as pd\n",
    "\n",
    "train = pd.concat([X_train, y_train], axis=1)"
   ],
   "metadata": {
    "collapsed": false
   }
  },
  {
   "cell_type": "code",
   "execution_count": 50,
   "outputs": [
    {
     "data": {
      "text/plain": "        wagnum       month  target_month  target_day\n0         9383  2023-01-01             0           0\n1        23269  2022-09-01             0           0\n2        22338  2023-01-01             0           0\n3        20819  2022-11-01             0           0\n4        33877  2022-09-01             0           0\n...        ...         ...           ...         ...\n183462   19359  2022-10-01             0           0\n183463   10552  2022-10-01             0           0\n183464    3211  2022-10-01             0           0\n183465   23676  2022-11-01             0           0\n183466   16854  2022-10-01             1           0\n\n[183467 rows x 4 columns]",
      "text/html": "<div>\n<style scoped>\n    .dataframe tbody tr th:only-of-type {\n        vertical-align: middle;\n    }\n\n    .dataframe tbody tr th {\n        vertical-align: top;\n    }\n\n    .dataframe thead th {\n        text-align: right;\n    }\n</style>\n<table border=\"1\" class=\"dataframe\">\n  <thead>\n    <tr style=\"text-align: right;\">\n      <th></th>\n      <th>wagnum</th>\n      <th>month</th>\n      <th>target_month</th>\n      <th>target_day</th>\n    </tr>\n  </thead>\n  <tbody>\n    <tr>\n      <th>0</th>\n      <td>9383</td>\n      <td>2023-01-01</td>\n      <td>0</td>\n      <td>0</td>\n    </tr>\n    <tr>\n      <th>1</th>\n      <td>23269</td>\n      <td>2022-09-01</td>\n      <td>0</td>\n      <td>0</td>\n    </tr>\n    <tr>\n      <th>2</th>\n      <td>22338</td>\n      <td>2023-01-01</td>\n      <td>0</td>\n      <td>0</td>\n    </tr>\n    <tr>\n      <th>3</th>\n      <td>20819</td>\n      <td>2022-11-01</td>\n      <td>0</td>\n      <td>0</td>\n    </tr>\n    <tr>\n      <th>4</th>\n      <td>33877</td>\n      <td>2022-09-01</td>\n      <td>0</td>\n      <td>0</td>\n    </tr>\n    <tr>\n      <th>...</th>\n      <td>...</td>\n      <td>...</td>\n      <td>...</td>\n      <td>...</td>\n    </tr>\n    <tr>\n      <th>183462</th>\n      <td>19359</td>\n      <td>2022-10-01</td>\n      <td>0</td>\n      <td>0</td>\n    </tr>\n    <tr>\n      <th>183463</th>\n      <td>10552</td>\n      <td>2022-10-01</td>\n      <td>0</td>\n      <td>0</td>\n    </tr>\n    <tr>\n      <th>183464</th>\n      <td>3211</td>\n      <td>2022-10-01</td>\n      <td>0</td>\n      <td>0</td>\n    </tr>\n    <tr>\n      <th>183465</th>\n      <td>23676</td>\n      <td>2022-11-01</td>\n      <td>0</td>\n      <td>0</td>\n    </tr>\n    <tr>\n      <th>183466</th>\n      <td>16854</td>\n      <td>2022-10-01</td>\n      <td>1</td>\n      <td>0</td>\n    </tr>\n  </tbody>\n</table>\n<p>183467 rows × 4 columns</p>\n</div>"
     },
     "execution_count": 50,
     "metadata": {},
     "output_type": "execute_result"
    }
   ],
   "source": [
    "train"
   ],
   "metadata": {
    "collapsed": false
   }
  },
  {
   "cell_type": "code",
   "execution_count": null,
   "outputs": [],
   "source": [],
   "metadata": {
    "collapsed": false
   }
  }
 ],
 "metadata": {
  "kernelspec": {
   "display_name": "Python 3",
   "language": "python",
   "name": "python3"
  },
  "language_info": {
   "codemirror_mode": {
    "name": "ipython",
    "version": 2
   },
   "file_extension": ".py",
   "mimetype": "text/x-python",
   "name": "python",
   "nbconvert_exporter": "python",
   "pygments_lexer": "ipython2",
   "version": "2.7.6"
  }
 },
 "nbformat": 4,
 "nbformat_minor": 0
}
