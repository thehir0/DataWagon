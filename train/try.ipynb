{
 "cells": [
  {
   "cell_type": "code",
   "execution_count": 1,
   "metadata": {
    "collapsed": false
   },
   "outputs": [
    {
     "name": "stdout",
     "output_type": "stream",
     "text": [
      "baseline_score = 0.23121339736861674\n"
     ]
    }
   ],
   "source": [
    "import gc\n",
    "import os\n",
    "import sys\n",
    "sys.path.append('..')\n",
    "import numpy as np\n",
    "import pandas as pd\n",
    "from tqdm import tqdm\n",
    "import catboost as cb\n",
    "from datetime import datetime\n",
    "from sklearn.metrics import f1_score\n",
    "\n",
    "from utils import seed_everything\n",
    "from metrics_f1 import calc_f1_score\n",
    "\n",
    "DATA_ROOT = r\"./\"\n",
    "WEIGHTS_ROOT = \"weights\"\n",
    "os.makedirs(WEIGHTS_ROOT, exist_ok=True)\n",
    "\n",
    "SEED = 28\n",
    "\n",
    "seed_everything(SEED)\n",
    "date = str(datetime.now()).split('.')[0].replace(':','_').replace(' ','__').replace('-','_')\n",
    "\n",
    "gt_path = 'prediction/target_predicton_true.csv'\n",
    "pred_path = 'prediction/target_predicton.csv'\n",
    "\n",
    "baseline_score = calc_f1_score(gt_path, pred_path)\n",
    "print(f\"{baseline_score = }\")"
   ]
  },
  {
   "cell_type": "code",
   "execution_count": 2,
   "metadata": {
    "collapsed": false
   },
   "outputs": [],
   "source": [
    "numerical_features, categorical_features, text_features = [], [], []\n",
    "months_val = [pd.to_datetime('2022-12-01')]"
   ]
  },
  {
   "cell_type": "code",
   "execution_count": 3,
   "metadata": {
    "collapsed": false
   },
   "outputs": [
    {
     "name": "stdout",
     "output_type": "stream",
     "text": [
      "month\n",
      "2022-12-01    33977\n",
      "2022-09-01    33976\n",
      "2022-10-01    33976\n",
      "2022-11-01    33976\n",
      "2022-08-01    33975\n",
      "2023-01-01    33973\n",
      "2023-02-01    33708\n",
      "Name: count, dtype: int64\n"
     ]
    },
    {
     "data": {
      "text/plain": [
       "0"
      ]
     },
     "execution_count": 3,
     "metadata": {},
     "output_type": "execute_result"
    }
   ],
   "source": [
    "target1_df = pd.read_csv('target/y_train.csv').convert_dtypes()\n",
    "target2_df = pd.read_csv('../train2/target/y_test.csv').convert_dtypes()\n",
    "\n",
    "target_df = pd.concat([target1_df, target2_df])\n",
    "target_df = target_df.sort_values(by=[\"wagnum\", \"month\"])\n",
    "target_df = target_df.drop_duplicates(ignore_index=True)\n",
    "target_df.month = pd.to_datetime(target_df.month)\n",
    "\n",
    "print(target_df[\"month\"].value_counts())\n",
    "\n",
    "del target1_df, target2_df\n",
    "gc.collect()"
   ]
  },
  {
   "cell_type": "code",
   "execution_count": 4,
   "metadata": {
    "collapsed": false
   },
   "outputs": [
    {
     "data": {
      "text/plain": [
       "20"
      ]
     },
     "execution_count": 4,
     "metadata": {},
     "output_type": "execute_result"
    }
   ],
   "source": [
    "wag_prob1_df = pd.read_parquet('wagons_probeg_ownersip.parquet').convert_dtypes()\n",
    "wag_prob2_df = pd.read_parquet('wagons_probeg_ownersip.parquet').convert_dtypes()\n",
    "\n",
    "wag_prob_df = pd.concat([wag_prob1_df, wag_prob2_df])\n",
    "wag_prob_df = wag_prob_df.sort_values(by=[\"wagnum\", \"repdate\"])\n",
    "wag_prob_df = wag_prob_df.drop_duplicates(ignore_index=True)\n",
    "wag_prob_df = wag_prob_df.drop(columns=[\"month\"])\n",
    "\n",
    "del wag_prob1_df, wag_prob2_df\n",
    "gc.collect()"
   ]
  },
  {
   "cell_type": "code",
   "execution_count": 5,
   "metadata": {
    "collapsed": false
   },
   "outputs": [
    {
     "data": {
      "text/plain": [
       "0"
      ]
     },
     "execution_count": 5,
     "metadata": {},
     "output_type": "execute_result"
    }
   ],
   "source": [
    "dislok1_df = pd.read_parquet('dislok_wagons.parquet').convert_dtypes()\n",
    "dislok2_df = pd.read_parquet('dislok_wagons.parquet').convert_dtypes()\n",
    "\n",
    "dislok_df = pd.concat([dislok1_df, dislok2_df])\n",
    "dislok_df = dislok_df.sort_values(by=[\"wagnum\", \"plan_date\"])\n",
    "dislok_df = dislok_df.drop_duplicates(ignore_index=True)\n",
    "\n",
    "del dislok1_df, dislok2_df\n",
    "gc.collect()"
   ]
  },
  {
   "cell_type": "code",
   "execution_count": 6,
   "metadata": {
    "collapsed": false
   },
   "outputs": [
    {
     "data": {
      "text/plain": [
       "0"
      ]
     },
     "execution_count": 6,
     "metadata": {},
     "output_type": "execute_result"
    }
   ],
   "source": [
    "wag_param1_df = pd.read_parquet('wag_params.parquet').convert_dtypes()\n",
    "wag_param2_df = pd.read_parquet('wag_params.parquet').convert_dtypes()\n",
    "\n",
    "wag_param_df = pd.concat([wag_param1_df, wag_param2_df])\n",
    "wag_param_df = wag_param_df.sort_values(by=[\"wagnum\"])\n",
    "wag_param_df = wag_param_df.drop_duplicates(ignore_index=True)\n",
    "\n",
    "del wag_param1_df, wag_param2_df\n",
    "gc.collect()"
   ]
  },
  {
   "cell_type": "code",
   "execution_count": 7,
   "metadata": {
    "collapsed": false
   },
   "outputs": [
    {
     "data": {
      "text/plain": [
       "0"
      ]
     },
     "execution_count": 7,
     "metadata": {},
     "output_type": "execute_result"
    }
   ],
   "source": [
    "pr_rem1_df = pd.read_parquet('pr_rems.parquet').convert_dtypes()\n",
    "pr_rem2_df = pd.read_parquet('pr_rems.parquet').convert_dtypes()\n",
    "\n",
    "pr_rem_df = pd.concat([pr_rem1_df, pr_rem2_df])\n",
    "pr_rem_df = pr_rem_df.sort_values(by=[\"wagnum\", \"rem_month\"])\n",
    "pr_rem_df = pr_rem_df.drop_duplicates(ignore_index=True)\n",
    "\n",
    "del pr_rem1_df, pr_rem2_df\n",
    "gc.collect()"
   ]
  },
  {
   "cell_type": "code",
   "execution_count": 8,
   "metadata": {
    "collapsed": false
   },
   "outputs": [
    {
     "data": {
      "text/plain": [
       "0"
      ]
     },
     "execution_count": 8,
     "metadata": {},
     "output_type": "execute_result"
    }
   ],
   "source": [
    "tr_rem1_df = pd.read_parquet('tr_rems.parquet').convert_dtypes()\n",
    "tr_rem2_df = pd.read_parquet('tr_rems.parquet').convert_dtypes()\n",
    "\n",
    "tr_rem_df = pd.concat([tr_rem1_df, tr_rem2_df])\n",
    "tr_rem_df = tr_rem_df.sort_values(by=[\"wagnum\", \"rem_month\"])\n",
    "tr_rem_df = tr_rem_df.drop_duplicates(ignore_index=True)\n",
    "\n",
    "del tr_rem1_df, tr_rem2_df\n",
    "gc.collect()"
   ]
  },
  {
   "cell_type": "code",
   "execution_count": 9,
   "metadata": {
    "collapsed": false
   },
   "outputs": [
    {
     "data": {
      "text/plain": [
       "0"
      ]
     },
     "execution_count": 9,
     "metadata": {},
     "output_type": "execute_result"
    }
   ],
   "source": [
    "kti_izm1_df = pd.read_parquet('kti_izm.parquet').convert_dtypes()\n",
    "kti_izm2_df = pd.read_parquet('kti_izm.parquet').convert_dtypes()\n",
    "\n",
    "kti_izm_df = pd.concat([kti_izm1_df, kti_izm2_df])\n",
    "kti_izm_df = kti_izm_df.sort_values(by=[\"wagnum\", \"operation_date_dttm\"])\n",
    "kti_izm_df = kti_izm_df.drop_duplicates(ignore_index=True)\n",
    "kti_izm_df[\"operation_date_dttm\"] = kti_izm_df[\"operation_date_dttm\"].apply(lambda x: datetime.fromtimestamp(int(str(x)[:-9])).replace(hour=0, minute=0, second=0, microsecond=0))\n",
    "\n",
    "del kti_izm1_df, kti_izm2_df\n",
    "gc.collect()"
   ]
  },
  {
   "cell_type": "code",
   "execution_count": 10,
   "metadata": {
    "collapsed": false
   },
   "outputs": [
    {
     "data": {
      "text/plain": [
       "0"
      ]
     },
     "execution_count": 10,
     "metadata": {},
     "output_type": "execute_result"
    }
   ],
   "source": [
    "freight_info1_df = pd.read_parquet('freight_info.parquet').convert_dtypes()\n",
    "freight_info2_df = pd.read_parquet('freight_info.parquet').convert_dtypes()\n",
    "\n",
    "freight_info_df = pd.concat([freight_info1_df, freight_info2_df])\n",
    "freight_info_df = freight_info_df.sort_values(by=[\"fr_id\"])\n",
    "freight_info_df = freight_info_df.drop_duplicates(ignore_index=True)\n",
    "\n",
    "del freight_info1_df, freight_info2_df\n",
    "gc.collect()"
   ]
  },
  {
   "cell_type": "code",
   "execution_count": 11,
   "metadata": {
    "collapsed": false
   },
   "outputs": [
    {
     "data": {
      "text/plain": [
       "0"
      ]
     },
     "execution_count": 11,
     "metadata": {},
     "output_type": "execute_result"
    }
   ],
   "source": [
    "stations1_df = pd.read_parquet('stations.parquet').convert_dtypes()\n",
    "stations2_df = pd.read_parquet('stations.parquet').convert_dtypes()\n",
    "\n",
    "stations_df = pd.concat([stations1_df, stations2_df])\n",
    "stations_df = stations_df.sort_values(by=[\"st_id\"])\n",
    "stations_df = stations_df.drop_duplicates(ignore_index=True)\n",
    "\n",
    "del stations1_df, stations2_df\n",
    "gc.collect()"
   ]
  },
  {
   "cell_type": "code",
   "execution_count": 12,
   "metadata": {
    "collapsed": false,
    "pycharm": {
     "is_executing": true
    }
   },
   "outputs": [],
   "source": [
    "df = pd.merge(target_df, wag_prob_df, how='left', on=[\"wagnum\"])\n",
    "df = df.drop(df[df[\"repdate\"] > df[\"month\"]].index)\n",
    "df = df.sort_values(by=[\"wagnum\", \"month\", \"repdate\"])\n",
    "df = df.groupby([\"wagnum\", \"month\"]).last().reset_index()\n",
    "df = df.fillna(-1)\n",
    "\n",
    "df[\"ost_prob\"] = df[\"ost_prob\"].astype(int)\n",
    "df[\"manage_type\"] = df[\"manage_type\"].astype(int)\n",
    "df[\"rod_id\"] = df[\"rod_id\"].astype(int)\n",
    "df[\"reestr_state\"] = df[\"reestr_state\"].astype(int)\n",
    "numerical_features.extend([\"ost_prob\", \"manage_type\", \"rod_id\", \"reestr_state\"])"
   ]
  },
  {
   "cell_type": "code",
   "execution_count": 13,
   "metadata": {
    "collapsed": false
   },
   "outputs": [],
   "source": [
    "def fit_cb(df, params, months_val, target_name):\n",
    "\n",
    "    x_train = df[~df[\"month\"].isin(months_val)][numerical_features + categorical_features + text_features]\n",
    "    x_val = df[df[\"month\"].isin(months_val)][numerical_features + categorical_features + text_features]\n",
    "\n",
    "    y_train = df[~df[\"month\"].isin(months_val)][target_name]\n",
    "    y_val = df[df[\"month\"].isin(months_val)][target_name]\n",
    "    print(f\"Train class imbalance: {y_train.value_counts()}\")\n",
    "    print(f\"Val class imbalance: {y_val.value_counts()}\")\n",
    "\n",
    "    train_pool = cb.Pool(\n",
    "        data = x_train,\n",
    "        label = y_train,\n",
    "        cat_features = categorical_features,\n",
    "        text_features = text_features\n",
    "    )\n",
    "\n",
    "    eval_pool = cb.Pool(\n",
    "        data = x_val,\n",
    "        label = y_val,\n",
    "        cat_features = categorical_features,\n",
    "        text_features = text_features\n",
    "    )\n",
    "\n",
    "    model = cb.CatBoostClassifier(**params)\n",
    "\n",
    "    model.fit(\n",
    "        train_pool,\n",
    "        eval_set=eval_pool,\n",
    "        verbose=True\n",
    "    )\n",
    "    print(\"best results (train on train):\")\n",
    "    print(model.get_best_score()[\"learn\"])\n",
    "    print(\"best results (on validation set):\")\n",
    "    print(model.get_best_score()[\"validation\"])\n",
    "    print(model.get_feature_importance(data=train_pool, prettified=True))\n",
    "\n",
    "    return model"
   ]
  },
  {
   "cell_type": "code",
   "execution_count": 16,
   "metadata": {
    "collapsed": false
   },
   "outputs": [
    {
     "name": "stdout",
     "output_type": "stream",
     "text": [
      "Train class imbalance: target_month\n",
      "0    193178\n",
      "1     10405\n",
      "Name: count, dtype: Int64\n",
      "Val class imbalance: target_month\n",
      "0    32393\n",
      "1     1584\n",
      "Name: count, dtype: Int64\n",
      "0:\tlearn: 0.6215861\ttest: 0.6186859\tbest: 0.6186859 (0)\ttotal: 72.4ms\tremaining: 2m 24s\n",
      "500:\tlearn: 0.1024499\ttest: 0.0927711\tbest: 0.0927711 (500)\ttotal: 5.96s\tremaining: 17.8s\n",
      "1000:\tlearn: 0.1021366\ttest: 0.0928816\tbest: 0.0927711 (500)\ttotal: 11.8s\tremaining: 11.8s\n",
      "1500:\tlearn: 0.1019929\ttest: 0.0929431\tbest: 0.0927711 (500)\ttotal: 17.8s\tremaining: 5.9s\n",
      "1999:\tlearn: 0.1019221\ttest: 0.0929870\tbest: 0.0927711 (500)\ttotal: 23.3s\tremaining: 0us\n",
      "\n",
      "bestTest = 0.09277114193\n",
      "bestIteration = 500\n",
      "\n",
      "Shrink model to first 501 iterations.\n",
      "best results (train on train):\n",
      "{'Accuracy': 0.9591370595776662, 'F1': 0.4778816590324402, 'CrossEntropy': 0.10192207208890892}\n",
      "best results (on validation set):\n",
      "{'Accuracy': 0.962886658622009, 'F1': 0.49194847020933974, 'CrossEntropy': 0.09277114193049793, 'AUC': 0.9609464625884069}\n",
      "     Feature Id  Importances\n",
      "0      ost_prob    87.189835\n",
      "1        rod_id     9.997654\n",
      "2   manage_type     2.771252\n",
      "3  reestr_state     0.041259\n",
      "Train class imbalance: target_day\n",
      "0    200261\n",
      "1      3322\n",
      "Name: count, dtype: Int64\n",
      "Val class imbalance: target_day\n",
      "0    33407\n",
      "1      570\n",
      "Name: count, dtype: Int64\n",
      "0:\tlearn: 0.6156596\ttest: 0.6128618\tbest: 0.6128618 (0)\ttotal: 14.8ms\tremaining: 29.5s\n",
      "500:\tlearn: 0.0483249\ttest: 0.0488007\tbest: 0.0488007 (500)\ttotal: 5.85s\tremaining: 17.5s\n",
      "1000:\tlearn: 0.0481155\ttest: 0.0490390\tbest: 0.0488007 (500)\ttotal: 11.9s\tremaining: 11.9s\n",
      "1500:\tlearn: 0.0480514\ttest: 0.0490977\tbest: 0.0488007 (500)\ttotal: 17.3s\tremaining: 5.76s\n",
      "1999:\tlearn: 0.0480148\ttest: 0.0491281\tbest: 0.0488007 (500)\ttotal: 23s\tremaining: 0us\n",
      "\n",
      "bestTest = 0.04880065737\n",
      "bestIteration = 500\n",
      "\n",
      "Shrink model to first 501 iterations.\n",
      "best results (train on train):\n",
      "{'Accuracy': 0.9840310831454493, 'F1': 0.1597311966916516, 'CrossEntropy': 0.04801483512912199}\n",
      "best results (on validation set):\n",
      "{'Accuracy': 0.9835182623539453, 'F1': 0.16666666666666669, 'CrossEntropy': 0.04880065737068526, 'AUC': 0.955819323505579}\n",
      "     Feature Id  Importances\n",
      "0      ost_prob    82.149588\n",
      "1        rod_id    15.558950\n",
      "2   manage_type     2.240241\n",
      "3  reestr_state     0.051221\n"
     ]
    }
   ],
   "source": [
    "cb_params  = {\n",
    "    'iterations': 2000,\n",
    "    'loss_function': 'CrossEntropy',\n",
    "    'custom_metric': ['AUC', 'Accuracy', 'F1'],\n",
    "    'verbose': False,\n",
    "    'random_seed': SEED,\n",
    "    \"task_type\": \"CPU\",\n",
    "    \"has_time\": True,\n",
    "    \"metric_period\": 500,\n",
    "    \"save_snapshot\": False,\n",
    "    \"use_best_model\": True,\n",
    "}\n",
    "\n",
    "cb_month_model = fit_cb(df, cb_params, months_val=months_val, target_name=\"target_month\")\n",
    "cb_10days_model = fit_cb(df, cb_params, months_val=months_val, target_name=\"target_day\")"
   ]
  },
  {
   "cell_type": "code",
   "execution_count": 17,
   "metadata": {
    "collapsed": false
   },
   "outputs": [],
   "source": [
    "x_val = df[df[\"month\"].isin(months_val)][numerical_features + categorical_features + text_features]\n",
    "\n",
    "pred_month = cb_month_model.predict(x_val)\n",
    "pred_10days = cb_10days_model.predict(x_val)"
   ]
  },
  {
   "cell_type": "code",
   "execution_count": 18,
   "metadata": {
    "collapsed": false
   },
   "outputs": [],
   "source": [
    "val_df = pd.DataFrame({\"wagnum\": df[df[\"month\"].isin(months_val)][\"wagnum\"]})\n",
    "val_df[\"target_month\"] = pred_month\n",
    "val_df[\"target_day\"] = pred_10days"
   ]
  },
  {
   "cell_type": "code",
   "execution_count": 19,
   "metadata": {
    "collapsed": false
   },
   "outputs": [
    {
     "name": "stdout",
     "output_type": "stream",
     "text": [
      "cv_score = 0.32735441156600464\n"
     ]
    }
   ],
   "source": [
    "def my_calc_f1_score(gt_path, pred_df):\n",
    "\n",
    "    pred_labels = pred_df.sort_values(by=[\"wagnum\"])\n",
    "\n",
    "    true_labels = pd.read_csv(gt_path)\n",
    "    true_labels = true_labels.sort_values(by=[\"wagnum\"])\n",
    "\n",
    "    # Таргет для месячного прогноза\n",
    "    true_labels_month = true_labels['target_month'].values\n",
    "    pred_labels_month = pred_labels['target_month'].values\n",
    "\n",
    "    # Таргет для 10 дневного прогноза\n",
    "    true_labels_day = true_labels['target_day'].values\n",
    "    pred_labels_day = pred_labels['target_day'].values\n",
    "\n",
    "    # Посчитаем метрику для месяца и 10 дней\n",
    "    score_month = f1_score(true_labels_month, pred_labels_month)\n",
    "    score_day = f1_score(true_labels_day, pred_labels_day)\n",
    "\n",
    "    # Посчитаем метрику с весом для двух таргетов\n",
    "    score = 0.5 * score_month + 0.5 * score_day\n",
    "    return score\n",
    "\n",
    "cv_score = my_calc_f1_score(gt_path, val_df)\n",
    "print(f\"{cv_score = }\")"
   ]
  },
  {
   "cell_type": "code",
   "execution_count": 21,
   "metadata": {
    "collapsed": false
   },
   "outputs": [],
   "source": [
    "test_df = pd.read_csv(DATA_ROOT + '../train/target/y_predict.csv').convert_dtypes()\n",
    "test_df_copy = test_df.copy()\n",
    "\n",
    "test_df = pd.merge(test_df, wag_prob_df, how='left', on=[\"wagnum\"])\n",
    "test_df = test_df.drop(test_df[test_df[\"repdate\"] > test_df[\"month\"]].index)\n",
    "test_df = test_df.groupby([\"wagnum\", \"month\"]).last().reset_index()\n",
    "test_df = test_df.fillna(-1)\n",
    "test_df = test_df_copy.merge(test_df)\n",
    "\n",
    "test_df[\"ost_prob\"] = test_df[\"ost_prob\"].astype(int)\n",
    "test_df[\"manage_type\"] = test_df[\"manage_type\"].astype(int)\n",
    "test_df[\"rod_id\"] = test_df[\"rod_id\"].astype(int)\n",
    "test_df[\"reestr_state\"] = test_df[\"reestr_state\"].astype(int)"
   ]
  },
  {
   "cell_type": "code",
   "execution_count": 22,
   "metadata": {
    "collapsed": false
   },
   "outputs": [],
   "source": [
    "x_test = test_df[numerical_features + categorical_features + text_features]\n",
    "\n",
    "pred_month = cb_month_model.predict(x_test)\n",
    "pred_10days = cb_10days_model.predict(x_test)"
   ]
  },
  {
   "cell_type": "code",
   "execution_count": 23,
   "metadata": {
    "collapsed": false
   },
   "outputs": [
    {
     "name": "stdout",
     "output_type": "stream",
     "text": [
      "target_month\n",
      "0    32848\n",
      "1      859\n",
      "Name: count, dtype: int64\n",
      "target_day\n",
      "0    33600\n",
      "1      107\n",
      "Name: count, dtype: int64\n"
     ]
    },
    {
     "name": "stderr",
     "output_type": "stream",
     "text": [
      "/var/folders/wp/ll6ymdkx1gg8l2vyp57k2r840000gn/T/ipykernel_18616/2387483953.py:2: SettingWithCopyWarning: \n",
      "A value is trying to be set on a copy of a slice from a DataFrame.\n",
      "Try using .loc[row_indexer,col_indexer] = value instead\n",
      "\n",
      "See the caveats in the documentation: https://pandas.pydata.org/pandas-docs/stable/user_guide/indexing.html#returning-a-view-versus-a-copy\n",
      "  submit_df[\"target_month\"] = pred_month\n",
      "/var/folders/wp/ll6ymdkx1gg8l2vyp57k2r840000gn/T/ipykernel_18616/2387483953.py:3: SettingWithCopyWarning: \n",
      "A value is trying to be set on a copy of a slice from a DataFrame.\n",
      "Try using .loc[row_indexer,col_indexer] = value instead\n",
      "\n",
      "See the caveats in the documentation: https://pandas.pydata.org/pandas-docs/stable/user_guide/indexing.html#returning-a-view-versus-a-copy\n",
      "  submit_df[\"target_day\"] = pred_10days\n"
     ]
    }
   ],
   "source": [
    "submit_df = test_df[[\"wagnum\", \"month\"]]\n",
    "submit_df[\"target_month\"] = pred_month\n",
    "submit_df[\"target_day\"] = pred_10days\n",
    "\n",
    "print(submit_df[\"target_month\"].value_counts())\n",
    "print(submit_df[\"target_day\"].value_counts())\n",
    "\n",
    "submit_df.to_csv(\"zalupa.csv\", index=False)"
   ]
  },
  {
   "cell_type": "code",
   "execution_count": null,
   "metadata": {},
   "outputs": [],
   "source": []
  }
 ],
 "metadata": {
  "kernelspec": {
   "display_name": "Python 3",
   "language": "python",
   "name": "python3"
  },
  "language_info": {
   "codemirror_mode": {
    "name": "ipython",
    "version": 3
   },
   "file_extension": ".py",
   "mimetype": "text/x-python",
   "name": "python",
   "nbconvert_exporter": "python",
   "pygments_lexer": "ipython3",
   "version": "3.11.2"
  }
 },
 "nbformat": 4,
 "nbformat_minor": 0
}
