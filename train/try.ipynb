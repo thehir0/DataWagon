{
 "cells": [
  {
   "cell_type": "code",
   "execution_count": 157,
   "metadata": {
    "collapsed": false
   },
   "outputs": [
    {
     "name": "stdout",
     "output_type": "stream",
     "text": [
      "baseline_score = 0.23121339736861674\n"
     ]
    }
   ],
   "source": [
    "import gc\n",
    "import os\n",
    "import sys\n",
    "sys.path.append('..')\n",
    "import numpy as np\n",
    "import pandas as pd\n",
    "from tqdm import tqdm\n",
    "import catboost as cb\n",
    "from datetime import datetime\n",
    "from sklearn.metrics import f1_score\n",
    "from utils import date_to_timestamp\n",
    "from utils import seed_everything\n",
    "from metrics_f1 import calc_f1_score\n",
    "\n",
    "DATA_ROOT = r\"./\"\n",
    "WEIGHTS_ROOT = \"weights\"\n",
    "os.makedirs(WEIGHTS_ROOT, exist_ok=True)\n",
    "\n",
    "SEED = 28\n",
    "\n",
    "seed_everything(SEED)\n",
    "date = str(datetime.now()).split('.')[0].replace(':','_').replace(' ','__').replace('-','_')\n",
    "\n",
    "gt_path = 'prediction/target_predicton_true.csv'\n",
    "pred_path = 'prediction/target_predicton.csv'\n",
    "\n",
    "baseline_score = calc_f1_score(gt_path, pred_path)\n",
    "print(f\"{baseline_score = }\")"
   ]
  },
  {
   "cell_type": "code",
   "execution_count": 158,
   "metadata": {
    "collapsed": false
   },
   "outputs": [],
   "source": [
    "numerical_features, categorical_features, text_features = [], [], []\n",
    "months_val = [pd.to_datetime('2022-12-01')]"
   ]
  },
  {
   "cell_type": "code",
   "execution_count": 159,
   "metadata": {
    "collapsed": false
   },
   "outputs": [
    {
     "name": "stdout",
     "output_type": "stream",
     "text": [
      "month\n",
      "2022-12-01    33977\n",
      "2022-09-01    33976\n",
      "2022-10-01    33976\n",
      "2022-11-01    33976\n",
      "2022-08-01    33975\n",
      "2023-01-01    33973\n",
      "2023-02-01    33708\n",
      "Name: count, dtype: int64\n"
     ]
    },
    {
     "data": {
      "text/plain": [
       "0"
      ]
     },
     "execution_count": 159,
     "metadata": {},
     "output_type": "execute_result"
    }
   ],
   "source": [
    "target1_df = pd.read_csv('target/y_train.csv').convert_dtypes()\n",
    "target2_df = pd.read_csv('../train2/target/y_test.csv').convert_dtypes()\n",
    "\n",
    "target_df = pd.concat([target1_df, target2_df])\n",
    "target_df = target_df.sort_values(by=[\"wagnum\", \"month\"])\n",
    "target_df = target_df.drop_duplicates(ignore_index=True)\n",
    "target_df.month = pd.to_datetime(target_df.month)\n",
    "\n",
    "print(target_df[\"month\"].value_counts())\n",
    "\n",
    "del target1_df, target2_df\n",
    "gc.collect()"
   ]
  },
  {
   "cell_type": "code",
   "execution_count": 160,
   "metadata": {
    "collapsed": false
   },
   "outputs": [
    {
     "data": {
      "text/plain": [
       "0"
      ]
     },
     "execution_count": 160,
     "metadata": {},
     "output_type": "execute_result"
    }
   ],
   "source": [
    "wag_prob1_df = pd.read_parquet('wagons_probeg_ownersip.parquet').convert_dtypes()\n",
    "wag_prob2_df = pd.read_parquet('../train2/wagons_probeg_ownersip.parquet').convert_dtypes()\n",
    "\n",
    "wag_prob_df = pd.concat([wag_prob1_df, wag_prob2_df])\n",
    "wag_prob_df = wag_prob_df.sort_values(by=[\"wagnum\", \"repdate\"])\n",
    "wag_prob_df = wag_prob_df.drop_duplicates(ignore_index=True)\n",
    "wag_prob_df = wag_prob_df.drop(columns=[\"month\"])\n",
    "\n",
    "del wag_prob1_df, wag_prob2_df\n",
    "gc.collect()"
   ]
  },
  {
   "cell_type": "code",
   "execution_count": 161,
   "metadata": {
    "collapsed": false
   },
   "outputs": [
    {
     "data": {
      "text/plain": [
       "0"
      ]
     },
     "execution_count": 161,
     "metadata": {},
     "output_type": "execute_result"
    }
   ],
   "source": [
    "dislok1_df = pd.read_parquet('dislok_wagons.parquet').convert_dtypes()\n",
    "dislok2_df = pd.read_parquet('../train2/dislok_wagons.parquet').convert_dtypes()\n",
    "\n",
    "dislok_df = pd.concat([dislok1_df, dislok2_df])\n",
    "dislok_df = dislok_df.sort_values(by=[\"wagnum\", \"plan_date\"])\n",
    "dislok_df = dislok_df.drop_duplicates(ignore_index=True)\n",
    "\n",
    "del dislok1_df, dislok2_df\n",
    "gc.collect()"
   ]
  },
  {
   "cell_type": "code",
   "execution_count": 162,
   "metadata": {
    "collapsed": false
   },
   "outputs": [
    {
     "data": {
      "text/plain": [
       "0"
      ]
     },
     "execution_count": 162,
     "metadata": {},
     "output_type": "execute_result"
    }
   ],
   "source": [
    "wag_param1_df = pd.read_parquet('wag_params.parquet').convert_dtypes()\n",
    "wag_param2_df = pd.read_parquet('../train2/wag_params.parquet').convert_dtypes()\n",
    "\n",
    "wag_param_df = pd.concat([wag_param1_df, wag_param2_df])\n",
    "wag_param_df = wag_param_df.sort_values(by=[\"wagnum\"])\n",
    "wag_param_df = wag_param_df.drop_duplicates(ignore_index=True)\n",
    "\n",
    "#Prepocessing\n",
    "wag_param_df.drop(['date_iskl', 'gruz', 'rod_id'], axis=1, inplace=True)\n",
    "wag_param_df['date_build'] = wag_param_df['date_build'].apply(date_to_timestamp)\n",
    "wag_param_df['srok_sl'] = wag_param_df['srok_sl'].apply(date_to_timestamp)\n",
    "wag_param_df['tippogl'].fillna(-1, inplace=True)\n",
    "\n",
    "wag_param_numerical = ['cnsi_gruz_capacity', 'cnsi_volumek', 'tara',\n",
    "       'date_build', 'srok_sl', 'zavod_build', 'cnsi_probeg_dr',\n",
    "       'cnsi_probeg_kr', 'kuzov', 'telega', 'tormoz', 'tipvozd', 'tippogl',\n",
    "       'norma_km', 'ownertype']\n",
    "\n",
    "del wag_param1_df, wag_param2_df\n",
    "gc.collect()"
   ]
  },
  {
   "cell_type": "code",
   "execution_count": 163,
   "metadata": {
    "collapsed": false
   },
   "outputs": [
    {
     "data": {
      "text/plain": [
       "0"
      ]
     },
     "execution_count": 163,
     "metadata": {},
     "output_type": "execute_result"
    }
   ],
   "source": [
    "pr_rem1_df = pd.read_parquet('pr_rems.parquet').convert_dtypes()\n",
    "pr_rem2_df = pd.read_parquet('../train2/pr_rems.parquet').convert_dtypes()\n",
    "\n",
    "pr_rem_df = pd.concat([pr_rem1_df, pr_rem2_df])\n",
    "pr_rem_df = pr_rem_df.sort_values(by=[\"wagnum\", \"rem_month\"])\n",
    "pr_rem_df = pr_rem_df.drop_duplicates(ignore_index=True)\n",
    "\n",
    "del pr_rem1_df, pr_rem2_df\n",
    "gc.collect()"
   ]
  },
  {
   "cell_type": "code",
   "execution_count": 164,
   "metadata": {
    "collapsed": false
   },
   "outputs": [
    {
     "data": {
      "text/plain": [
       "0"
      ]
     },
     "execution_count": 164,
     "metadata": {},
     "output_type": "execute_result"
    }
   ],
   "source": [
    "tr_rem1_df = pd.read_parquet('tr_rems.parquet').convert_dtypes()\n",
    "tr_rem2_df = pd.read_parquet('../train2/tr_rems.parquet').convert_dtypes()\n",
    "\n",
    "tr_rem_df = pd.concat([tr_rem1_df, tr_rem2_df])\n",
    "tr_rem_df = tr_rem_df.sort_values(by=[\"wagnum\", \"rem_month\"])\n",
    "tr_rem_df = tr_rem_df.drop_duplicates(ignore_index=True)\n",
    "\n",
    "del tr_rem1_df, tr_rem2_df\n",
    "gc.collect()"
   ]
  },
  {
   "cell_type": "code",
   "execution_count": 165,
   "metadata": {
    "collapsed": false
   },
   "outputs": [
    {
     "data": {
      "text/plain": [
       "0"
      ]
     },
     "execution_count": 165,
     "metadata": {},
     "output_type": "execute_result"
    }
   ],
   "source": [
    "kti_izm1_df = pd.read_parquet('kti_izm.parquet').convert_dtypes()\n",
    "kti_izm2_df = pd.read_parquet('../train2/kti_izm.parquet').convert_dtypes()\n",
    "\n",
    "kti_izm_df = pd.concat([kti_izm1_df, kti_izm2_df])\n",
    "kti_izm_df = kti_izm_df.sort_values(by=[\"wagnum\", \"operation_date_dttm\"])\n",
    "kti_izm_df = kti_izm_df.drop_duplicates(ignore_index=True)\n",
    "kti_izm_df[\"operation_date_dttm\"] = kti_izm_df[\"operation_date_dttm\"].apply(lambda x: datetime.fromtimestamp(int(str(x)[:-9])).replace(hour=0, minute=0, second=0, microsecond=0))\n",
    "\n",
    "del kti_izm1_df, kti_izm2_df\n",
    "gc.collect()"
   ]
  },
  {
   "cell_type": "code",
   "execution_count": 166,
   "metadata": {
    "collapsed": false
   },
   "outputs": [
    {
     "data": {
      "text/plain": [
       "0"
      ]
     },
     "execution_count": 166,
     "metadata": {},
     "output_type": "execute_result"
    }
   ],
   "source": [
    "freight_info1_df = pd.read_parquet('freight_info.parquet').convert_dtypes()\n",
    "freight_info2_df = pd.read_parquet('../train2/freight_info.parquet').convert_dtypes()\n",
    "\n",
    "freight_info_df = pd.concat([freight_info1_df, freight_info2_df])\n",
    "freight_info_df = freight_info_df.sort_values(by=[\"fr_id\"])\n",
    "freight_info_df = freight_info_df.drop_duplicates(ignore_index=True)\n",
    "\n",
    "del freight_info1_df, freight_info2_df\n",
    "gc.collect()"
   ]
  },
  {
   "cell_type": "code",
   "execution_count": 167,
   "metadata": {
    "collapsed": false
   },
   "outputs": [
    {
     "data": {
      "text/plain": [
       "0"
      ]
     },
     "execution_count": 167,
     "metadata": {},
     "output_type": "execute_result"
    }
   ],
   "source": [
    "stations1_df = pd.read_parquet('stations.parquet').convert_dtypes()\n",
    "stations2_df = pd.read_parquet('../train2/stations.parquet').convert_dtypes()\n",
    "\n",
    "stations_df = pd.concat([stations1_df, stations2_df])\n",
    "\n",
    "stations_df = stations_df.sort_values(by=[\"st_id\"])\n",
    "stations_df = stations_df.drop_duplicates(ignore_index=True)\n",
    "\n",
    "del stations1_df, stations2_df\n",
    "gc.collect()"
   ]
  },
  {
   "cell_type": "code",
   "execution_count": 168,
   "metadata": {
    "collapsed": false,
    "pycharm": {
     "is_executing": true
    }
   },
   "outputs": [],
   "source": [
    "df = pd.merge(target_df, wag_prob_df, how='left', on=[\"wagnum\"])\n",
    "df = df.drop(df[df[\"repdate\"] > df[\"month\"]].index)\n",
    "df = df.sort_values(by=[\"wagnum\", \"month\", \"repdate\"])\n",
    "df = df.groupby([\"wagnum\", \"month\"]).last().reset_index()\n",
    "df = df.fillna(-1)\n",
    "\n",
    "df[\"ost_prob\"] = df[\"ost_prob\"].astype(int)\n",
    "df[\"manage_type\"] = df[\"manage_type\"].astype(int)\n",
    "df[\"rod_id\"] = df[\"rod_id\"].astype(int)\n",
    "df[\"reestr_state\"] = df[\"reestr_state\"].astype(int)\n",
    "numerical_features.extend([\"ost_prob\", \"manage_type\", \"rod_id\", \"reestr_state\"])"
   ]
  },
  {
   "cell_type": "code",
   "execution_count": 169,
   "metadata": {},
   "outputs": [],
   "source": [
    "df = pd.merge(df, wag_param_df, how='left', on='wagnum')\n",
    "for wag_param_numeric in wag_param_numerical:\n",
    "    df[wag_param_numeric] = df[wag_param_numeric].astype(int)\n",
    "df['model'] = df['model'].astype(str)\n",
    "\n",
    "categorical_features.extend(['model'])\n",
    "numerical_features.extend(wag_param_numerical)"
   ]
  },
  {
   "cell_type": "code",
   "execution_count": 171,
   "metadata": {
    "collapsed": false
   },
   "outputs": [],
   "source": [
    "def fit_cb(df, params, months_val, target_name):\n",
    "\n",
    "    x_train = df[~df[\"month\"].isin(months_val)][numerical_features + categorical_features + text_features]\n",
    "    x_val = df[df[\"month\"].isin(months_val)][numerical_features + categorical_features + text_features]\n",
    "\n",
    "    y_train = df[~df[\"month\"].isin(months_val)][target_name]\n",
    "    y_val = df[df[\"month\"].isin(months_val)][target_name]\n",
    "    print(f\"Train class imbalance: {y_train.value_counts()}\")\n",
    "    print(f\"Val class imbalance: {y_val.value_counts()}\")\n",
    "\n",
    "    train_pool = cb.Pool(\n",
    "        data = x_train,\n",
    "        label = y_train,\n",
    "        cat_features = categorical_features,\n",
    "        text_features = text_features\n",
    "    )\n",
    "\n",
    "    eval_pool = cb.Pool(\n",
    "        data = x_val,\n",
    "        label = y_val,\n",
    "        cat_features = categorical_features,\n",
    "        text_features = text_features\n",
    "    )\n",
    "\n",
    "    model = cb.CatBoostClassifier(**params)\n",
    "\n",
    "    model.fit(\n",
    "        train_pool,\n",
    "        eval_set=eval_pool,\n",
    "        verbose=True\n",
    "    )\n",
    "    print(\"best results (train on train):\")\n",
    "    print(model.get_best_score()[\"learn\"])\n",
    "    print(\"best results (on validation set):\")\n",
    "    print(model.get_best_score()[\"validation\"])\n",
    "    print(model.get_feature_importance(data=train_pool, prettified=True))\n",
    "\n",
    "    return model"
   ]
  },
  {
   "cell_type": "code",
   "execution_count": 172,
   "metadata": {
    "collapsed": false
   },
   "outputs": [
    {
     "name": "stdout",
     "output_type": "stream",
     "text": [
      "Train class imbalance: target_month\n",
      "0    193178\n",
      "1     10405\n",
      "Name: count, dtype: Int64\n",
      "Val class imbalance: target_month\n",
      "0    32393\n",
      "1     1584\n",
      "Name: count, dtype: Int64\n",
      "0:\tlearn: 0.6386586\ttest: 0.6382201\tbest: 0.6382201 (0)\ttotal: 92.2ms\tremaining: 3m 4s\n",
      "500:\tlearn: 0.0959358\ttest: 0.0901419\tbest: 0.0901419 (500)\ttotal: 13.6s\tremaining: 40.7s\n",
      "1000:\tlearn: 0.0936543\ttest: 0.0904819\tbest: 0.0901419 (500)\ttotal: 26.5s\tremaining: 26.5s\n",
      "1500:\tlearn: 0.0917088\ttest: 0.0909119\tbest: 0.0901419 (500)\ttotal: 39.3s\tremaining: 13.1s\n",
      "1999:\tlearn: 0.0900745\ttest: 0.0913453\tbest: 0.0901419 (500)\ttotal: 52.2s\tremaining: 0us\n",
      "\n",
      "bestTest = 0.0901418504\n",
      "bestIteration = 500\n",
      "\n",
      "Shrink model to first 501 iterations.\n",
      "best results (train on train):\n",
      "{'Accuracy': 0.9635676849245762, 'F1': 0.5541328524195973, 'CrossEntropy': 0.09007451711412541}\n",
      "best results (on validation set):\n",
      "{'Accuracy': 0.9632398387144244, 'F1': 0.5299390462531374, 'CrossEntropy': 0.09014185040461554, 'AUC': 0.9640948915107298}\n",
      "            Feature Id  Importances\n",
      "0             ost_prob    65.486305\n",
      "1                 tara     4.875406\n",
      "2   cnsi_gruz_capacity     3.728482\n",
      "3         cnsi_volumek     3.725896\n",
      "4                model     2.984593\n",
      "5              srok_sl     2.605579\n",
      "6               rod_id     2.343598\n",
      "7                kuzov     2.036997\n",
      "8           date_build     1.914852\n",
      "9            ownertype     1.683836\n",
      "10             tipvozd     1.579608\n",
      "11      cnsi_probeg_dr     1.259072\n",
      "12              telega     1.259006\n",
      "13         zavod_build     1.183982\n",
      "14            norma_km     1.038628\n",
      "15             tippogl     0.943341\n",
      "16      cnsi_probeg_kr     0.630634\n",
      "17              tormoz     0.440521\n",
      "18         manage_type     0.270216\n",
      "19        reestr_state     0.009448\n",
      "Train class imbalance: target_day\n",
      "0    200261\n",
      "1      3322\n",
      "Name: count, dtype: Int64\n",
      "Val class imbalance: target_day\n",
      "0    33407\n",
      "1      570\n",
      "Name: count, dtype: Int64\n",
      "0:\tlearn: 0.6200999\ttest: 0.6199896\tbest: 0.6199896 (0)\ttotal: 31.8ms\tremaining: 1m 3s\n",
      "500:\tlearn: 0.0451533\ttest: 0.0473899\tbest: 0.0473899 (500)\ttotal: 13.3s\tremaining: 39.9s\n",
      "1000:\tlearn: 0.0431842\ttest: 0.0473959\tbest: 0.0473899 (500)\ttotal: 26s\tremaining: 26s\n",
      "1500:\tlearn: 0.0415479\ttest: 0.0474871\tbest: 0.0473899 (500)\ttotal: 39.1s\tremaining: 13s\n",
      "1999:\tlearn: 0.0403033\ttest: 0.0476285\tbest: 0.0473899 (500)\ttotal: 51.6s\tremaining: 0us\n",
      "\n",
      "bestTest = 0.04738992009\n",
      "bestIteration = 500\n",
      "\n",
      "Shrink model to first 501 iterations.\n",
      "best results (train on train):\n",
      "{'Accuracy': 0.9869144280219861, 'F1': 0.37640449438202245, 'CrossEntropy': 0.04030329539815701}\n",
      "best results (on validation set):\n",
      "{'Accuracy': 0.983724284074521, 'F1': 0.22002820874471088, 'CrossEntropy': 0.047389920094705336, 'AUC': 0.9607922806387358}\n",
      "            Feature Id  Importances\n",
      "0             ost_prob    73.387220\n",
      "1                 tara     4.893425\n",
      "2               rod_id     3.024779\n",
      "3              srok_sl     2.525874\n",
      "4           date_build     2.281764\n",
      "5          zavod_build     2.020846\n",
      "6         cnsi_volumek     1.901991\n",
      "7   cnsi_gruz_capacity     1.901770\n",
      "8              tippogl     1.226912\n",
      "9              tipvozd     1.161576\n",
      "10               kuzov     1.052260\n",
      "11               model     0.924148\n",
      "12              telega     0.880798\n",
      "13      cnsi_probeg_dr     0.764631\n",
      "14            norma_km     0.690686\n",
      "15              tormoz     0.517010\n",
      "16           ownertype     0.441681\n",
      "17      cnsi_probeg_kr     0.346839\n",
      "18         manage_type     0.051547\n",
      "19        reestr_state     0.004243\n"
     ]
    }
   ],
   "source": [
    "cb_params  = {\n",
    "    'iterations': 2000,\n",
    "    'loss_function': 'CrossEntropy',\n",
    "    'custom_metric': ['AUC', 'Accuracy', 'F1'],\n",
    "    'verbose': False,\n",
    "    'random_seed': SEED,\n",
    "    \"task_type\": \"CPU\",\n",
    "    \"has_time\": True,\n",
    "    \"metric_period\": 500,\n",
    "    \"save_snapshot\": False,\n",
    "    \"use_best_model\": True,\n",
    "}\n",
    "\n",
    "cb_month_model = fit_cb(df, cb_params, months_val=months_val, target_name=\"target_month\")\n",
    "cb_10days_model = fit_cb(df, cb_params, months_val=months_val, target_name=\"target_day\")"
   ]
  },
  {
   "cell_type": "code",
   "execution_count": 173,
   "metadata": {
    "collapsed": false
   },
   "outputs": [],
   "source": [
    "x_val = df[df[\"month\"].isin(months_val)][numerical_features + categorical_features + text_features]\n",
    "\n",
    "pred_month = cb_month_model.predict(x_val)\n",
    "pred_10days = cb_10days_model.predict(x_val)"
   ]
  },
  {
   "cell_type": "code",
   "execution_count": 174,
   "metadata": {
    "collapsed": false
   },
   "outputs": [],
   "source": [
    "val_df = pd.DataFrame({\"wagnum\": df[df[\"month\"].isin(months_val)][\"wagnum\"]})\n",
    "val_df[\"target_month\"] = pred_month\n",
    "val_df[\"target_day\"] = pred_10days"
   ]
  },
  {
   "cell_type": "code",
   "execution_count": 175,
   "metadata": {
    "collapsed": false
   },
   "outputs": [
    {
     "name": "stdout",
     "output_type": "stream",
     "text": [
      "cv_score = 0.3416038592268879\n"
     ]
    }
   ],
   "source": [
    "def my_calc_f1_score(gt_path, pred_df):\n",
    "\n",
    "    pred_labels = pred_df.sort_values(by=[\"wagnum\"])\n",
    "\n",
    "    true_labels = pd.read_csv(gt_path)\n",
    "    true_labels = true_labels.sort_values(by=[\"wagnum\"])\n",
    "\n",
    "    # Таргет для месячного прогноза\n",
    "    true_labels_month = true_labels['target_month'].values\n",
    "    pred_labels_month = pred_labels['target_month'].values\n",
    "\n",
    "    # Таргет для 10 дневного прогноза\n",
    "    true_labels_day = true_labels['target_day'].values\n",
    "    pred_labels_day = pred_labels['target_day'].values\n",
    "\n",
    "    # Посчитаем метрику для месяца и 10 дней\n",
    "    score_month = f1_score(true_labels_month, pred_labels_month)\n",
    "    score_day = f1_score(true_labels_day, pred_labels_day)\n",
    "\n",
    "    # Посчитаем метрику с весом для двух таргетов\n",
    "    score = 0.5 * score_month + 0.5 * score_day\n",
    "    return score\n",
    "\n",
    "cv_score = my_calc_f1_score(gt_path, val_df)\n",
    "print(f\"{cv_score = }\")"
   ]
  },
  {
   "cell_type": "code",
   "execution_count": 177,
   "metadata": {},
   "outputs": [],
   "source": [
    "test_df = pd.read_csv('../train/target/y_predict.csv').convert_dtypes()\n",
    "test_df_copy = test_df.copy()\n",
    "\n",
    "test_df = pd.merge(test_df, wag_prob_df, how='left', on=[\"wagnum\"])\n",
    "test_df = test_df.drop(test_df[test_df[\"repdate\"] > test_df[\"month\"]].index)\n",
    "test_df = test_df.groupby([\"wagnum\", \"month\"]).last().reset_index()\n",
    "test_df = test_df.fillna(-1)\n",
    "test_df = test_df_copy.merge(test_df)\n",
    "\n",
    "test_df[\"ost_prob\"] = test_df[\"ost_prob\"].astype(int)\n",
    "test_df[\"manage_type\"] = test_df[\"manage_type\"].astype(int)\n",
    "test_df[\"rod_id\"] = test_df[\"rod_id\"].astype(int)\n",
    "test_df[\"reestr_state\"] = test_df[\"reestr_state\"].astype(int)\n"
   ]
  },
  {
   "cell_type": "code",
   "execution_count": 178,
   "metadata": {},
   "outputs": [],
   "source": [
    "test_df = pd.merge(test_df, wag_param_df, how='left', on='wagnum')\n",
    "\n",
    "for wag_param_numeric in wag_param_numerical:\n",
    "    test_df[wag_param_numeric] = test_df[wag_param_numeric].astype(int)\n",
    "\n",
    "test_df['model'] = test_df['model'].astype(str)"
   ]
  },
  {
   "cell_type": "code",
   "execution_count": 179,
   "metadata": {},
   "outputs": [
    {
     "data": {
      "text/html": [
       "<div>\n",
       "<style scoped>\n",
       "    .dataframe tbody tr th:only-of-type {\n",
       "        vertical-align: middle;\n",
       "    }\n",
       "\n",
       "    .dataframe tbody tr th {\n",
       "        vertical-align: top;\n",
       "    }\n",
       "\n",
       "    .dataframe thead th {\n",
       "        text-align: right;\n",
       "    }\n",
       "</style>\n",
       "<table border=\"1\" class=\"dataframe\">\n",
       "  <thead>\n",
       "    <tr style=\"text-align: right;\">\n",
       "      <th></th>\n",
       "      <th>ost_prob</th>\n",
       "      <th>manage_type</th>\n",
       "      <th>rod_id</th>\n",
       "      <th>reestr_state</th>\n",
       "      <th>cnsi_gruz_capacity</th>\n",
       "      <th>cnsi_volumek</th>\n",
       "      <th>tara</th>\n",
       "      <th>date_build</th>\n",
       "      <th>srok_sl</th>\n",
       "      <th>zavod_build</th>\n",
       "      <th>cnsi_probeg_dr</th>\n",
       "      <th>cnsi_probeg_kr</th>\n",
       "      <th>kuzov</th>\n",
       "      <th>telega</th>\n",
       "      <th>tormoz</th>\n",
       "      <th>tipvozd</th>\n",
       "      <th>tippogl</th>\n",
       "      <th>norma_km</th>\n",
       "      <th>ownertype</th>\n",
       "      <th>model</th>\n",
       "    </tr>\n",
       "  </thead>\n",
       "  <tbody>\n",
       "    <tr>\n",
       "      <th>0</th>\n",
       "      <td>140585</td>\n",
       "      <td>0</td>\n",
       "      <td>1</td>\n",
       "      <td>1</td>\n",
       "      <td>690</td>\n",
       "      <td>88</td>\n",
       "      <td>245</td>\n",
       "      <td>1297123200</td>\n",
       "      <td>1993248000</td>\n",
       "      <td>6</td>\n",
       "      <td>110</td>\n",
       "      <td>160</td>\n",
       "      <td>2</td>\n",
       "      <td>2</td>\n",
       "      <td>2</td>\n",
       "      <td>3</td>\n",
       "      <td>11</td>\n",
       "      <td>160000</td>\n",
       "      <td>0</td>\n",
       "      <td>12-1303-01</td>\n",
       "    </tr>\n",
       "    <tr>\n",
       "      <th>1</th>\n",
       "      <td>144191</td>\n",
       "      <td>0</td>\n",
       "      <td>1</td>\n",
       "      <td>1</td>\n",
       "      <td>690</td>\n",
       "      <td>88</td>\n",
       "      <td>245</td>\n",
       "      <td>1271808000</td>\n",
       "      <td>1933718400</td>\n",
       "      <td>6</td>\n",
       "      <td>110</td>\n",
       "      <td>160</td>\n",
       "      <td>2</td>\n",
       "      <td>2</td>\n",
       "      <td>2</td>\n",
       "      <td>3</td>\n",
       "      <td>11</td>\n",
       "      <td>160000</td>\n",
       "      <td>0</td>\n",
       "      <td>12-1303-01</td>\n",
       "    </tr>\n",
       "    <tr>\n",
       "      <th>2</th>\n",
       "      <td>150649</td>\n",
       "      <td>0</td>\n",
       "      <td>1</td>\n",
       "      <td>1</td>\n",
       "      <td>690</td>\n",
       "      <td>88</td>\n",
       "      <td>245</td>\n",
       "      <td>1277251200</td>\n",
       "      <td>1958256000</td>\n",
       "      <td>6</td>\n",
       "      <td>110</td>\n",
       "      <td>160</td>\n",
       "      <td>2</td>\n",
       "      <td>2</td>\n",
       "      <td>2</td>\n",
       "      <td>3</td>\n",
       "      <td>11</td>\n",
       "      <td>160000</td>\n",
       "      <td>0</td>\n",
       "      <td>12-1303-01</td>\n",
       "    </tr>\n",
       "    <tr>\n",
       "      <th>3</th>\n",
       "      <td>14715</td>\n",
       "      <td>0</td>\n",
       "      <td>1</td>\n",
       "      <td>1</td>\n",
       "      <td>690</td>\n",
       "      <td>88</td>\n",
       "      <td>245</td>\n",
       "      <td>1348704000</td>\n",
       "      <td>1985385600</td>\n",
       "      <td>6</td>\n",
       "      <td>110</td>\n",
       "      <td>160</td>\n",
       "      <td>2</td>\n",
       "      <td>2</td>\n",
       "      <td>2</td>\n",
       "      <td>3</td>\n",
       "      <td>11</td>\n",
       "      <td>160000</td>\n",
       "      <td>0</td>\n",
       "      <td>12-1303-01</td>\n",
       "    </tr>\n",
       "    <tr>\n",
       "      <th>4</th>\n",
       "      <td>139618</td>\n",
       "      <td>0</td>\n",
       "      <td>1</td>\n",
       "      <td>1</td>\n",
       "      <td>690</td>\n",
       "      <td>88</td>\n",
       "      <td>245</td>\n",
       "      <td>1321747200</td>\n",
       "      <td>2017267200</td>\n",
       "      <td>6</td>\n",
       "      <td>110</td>\n",
       "      <td>160</td>\n",
       "      <td>2</td>\n",
       "      <td>2</td>\n",
       "      <td>2</td>\n",
       "      <td>6</td>\n",
       "      <td>11</td>\n",
       "      <td>160000</td>\n",
       "      <td>0</td>\n",
       "      <td>12-1303-01</td>\n",
       "    </tr>\n",
       "    <tr>\n",
       "      <th>...</th>\n",
       "      <td>...</td>\n",
       "      <td>...</td>\n",
       "      <td>...</td>\n",
       "      <td>...</td>\n",
       "      <td>...</td>\n",
       "      <td>...</td>\n",
       "      <td>...</td>\n",
       "      <td>...</td>\n",
       "      <td>...</td>\n",
       "      <td>...</td>\n",
       "      <td>...</td>\n",
       "      <td>...</td>\n",
       "      <td>...</td>\n",
       "      <td>...</td>\n",
       "      <td>...</td>\n",
       "      <td>...</td>\n",
       "      <td>...</td>\n",
       "      <td>...</td>\n",
       "      <td>...</td>\n",
       "      <td>...</td>\n",
       "    </tr>\n",
       "    <tr>\n",
       "      <th>33702</th>\n",
       "      <td>71590</td>\n",
       "      <td>0</td>\n",
       "      <td>1</td>\n",
       "      <td>1</td>\n",
       "      <td>695</td>\n",
       "      <td>88</td>\n",
       "      <td>240</td>\n",
       "      <td>1286841600</td>\n",
       "      <td>1983830400</td>\n",
       "      <td>0</td>\n",
       "      <td>110</td>\n",
       "      <td>160</td>\n",
       "      <td>2</td>\n",
       "      <td>9</td>\n",
       "      <td>2</td>\n",
       "      <td>7</td>\n",
       "      <td>11</td>\n",
       "      <td>160000</td>\n",
       "      <td>0</td>\n",
       "      <td>12-132</td>\n",
       "    </tr>\n",
       "    <tr>\n",
       "      <th>33703</th>\n",
       "      <td>136540</td>\n",
       "      <td>0</td>\n",
       "      <td>1</td>\n",
       "      <td>1</td>\n",
       "      <td>695</td>\n",
       "      <td>88</td>\n",
       "      <td>243</td>\n",
       "      <td>1324857600</td>\n",
       "      <td>2040508800</td>\n",
       "      <td>0</td>\n",
       "      <td>110</td>\n",
       "      <td>160</td>\n",
       "      <td>2</td>\n",
       "      <td>9</td>\n",
       "      <td>2</td>\n",
       "      <td>7</td>\n",
       "      <td>11</td>\n",
       "      <td>160000</td>\n",
       "      <td>0</td>\n",
       "      <td>12-132</td>\n",
       "    </tr>\n",
       "    <tr>\n",
       "      <th>33704</th>\n",
       "      <td>129690</td>\n",
       "      <td>0</td>\n",
       "      <td>1</td>\n",
       "      <td>1</td>\n",
       "      <td>695</td>\n",
       "      <td>88</td>\n",
       "      <td>241</td>\n",
       "      <td>1281398400</td>\n",
       "      <td>1923782400</td>\n",
       "      <td>0</td>\n",
       "      <td>110</td>\n",
       "      <td>160</td>\n",
       "      <td>2</td>\n",
       "      <td>9</td>\n",
       "      <td>2</td>\n",
       "      <td>7</td>\n",
       "      <td>11</td>\n",
       "      <td>160000</td>\n",
       "      <td>0</td>\n",
       "      <td>12-132</td>\n",
       "    </tr>\n",
       "    <tr>\n",
       "      <th>33705</th>\n",
       "      <td>124151</td>\n",
       "      <td>0</td>\n",
       "      <td>1</td>\n",
       "      <td>1</td>\n",
       "      <td>700</td>\n",
       "      <td>76</td>\n",
       "      <td>234</td>\n",
       "      <td>1111104000</td>\n",
       "      <td>1835740800</td>\n",
       "      <td>2</td>\n",
       "      <td>160</td>\n",
       "      <td>160</td>\n",
       "      <td>2</td>\n",
       "      <td>9</td>\n",
       "      <td>2</td>\n",
       "      <td>4</td>\n",
       "      <td>11</td>\n",
       "      <td>160000</td>\n",
       "      <td>0</td>\n",
       "      <td>12-783</td>\n",
       "    </tr>\n",
       "    <tr>\n",
       "      <th>33706</th>\n",
       "      <td>139890</td>\n",
       "      <td>0</td>\n",
       "      <td>0</td>\n",
       "      <td>1</td>\n",
       "      <td>670</td>\n",
       "      <td>138</td>\n",
       "      <td>270</td>\n",
       "      <td>757296000</td>\n",
       "      <td>1760054400</td>\n",
       "      <td>1</td>\n",
       "      <td>110</td>\n",
       "      <td>160</td>\n",
       "      <td>2</td>\n",
       "      <td>9</td>\n",
       "      <td>2</td>\n",
       "      <td>1</td>\n",
       "      <td>5</td>\n",
       "      <td>160000</td>\n",
       "      <td>1</td>\n",
       "      <td>11-286</td>\n",
       "    </tr>\n",
       "  </tbody>\n",
       "</table>\n",
       "<p>33707 rows × 20 columns</p>\n",
       "</div>"
      ],
      "text/plain": [
       "       ost_prob  manage_type  rod_id  reestr_state  cnsi_gruz_capacity   \n",
       "0        140585            0       1             1                 690  \\\n",
       "1        144191            0       1             1                 690   \n",
       "2        150649            0       1             1                 690   \n",
       "3         14715            0       1             1                 690   \n",
       "4        139618            0       1             1                 690   \n",
       "...         ...          ...     ...           ...                 ...   \n",
       "33702     71590            0       1             1                 695   \n",
       "33703    136540            0       1             1                 695   \n",
       "33704    129690            0       1             1                 695   \n",
       "33705    124151            0       1             1                 700   \n",
       "33706    139890            0       0             1                 670   \n",
       "\n",
       "       cnsi_volumek  tara  date_build     srok_sl  zavod_build   \n",
       "0                88   245  1297123200  1993248000            6  \\\n",
       "1                88   245  1271808000  1933718400            6   \n",
       "2                88   245  1277251200  1958256000            6   \n",
       "3                88   245  1348704000  1985385600            6   \n",
       "4                88   245  1321747200  2017267200            6   \n",
       "...             ...   ...         ...         ...          ...   \n",
       "33702            88   240  1286841600  1983830400            0   \n",
       "33703            88   243  1324857600  2040508800            0   \n",
       "33704            88   241  1281398400  1923782400            0   \n",
       "33705            76   234  1111104000  1835740800            2   \n",
       "33706           138   270   757296000  1760054400            1   \n",
       "\n",
       "       cnsi_probeg_dr  cnsi_probeg_kr  kuzov  telega  tormoz  tipvozd   \n",
       "0                 110             160      2       2       2        3  \\\n",
       "1                 110             160      2       2       2        3   \n",
       "2                 110             160      2       2       2        3   \n",
       "3                 110             160      2       2       2        3   \n",
       "4                 110             160      2       2       2        6   \n",
       "...               ...             ...    ...     ...     ...      ...   \n",
       "33702             110             160      2       9       2        7   \n",
       "33703             110             160      2       9       2        7   \n",
       "33704             110             160      2       9       2        7   \n",
       "33705             160             160      2       9       2        4   \n",
       "33706             110             160      2       9       2        1   \n",
       "\n",
       "       tippogl  norma_km  ownertype       model  \n",
       "0           11    160000          0  12-1303-01  \n",
       "1           11    160000          0  12-1303-01  \n",
       "2           11    160000          0  12-1303-01  \n",
       "3           11    160000          0  12-1303-01  \n",
       "4           11    160000          0  12-1303-01  \n",
       "...        ...       ...        ...         ...  \n",
       "33702       11    160000          0      12-132  \n",
       "33703       11    160000          0      12-132  \n",
       "33704       11    160000          0      12-132  \n",
       "33705       11    160000          0      12-783  \n",
       "33706        5    160000          1      11-286  \n",
       "\n",
       "[33707 rows x 20 columns]"
      ]
     },
     "execution_count": 179,
     "metadata": {},
     "output_type": "execute_result"
    }
   ],
   "source": [
    "x_test = test_df[numerical_features + categorical_features + text_features]\n",
    "\n",
    "x_test"
   ]
  },
  {
   "cell_type": "code",
   "execution_count": 180,
   "metadata": {},
   "outputs": [],
   "source": [
    "pred_month = cb_month_model.predict(x_test)\n",
    "pred_10days = cb_10days_model.predict(x_test)"
   ]
  },
  {
   "cell_type": "code",
   "execution_count": 181,
   "metadata": {},
   "outputs": [
    {
     "name": "stdout",
     "output_type": "stream",
     "text": [
      "target_month\n",
      "0    32797\n",
      "1      910\n",
      "Name: count, dtype: int64\n",
      "target_day\n",
      "0    33578\n",
      "1      129\n",
      "Name: count, dtype: int64\n"
     ]
    },
    {
     "name": "stderr",
     "output_type": "stream",
     "text": [
      "/var/folders/wp/ll6ymdkx1gg8l2vyp57k2r840000gn/T/ipykernel_20905/2387483953.py:2: SettingWithCopyWarning: \n",
      "A value is trying to be set on a copy of a slice from a DataFrame.\n",
      "Try using .loc[row_indexer,col_indexer] = value instead\n",
      "\n",
      "See the caveats in the documentation: https://pandas.pydata.org/pandas-docs/stable/user_guide/indexing.html#returning-a-view-versus-a-copy\n",
      "  submit_df[\"target_month\"] = pred_month\n",
      "/var/folders/wp/ll6ymdkx1gg8l2vyp57k2r840000gn/T/ipykernel_20905/2387483953.py:3: SettingWithCopyWarning: \n",
      "A value is trying to be set on a copy of a slice from a DataFrame.\n",
      "Try using .loc[row_indexer,col_indexer] = value instead\n",
      "\n",
      "See the caveats in the documentation: https://pandas.pydata.org/pandas-docs/stable/user_guide/indexing.html#returning-a-view-versus-a-copy\n",
      "  submit_df[\"target_day\"] = pred_10days\n"
     ]
    }
   ],
   "source": [
    "submit_df = test_df[[\"wagnum\", \"month\"]]\n",
    "submit_df[\"target_month\"] = pred_month\n",
    "submit_df[\"target_day\"] = pred_10days\n",
    "\n",
    "print(submit_df[\"target_month\"].value_counts())\n",
    "print(submit_df[\"target_day\"].value_counts())\n",
    "\n",
    "submit_df.to_csv(\"zalupa.csv\", index=False)"
   ]
  },
  {
   "cell_type": "code",
   "execution_count": null,
   "metadata": {},
   "outputs": [],
   "source": []
  }
 ],
 "metadata": {
  "kernelspec": {
   "display_name": "Python 3",
   "language": "python",
   "name": "python3"
  },
  "language_info": {
   "codemirror_mode": {
    "name": "ipython",
    "version": 3
   },
   "file_extension": ".py",
   "mimetype": "text/x-python",
   "name": "python",
   "nbconvert_exporter": "python",
   "pygments_lexer": "ipython3",
   "version": "3.11.2"
  }
 },
 "nbformat": 4,
 "nbformat_minor": 0
}
