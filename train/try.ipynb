{
 "cells": [
  {
   "cell_type": "code",
   "execution_count": 874,
   "metadata": {
    "collapsed": false
   },
   "outputs": [
    {
     "name": "stdout",
     "output_type": "stream",
     "text": [
      "baseline_score = 0.23121339736861674\n"
     ]
    }
   ],
   "source": [
    "import gc\n",
    "import os\n",
    "import sys\n",
    "sys.path.append('..')\n",
    "import numpy as np\n",
    "import pandas as pd\n",
    "from tqdm import tqdm\n",
    "import catboost as cb\n",
    "from datetime import datetime\n",
    "from sklearn.metrics import f1_score\n",
    "from utils import date_to_timestamp\n",
    "from utils import seed_everything\n",
    "from metrics_f1 import calc_f1_score\n",
    "\n",
    "DATA_ROOT = r\"./\"\n",
    "WEIGHTS_ROOT = \"weights\"\n",
    "os.makedirs(WEIGHTS_ROOT, exist_ok=True)\n",
    "\n",
    "SEED = 28\n",
    "\n",
    "seed_everything(SEED)\n",
    "date = str(datetime.now()).split('.')[0].replace(':','_').replace(' ','__').replace('-','_')\n",
    "\n",
    "gt_path = 'prediction/target_predicton_true.csv'\n",
    "pred_path = 'prediction/target_predicton.csv'\n",
    "\n",
    "baseline_score = calc_f1_score(gt_path, pred_path)\n",
    "print(f\"{baseline_score = }\")"
   ]
  },
  {
   "cell_type": "code",
   "execution_count": 875,
   "metadata": {
    "collapsed": false
   },
   "outputs": [],
   "source": [
    "numerical_features, categorical_features, text_features = [], [], []\n",
    "months_val = [pd.to_datetime('2022-12-01')]"
   ]
  },
  {
   "cell_type": "code",
   "execution_count": 876,
   "metadata": {
    "collapsed": false
   },
   "outputs": [
    {
     "name": "stdout",
     "output_type": "stream",
     "text": [
      "month\n",
      "2022-12-01    33977\n",
      "2022-09-01    33976\n",
      "2022-10-01    33976\n",
      "2022-11-01    33976\n",
      "2022-08-01    33975\n",
      "2023-01-01    33973\n",
      "2023-02-01    33708\n",
      "Name: count, dtype: int64\n"
     ]
    },
    {
     "data": {
      "text/plain": [
       "1818"
      ]
     },
     "execution_count": 876,
     "metadata": {},
     "output_type": "execute_result"
    }
   ],
   "source": [
    "target1_df = pd.read_csv('target/y_train.csv').convert_dtypes()\n",
    "target2_df = pd.read_csv('../train2/target/y_test.csv').convert_dtypes()\n",
    "\n",
    "target_df = pd.concat([target1_df, target2_df])\n",
    "target_df = target_df.sort_values(by=[\"wagnum\", \"month\"])\n",
    "target_df = target_df.drop_duplicates(ignore_index=True)\n",
    "target_df.month = pd.to_datetime(target_df.month)\n",
    "\n",
    "print(target_df[\"month\"].value_counts())\n",
    "\n",
    "del target1_df, target2_df\n",
    "gc.collect()"
   ]
  },
  {
   "cell_type": "code",
   "execution_count": 877,
   "metadata": {
    "collapsed": false
   },
   "outputs": [
    {
     "data": {
      "text/plain": [
       "0"
      ]
     },
     "execution_count": 877,
     "metadata": {},
     "output_type": "execute_result"
    }
   ],
   "source": [
    "wag_prob1_df = pd.read_parquet('wagons_probeg_ownersip.parquet').convert_dtypes()\n",
    "wag_prob2_df = pd.read_parquet('../train2/wagons_probeg_ownersip.parquet').convert_dtypes()\n",
    "\n",
    "wag_prob_df = pd.concat([wag_prob1_df, wag_prob2_df])\n",
    "wag_prob_df = wag_prob_df.sort_values(by=[\"wagnum\", \"repdate\"])\n",
    "wag_prob_df = wag_prob_df.drop_duplicates(ignore_index=True)\n",
    "wag_prob_df = wag_prob_df.drop(columns=[\"month\"])\n",
    "\n",
    "#Preprocessing\n",
    "wag_prob_df['ost_prob'].fillna(-1, inplace=True)\n",
    "\n",
    "del wag_prob1_df, wag_prob2_df\n",
    "gc.collect()"
   ]
  },
  {
   "cell_type": "code",
   "execution_count": 878,
   "metadata": {
    "collapsed": false
   },
   "outputs": [
    {
     "name": "stdout",
     "output_type": "stream",
     "text": [
      "['plan_date', 'wagnum', 'date_kap', 'date_dep', 'kod_vrab', 'date_pl_rem', 'id_road_disl', 'st_id_dest', 'id_road_dest', 'st_id_send', 'id_road_send', 'ost_prob', 'isload', 'fr_id', 'last_fr_id', 'distance']\n"
     ]
    },
    {
     "data": {
      "text/plain": [
       "51"
      ]
     },
     "execution_count": 878,
     "metadata": {},
     "output_type": "execute_result"
    }
   ],
   "source": [
    "dislok1_df = pd.read_parquet('dislok_wagons.parquet').convert_dtypes()\n",
    "dislok2_df = pd.read_parquet('../train2/dislok_wagons.parquet').convert_dtypes()\n",
    "\n",
    "dislok_df = pd.concat([dislok1_df, dislok2_df])\n",
    "dislok_df = dislok_df.sort_values(by=[\"wagnum\", \"plan_date\"])\n",
    "dislok_df = dislok_df.drop_duplicates(ignore_index=True)\n",
    "print(dislok_df.columns.to_list())\n",
    "#Preprocessing\n",
    "dislok_df = dislok_df[['wagnum', 'plan_date', 'date_kap', 'date_dep', 'date_pl_rem', 'ost_prob', 'last_fr_id', 'distance', 'isload']]\n",
    "\n",
    "dislok_df['date_kap'] = dislok_df.groupby('wagnum')['date_kap'].fillna(method='ffill')\n",
    "dislok_df['date_dep'] = dislok_df.groupby('wagnum')['date_kap'].fillna(method='ffill')\n",
    "dislok_df['date_kap'].fillna(pd.to_datetime('1970-01-01'), inplace=True)\n",
    "dislok_df['date_dep'].fillna(pd.to_datetime('1970-01-01'), inplace=True)\n",
    "\n",
    "dislok_df['ost_prob'].fillna(-1, inplace=True)\n",
    "dislok_df = dislok_df.rename(columns={'ost_prob': 'ost_prob_dislok', 'last_fr_id': 'fr_id'})\n",
    "\n",
    "dislok_df['rem_days'] = (dislok_df['date_pl_rem'] - dislok_df['plan_date']).dt.days\n",
    "dislok_df['kap_days'] = (dislok_df['plan_date'] - dislok_df['date_kap']).dt.days\n",
    "dislok_df['dep_days'] = (dislok_df['plan_date'] - dislok_df['date_dep']).dt.days\n",
    "dislok_df.drop(['date_kap', 'date_dep', 'date_pl_rem'], axis=1, inplace=True)\n",
    "\n",
    "del dislok1_df, dislok2_df\n",
    "gc.collect()"
   ]
  },
  {
   "cell_type": "code",
   "execution_count": 879,
   "metadata": {
    "collapsed": false
   },
   "outputs": [
    {
     "data": {
      "text/plain": [
       "0"
      ]
     },
     "execution_count": 879,
     "metadata": {},
     "output_type": "execute_result"
    }
   ],
   "source": [
    "wag_param1_df = pd.read_parquet('wag_params.parquet').convert_dtypes()\n",
    "wag_param2_df = pd.read_parquet('../train2/wag_params.parquet').convert_dtypes()\n",
    "\n",
    "wag_param_df = pd.concat([wag_param1_df, wag_param2_df])\n",
    "wag_param_df = wag_param_df.sort_values(by=[\"wagnum\"])\n",
    "wag_param_df = wag_param_df.drop_duplicates(ignore_index=True)\n",
    "\n",
    "#Prepocessing\n",
    "wag_param_df.drop(['date_iskl', 'gruz', 'rod_id'], axis=1, inplace=True)\n",
    "wag_param_df['tippogl'].fillna(wag_param_df['tippogl'].value_counts().index[0], inplace=True)\n",
    "\n",
    "del wag_param1_df, wag_param2_df\n",
    "gc.collect()"
   ]
  },
  {
   "cell_type": "code",
   "execution_count": 880,
   "metadata": {},
   "outputs": [
    {
     "data": {
      "text/plain": [
       "wagnum                0\n",
       "model                 0\n",
       "cnsi_gruz_capacity    0\n",
       "cnsi_volumek          0\n",
       "tara                  0\n",
       "date_build            0\n",
       "srok_sl               0\n",
       "zavod_build           0\n",
       "cnsi_probeg_dr        0\n",
       "cnsi_probeg_kr        0\n",
       "kuzov                 0\n",
       "telega                0\n",
       "tormoz                0\n",
       "tipvozd               0\n",
       "tippogl               0\n",
       "norma_km              0\n",
       "ownertype             0\n",
       "dtype: int64"
      ]
     },
     "execution_count": 880,
     "metadata": {},
     "output_type": "execute_result"
    }
   ],
   "source": [
    "wag_param_df.isna().sum()"
   ]
  },
  {
   "cell_type": "code",
   "execution_count": 881,
   "metadata": {
    "collapsed": false
   },
   "outputs": [
    {
     "data": {
      "text/plain": [
       "0"
      ]
     },
     "execution_count": 881,
     "metadata": {},
     "output_type": "execute_result"
    }
   ],
   "source": [
    "pr_rem1_df = pd.read_parquet('pr_rems.parquet').convert_dtypes()\n",
    "pr_rem2_df = pd.read_parquet('../train2/pr_rems.parquet').convert_dtypes()\n",
    "\n",
    "pr_rem_df = pd.concat([pr_rem1_df, pr_rem2_df])\n",
    "pr_rem_df = pr_rem_df.sort_values(by=[\"wagnum\", \"rem_month\"])\n",
    "pr_rem_df = pr_rem_df.drop_duplicates(ignore_index=True)\n",
    "\n",
    "#Preprocess\n",
    "pr_rem_df = pr_rem_df[['wagnum', 'rem_month', 'st_id_rem', 'road_id_rem']]\n",
    "\n",
    "del pr_rem1_df, pr_rem2_df\n",
    "gc.collect()"
   ]
  },
  {
   "cell_type": "code",
   "execution_count": 882,
   "metadata": {
    "collapsed": false
   },
   "outputs": [
    {
     "data": {
      "text/plain": [
       "0"
      ]
     },
     "execution_count": 882,
     "metadata": {},
     "output_type": "execute_result"
    }
   ],
   "source": [
    "tr_rem1_df = pd.read_parquet('tr_rems.parquet').convert_dtypes()\n",
    "tr_rem2_df = pd.read_parquet('../train2/tr_rems.parquet').convert_dtypes()\n",
    "\n",
    "tr_rem_df = pd.concat([tr_rem1_df, tr_rem2_df])\n",
    "tr_rem_df = tr_rem_df.sort_values(by=[\"wagnum\", \"rem_month\"])\n",
    "tr_rem_df = tr_rem_df.drop_duplicates(ignore_index=True)\n",
    "\n",
    "#Preprocessing\n",
    "tr_rem_df = tr_rem_df[['wagnum', 'rem_month', 'gr_probeg']]\n",
    "tr_rem_df.fillna(-1, inplace=True)\n",
    "tr_rem_cols = tr_rem_df.columns.to_list()\n",
    "del tr_rem1_df, tr_rem2_df\n",
    "gc.collect()"
   ]
  },
  {
   "cell_type": "code",
   "execution_count": 883,
   "metadata": {},
   "outputs": [],
   "source": [
    "kti_add = pd.read_csv('../preprocessed/kti_additional_feature.csv')\n",
    "kti_add = kti_add.sort_values(by=['wagnum', 'operation_date_dttm'])\n",
    "kti_add = kti_add.drop_duplicates(ignore_index=True)\n",
    "kti_add[\"operation_date_dttm\"] = kti_add[\"operation_date_dttm\"].apply(lambda x: datetime.fromtimestamp(int(str(x))).replace(hour=0, minute=0, second=0, microsecond=0))\n",
    "kti_numerical = kti_add.columns.to_list()[2:]"
   ]
  },
  {
   "cell_type": "code",
   "execution_count": 884,
   "metadata": {
    "collapsed": false
   },
   "outputs": [
    {
     "data": {
      "text/plain": [
       "0"
      ]
     },
     "execution_count": 884,
     "metadata": {},
     "output_type": "execute_result"
    }
   ],
   "source": [
    "kti_izm1_df = pd.read_parquet('kti_izm.parquet').convert_dtypes()\n",
    "kti_izm2_df = pd.read_parquet('../train2/kti_izm.parquet').convert_dtypes()\n",
    "\n",
    "kti_izm_df = pd.concat([kti_izm1_df, kti_izm2_df])\n",
    "kti_izm_df = kti_izm_df.sort_values(by=[\"wagnum\", \"operation_date_dttm\"])\n",
    "kti_izm_df = kti_izm_df.drop_duplicates(ignore_index=True)\n",
    "kti_izm_df[\"operation_date_dttm\"] = kti_izm_df[\"operation_date_dttm\"].apply(lambda x: datetime.fromtimestamp(int(str(x)[:-9])).replace(hour=0, minute=0, second=0, microsecond=0))\n",
    "\n",
    "del kti_izm1_df, kti_izm2_df\n",
    "gc.collect()"
   ]
  },
  {
   "cell_type": "code",
   "execution_count": 885,
   "metadata": {
    "collapsed": false
   },
   "outputs": [
    {
     "data": {
      "text/plain": [
       "0"
      ]
     },
     "execution_count": 885,
     "metadata": {},
     "output_type": "execute_result"
    }
   ],
   "source": [
    "freight_info1_df = pd.read_parquet('freight_info.parquet').convert_dtypes()\n",
    "freight_info2_df = pd.read_parquet('../train2/freight_info.parquet').convert_dtypes()\n",
    "\n",
    "freight_info_df = pd.concat([freight_info1_df, freight_info2_df])\n",
    "freight_info_df = freight_info_df.sort_values(by=[\"fr_id\"])\n",
    "freight_info_df = freight_info_df.drop_duplicates(ignore_index=True)\n",
    "\n",
    "del freight_info1_df, freight_info2_df\n",
    "gc.collect()"
   ]
  },
  {
   "cell_type": "code",
   "execution_count": 886,
   "metadata": {},
   "outputs": [],
   "source": [
    "dislok_df = pd.merge(dislok_df, freight_info_df, how='left', on='fr_id')\n",
    "dislok_df.fillna(-1, inplace=True)"
   ]
  },
  {
   "cell_type": "code",
   "execution_count": 887,
   "metadata": {},
   "outputs": [
    {
     "data": {
      "text/plain": [
       "['wagnum',\n",
       " 'plan_date',\n",
       " 'ost_prob_dislok',\n",
       " 'fr_id',\n",
       " 'distance',\n",
       " 'isload',\n",
       " 'rem_days',\n",
       " 'kap_days',\n",
       " 'dep_days',\n",
       " 'fr_class',\n",
       " 'skoroport',\n",
       " 'naval',\n",
       " 'nasip',\n",
       " 'naliv',\n",
       " 'openvagons',\n",
       " 'soprovod',\n",
       " 'smerz']"
      ]
     },
     "execution_count": 887,
     "metadata": {},
     "output_type": "execute_result"
    }
   ],
   "source": [
    "dislok_df.columns.to_list()"
   ]
  },
  {
   "cell_type": "code",
   "execution_count": 888,
   "metadata": {
    "collapsed": false
   },
   "outputs": [
    {
     "data": {
      "text/plain": [
       "0"
      ]
     },
     "execution_count": 888,
     "metadata": {},
     "output_type": "execute_result"
    }
   ],
   "source": [
    "stations1_df = pd.read_parquet('stations.parquet').convert_dtypes()\n",
    "stations2_df = pd.read_parquet('../train2/stations.parquet').convert_dtypes()\n",
    "\n",
    "stations_df = pd.concat([stations1_df, stations2_df])\n",
    "\n",
    "stations_df = stations_df.sort_values(by=[\"st_id\"])\n",
    "stations_df = stations_df.drop_duplicates(ignore_index=True)\n",
    "stations_df = stations_df.rename(columns={'st_id': 'st_id_rem', 'road_id':'road_id_rem'})\n",
    "\n",
    "stations_df_cols = stations_df.columns.to_list()\n",
    "for col in stations_df_cols:\n",
    "    stations_df[col] = stations_df[col].astype(int)\n",
    "del stations1_df, stations2_df\n",
    "gc.collect()"
   ]
  },
  {
   "cell_type": "code",
   "execution_count": 889,
   "metadata": {},
   "outputs": [
    {
     "data": {
      "text/plain": [
       "['st_id_rem',\n",
       " 'road_id_rem',\n",
       " 'st_border_sign',\n",
       " 'st_sea_sign',\n",
       " 'st_river_sign',\n",
       " 'st_car_sign',\n",
       " 'st_ferry_sign',\n",
       " 'st_freigh_sign',\n",
       " 'opor_station_sign']"
      ]
     },
     "execution_count": 889,
     "metadata": {},
     "output_type": "execute_result"
    }
   ],
   "source": [
    "stations_df_cols"
   ]
  },
  {
   "cell_type": "code",
   "execution_count": 890,
   "metadata": {},
   "outputs": [],
   "source": [
    "pr_rem_df = pd.merge(pr_rem_df, stations_df, how='left', on=['st_id_rem','road_id_rem'])\n",
    "pr_rem_df.fillna(-1, inplace=True)"
   ]
  },
  {
   "cell_type": "code",
   "execution_count": 891,
   "metadata": {},
   "outputs": [
    {
     "data": {
      "text/html": [
       "<div>\n",
       "<style scoped>\n",
       "    .dataframe tbody tr th:only-of-type {\n",
       "        vertical-align: middle;\n",
       "    }\n",
       "\n",
       "    .dataframe tbody tr th {\n",
       "        vertical-align: top;\n",
       "    }\n",
       "\n",
       "    .dataframe thead th {\n",
       "        text-align: right;\n",
       "    }\n",
       "</style>\n",
       "<table border=\"1\" class=\"dataframe\">\n",
       "  <thead>\n",
       "    <tr style=\"text-align: right;\">\n",
       "      <th></th>\n",
       "      <th>wagnum</th>\n",
       "      <th>rem_month</th>\n",
       "      <th>st_id_rem</th>\n",
       "      <th>road_id_rem</th>\n",
       "      <th>st_border_sign</th>\n",
       "      <th>st_sea_sign</th>\n",
       "      <th>st_river_sign</th>\n",
       "      <th>st_car_sign</th>\n",
       "      <th>st_ferry_sign</th>\n",
       "      <th>st_freigh_sign</th>\n",
       "      <th>opor_station_sign</th>\n",
       "    </tr>\n",
       "  </thead>\n",
       "  <tbody>\n",
       "    <tr>\n",
       "      <th>0</th>\n",
       "      <td>12</td>\n",
       "      <td>2022-11-22</td>\n",
       "      <td>6408</td>\n",
       "      <td>13</td>\n",
       "      <td>0.0</td>\n",
       "      <td>0.0</td>\n",
       "      <td>0.0</td>\n",
       "      <td>0.0</td>\n",
       "      <td>0.0</td>\n",
       "      <td>1.0</td>\n",
       "      <td>0.0</td>\n",
       "    </tr>\n",
       "    <tr>\n",
       "      <th>1</th>\n",
       "      <td>19</td>\n",
       "      <td>2023-02-10</td>\n",
       "      <td>10150</td>\n",
       "      <td>19</td>\n",
       "      <td>0.0</td>\n",
       "      <td>0.0</td>\n",
       "      <td>0.0</td>\n",
       "      <td>0.0</td>\n",
       "      <td>0.0</td>\n",
       "      <td>1.0</td>\n",
       "      <td>0.0</td>\n",
       "    </tr>\n",
       "    <tr>\n",
       "      <th>2</th>\n",
       "      <td>35</td>\n",
       "      <td>2022-08-12</td>\n",
       "      <td>9546</td>\n",
       "      <td>18</td>\n",
       "      <td>0.0</td>\n",
       "      <td>0.0</td>\n",
       "      <td>0.0</td>\n",
       "      <td>0.0</td>\n",
       "      <td>0.0</td>\n",
       "      <td>1.0</td>\n",
       "      <td>0.0</td>\n",
       "    </tr>\n",
       "    <tr>\n",
       "      <th>3</th>\n",
       "      <td>37</td>\n",
       "      <td>2022-10-11</td>\n",
       "      <td>12016</td>\n",
       "      <td>23</td>\n",
       "      <td>0.0</td>\n",
       "      <td>0.0</td>\n",
       "      <td>0.0</td>\n",
       "      <td>0.0</td>\n",
       "      <td>0.0</td>\n",
       "      <td>1.0</td>\n",
       "      <td>0.0</td>\n",
       "    </tr>\n",
       "    <tr>\n",
       "      <th>4</th>\n",
       "      <td>77</td>\n",
       "      <td>2022-11-10</td>\n",
       "      <td>7117</td>\n",
       "      <td>12</td>\n",
       "      <td>-1.0</td>\n",
       "      <td>-1.0</td>\n",
       "      <td>-1.0</td>\n",
       "      <td>-1.0</td>\n",
       "      <td>-1.0</td>\n",
       "      <td>-1.0</td>\n",
       "      <td>-1.0</td>\n",
       "    </tr>\n",
       "    <tr>\n",
       "      <th>...</th>\n",
       "      <td>...</td>\n",
       "      <td>...</td>\n",
       "      <td>...</td>\n",
       "      <td>...</td>\n",
       "      <td>...</td>\n",
       "      <td>...</td>\n",
       "      <td>...</td>\n",
       "      <td>...</td>\n",
       "      <td>...</td>\n",
       "      <td>...</td>\n",
       "      <td>...</td>\n",
       "    </tr>\n",
       "    <tr>\n",
       "      <th>12027</th>\n",
       "      <td>33972</td>\n",
       "      <td>2022-11-28</td>\n",
       "      <td>8693</td>\n",
       "      <td>17</td>\n",
       "      <td>0.0</td>\n",
       "      <td>0.0</td>\n",
       "      <td>0.0</td>\n",
       "      <td>0.0</td>\n",
       "      <td>0.0</td>\n",
       "      <td>1.0</td>\n",
       "      <td>0.0</td>\n",
       "    </tr>\n",
       "    <tr>\n",
       "      <th>12028</th>\n",
       "      <td>33973</td>\n",
       "      <td>2022-09-14</td>\n",
       "      <td>4420</td>\n",
       "      <td>7</td>\n",
       "      <td>0.0</td>\n",
       "      <td>0.0</td>\n",
       "      <td>0.0</td>\n",
       "      <td>0.0</td>\n",
       "      <td>0.0</td>\n",
       "      <td>1.0</td>\n",
       "      <td>0.0</td>\n",
       "    </tr>\n",
       "    <tr>\n",
       "      <th>12029</th>\n",
       "      <td>33974</td>\n",
       "      <td>2022-11-25</td>\n",
       "      <td>5722</td>\n",
       "      <td>12</td>\n",
       "      <td>0.0</td>\n",
       "      <td>0.0</td>\n",
       "      <td>0.0</td>\n",
       "      <td>0.0</td>\n",
       "      <td>0.0</td>\n",
       "      <td>1.0</td>\n",
       "      <td>0.0</td>\n",
       "    </tr>\n",
       "    <tr>\n",
       "      <th>12030</th>\n",
       "      <td>33975</td>\n",
       "      <td>2022-10-08</td>\n",
       "      <td>4789</td>\n",
       "      <td>13</td>\n",
       "      <td>0.0</td>\n",
       "      <td>0.0</td>\n",
       "      <td>0.0</td>\n",
       "      <td>0.0</td>\n",
       "      <td>0.0</td>\n",
       "      <td>1.0</td>\n",
       "      <td>0.0</td>\n",
       "    </tr>\n",
       "    <tr>\n",
       "      <th>12031</th>\n",
       "      <td>33976</td>\n",
       "      <td>2022-10-28</td>\n",
       "      <td>4387</td>\n",
       "      <td>7</td>\n",
       "      <td>0.0</td>\n",
       "      <td>0.0</td>\n",
       "      <td>0.0</td>\n",
       "      <td>0.0</td>\n",
       "      <td>0.0</td>\n",
       "      <td>1.0</td>\n",
       "      <td>0.0</td>\n",
       "    </tr>\n",
       "  </tbody>\n",
       "</table>\n",
       "<p>12032 rows × 11 columns</p>\n",
       "</div>"
      ],
      "text/plain": [
       "       wagnum  rem_month  st_id_rem  road_id_rem  st_border_sign  st_sea_sign   \n",
       "0          12 2022-11-22       6408           13             0.0          0.0  \\\n",
       "1          19 2023-02-10      10150           19             0.0          0.0   \n",
       "2          35 2022-08-12       9546           18             0.0          0.0   \n",
       "3          37 2022-10-11      12016           23             0.0          0.0   \n",
       "4          77 2022-11-10       7117           12            -1.0         -1.0   \n",
       "...       ...        ...        ...          ...             ...          ...   \n",
       "12027   33972 2022-11-28       8693           17             0.0          0.0   \n",
       "12028   33973 2022-09-14       4420            7             0.0          0.0   \n",
       "12029   33974 2022-11-25       5722           12             0.0          0.0   \n",
       "12030   33975 2022-10-08       4789           13             0.0          0.0   \n",
       "12031   33976 2022-10-28       4387            7             0.0          0.0   \n",
       "\n",
       "       st_river_sign  st_car_sign  st_ferry_sign  st_freigh_sign   \n",
       "0                0.0          0.0            0.0             1.0  \\\n",
       "1                0.0          0.0            0.0             1.0   \n",
       "2                0.0          0.0            0.0             1.0   \n",
       "3                0.0          0.0            0.0             1.0   \n",
       "4               -1.0         -1.0           -1.0            -1.0   \n",
       "...              ...          ...            ...             ...   \n",
       "12027            0.0          0.0            0.0             1.0   \n",
       "12028            0.0          0.0            0.0             1.0   \n",
       "12029            0.0          0.0            0.0             1.0   \n",
       "12030            0.0          0.0            0.0             1.0   \n",
       "12031            0.0          0.0            0.0             1.0   \n",
       "\n",
       "       opor_station_sign  \n",
       "0                    0.0  \n",
       "1                    0.0  \n",
       "2                    0.0  \n",
       "3                    0.0  \n",
       "4                   -1.0  \n",
       "...                  ...  \n",
       "12027                0.0  \n",
       "12028                0.0  \n",
       "12029                0.0  \n",
       "12030                0.0  \n",
       "12031                0.0  \n",
       "\n",
       "[12032 rows x 11 columns]"
      ]
     },
     "execution_count": 891,
     "metadata": {},
     "output_type": "execute_result"
    }
   ],
   "source": [
    "pr_rem_df"
   ]
  },
  {
   "cell_type": "markdown",
   "metadata": {},
   "source": [
    "wag_prob_ownership"
   ]
  },
  {
   "cell_type": "code",
   "execution_count": 892,
   "metadata": {
    "collapsed": false,
    "pycharm": {
     "is_executing": true
    }
   },
   "outputs": [],
   "source": [
    "df = pd.merge(target_df, wag_prob_df, how='left', on=[\"wagnum\"])\n",
    "df = df.drop(df[df[\"repdate\"] > df[\"month\"]].index)\n",
    "df = df.sort_values(by=[\"wagnum\", \"month\", \"repdate\"])\n",
    "df = df.groupby([\"wagnum\", \"month\"]).last().reset_index()\n",
    "df = df.fillna(-1)\n",
    "\n",
    "df[\"ost_prob\"] = df[\"ost_prob\"].astype(int)\n",
    "df[\"manage_type\"] = df[\"manage_type\"].astype(int)\n",
    "df[\"rod_id\"] = df[\"rod_id\"].astype(int)\n",
    "df[\"reestr_state\"] = df[\"reestr_state\"].astype(int)\n",
    "numerical_features.extend([\"ost_prob\", \"manage_type\", \"rod_id\", \"reestr_state\"])"
   ]
  },
  {
   "cell_type": "markdown",
   "metadata": {},
   "source": [
    "wag_param"
   ]
  },
  {
   "cell_type": "code",
   "execution_count": 893,
   "metadata": {},
   "outputs": [],
   "source": [
    "df = pd.merge(df, wag_param_df, how='left', on='wagnum')\n",
    "\n",
    "df['days_build'] = (df['month'] - df['date_build']).dt.days\n",
    "df['days_srok'] = (df['srok_sl'] - df['month']).dt.days\n",
    "df.drop(['srok_sl', 'date_build'], axis=1)\n",
    "\n",
    "wag_param_numerical = ['cnsi_gruz_capacity', 'cnsi_volumek', 'tara',\n",
    "       'days_build', 'days_srok', 'zavod_build', 'cnsi_probeg_dr',\n",
    "       'cnsi_probeg_kr', 'kuzov', 'telega', 'tormoz', 'tipvozd', 'tippogl',\n",
    "       'norma_km', 'ownertype']\n",
    "\n",
    "for wag_param_numeric in wag_param_numerical:\n",
    "    df[wag_param_numeric] = df[wag_param_numeric].astype(int)\n",
    "\n",
    "df['model'] = df['model'].astype(str)\n",
    "\n",
    "categorical_features.extend(['model'])\n",
    "numerical_features.extend(wag_param_numerical)"
   ]
  },
  {
   "cell_type": "markdown",
   "metadata": {},
   "source": [
    "dislok_wagons"
   ]
  },
  {
   "cell_type": "code",
   "execution_count": 894,
   "metadata": {},
   "outputs": [],
   "source": [
    "df = pd.merge(df, dislok_df, how='left', on='wagnum')\n",
    "df = df.drop(df[df[\"plan_date\"] > df[\"month\"]].index)\n",
    "df = df.sort_values(by=[\"wagnum\", \"month\", \"plan_date\"])\n",
    "df = df.groupby([\"wagnum\", \"month\"]).last().reset_index()\n",
    "\n",
    "df[\"rem_days\"] = df[\"rem_days\"].astype(int)\n",
    "df[\"kap_days\"] = df[\"kap_days\"].astype(int)\n",
    "df[\"dep_days\"] = df[\"dep_days\"].astype(int)\n",
    "df[\"ost_prob_dislok\"] = df[\"ost_prob_dislok\"].astype(int)\n",
    "\n",
    "gruz_cols = ['fr_class', 'skoroport', 'naval', 'nasip', 'naliv', 'openvagons', 'soprovod', 'smerz', 'distance', 'isload']\n",
    "\n",
    "for gruz_col in gruz_cols:\n",
    "    df[gruz_col] = df[gruz_col].astype(int)\n",
    "\n",
    "numerical_features.extend(['rem_days', 'kap_days', 'dep_days', 'ost_prob_dislok'])\n",
    "numerical_features.extend(gruz_cols)"
   ]
  },
  {
   "cell_type": "markdown",
   "metadata": {},
   "source": [
    "tr_rems"
   ]
  },
  {
   "cell_type": "code",
   "execution_count": 895,
   "metadata": {},
   "outputs": [],
   "source": [
    "temp_df = pd.merge(df[['wagnum', 'month']], tr_rem_df, how='left', on='wagnum')\n",
    "temp_df = temp_df.drop(temp_df[temp_df[\"rem_month\"] > temp_df[\"month\"]].index)\n",
    "\n",
    "count_rem = temp_df.groupby(['wagnum', 'month']).size().reset_index(name='count_rem')\n",
    "mean_gr = temp_df.groupby(['wagnum', 'month'])['gr_probeg'].mean().reset_index(name='mean_gr_probeg')\n",
    "df = pd.merge(df, count_rem, how='left', on=['wagnum', 'month'])\n",
    "df = pd.merge(df, mean_gr, how='left', on=['wagnum', 'month'])\n",
    "df['count_rem'].fillna(-1, inplace=True)\n",
    "df['mean_gr_probeg'].fillna(-1, inplace=True)\n",
    "\n",
    "df['count_rem']= df['count_rem'].astype(int)\n",
    "df[\"mean_gr_probeg\"] = df[\"mean_gr_probeg\"].astype('double')\n",
    "\n",
    "numerical_features.extend(['count_rem', 'mean_gr_probeg'])"
   ]
  },
  {
   "cell_type": "code",
   "execution_count": 896,
   "metadata": {},
   "outputs": [
    {
     "name": "stdout",
     "output_type": "stream",
     "text": [
      "237559\n"
     ]
    }
   ],
   "source": [
    "print(len(df))"
   ]
  },
  {
   "cell_type": "markdown",
   "metadata": {},
   "source": [
    "pr_rems"
   ]
  },
  {
   "cell_type": "code",
   "execution_count": 897,
   "metadata": {},
   "outputs": [],
   "source": [
    "tdf = pd.merge(df[['wagnum', 'month']], pr_rem_df, how='left', on='wagnum')\n",
    "tdf = tdf.drop(tdf[tdf[\"rem_month\"] > tdf[\"month\"]].index)\n",
    "\n",
    "tdf = tdf.sort_values(by=[\"wagnum\", \"month\", \"rem_month\"])\n",
    "tdf = tdf.groupby([\"wagnum\", \"month\"]).last().reset_index()\n",
    "tdf.drop(['rem_month'], axis=1, inplace=True)\n",
    "\n",
    "df = pd.merge(df, tdf, how='left', on=['wagnum', 'month'])\n",
    "\n",
    "df.fillna(-1, inplace=True)\n",
    "for col in stations_df_cols:\n",
    "    df[col]= df[col].astype(int)\n",
    "\n",
    "numerical_features.extend(stations_df_cols)"
   ]
  },
  {
   "cell_type": "markdown",
   "metadata": {},
   "source": [
    "KTI"
   ]
  },
  {
   "cell_type": "code",
   "execution_count": 898,
   "metadata": {},
   "outputs": [],
   "source": [
    "# temp_df = pd.merge(df[['wagnum','month']], kti_izm_df, how='left', on='wagnum')\n",
    "# temp_df = temp_df.drop(temp_df[temp_df[\"operation_date_dttm\"] > temp_df[\"month\"]].index)\n",
    "# temp_df = temp_df.sort_values(by=[\"wagnum\", \"month\", \"operation_date_dttm\"])\n",
    "# temp_df = temp_df.groupby([\"wagnum\", \"month\"]).last().reset_index()\n",
    "# df = pd.merge(df, temp_df, how='left', on=['wagnum', 'month'])\n",
    "\n",
    "# kti_numeric_features = kti_izm_df.columns.to_list()[2:]\n",
    "# df.fillna(-1, inplace=True)\n",
    "\n",
    "# df['mileage_all'] = df['mileage_all'].astype(int)\n",
    "\n",
    "# for kti_numeric in kti_numeric_features[1:]:\n",
    "#     df[kti_numeric] = df[kti_numeric].astype('double')\n",
    "\n",
    "# numerical_features.extend(kti_numeric_features)"
   ]
  },
  {
   "cell_type": "markdown",
   "metadata": {},
   "source": [
    "KTI(deprecated)"
   ]
  },
  {
   "cell_type": "code",
   "execution_count": 899,
   "metadata": {},
   "outputs": [],
   "source": [
    "# df = pd.merge(df, kti_add, how='left', on='wagnum')\n",
    "# #df = df.drop(df[df[\"operation_date_dttm\"] > df[\"month\"]].index)\n",
    "# df.loc[df[\"operation_date_dttm\"] > df[\"month\"], kti_numerical] = -1\n",
    "# df = df.sort_values(by=[\"wagnum\", \"month\", \"operation_date_dttm\"])\n",
    "# df = df.groupby([\"wagnum\", \"month\"]).last().reset_index()\n",
    "# df.fillna(-1, inplace=True)\n",
    "\n",
    "# df['mileage_all'] = df['mileage_all'].astype(int)\n",
    "\n",
    "# for kti_numeric in kti_numerical[1:]:\n",
    "#     df[kti_numerical] = df[kti_numerical].astype('double')\n",
    "\n",
    "# numerical_features.extend(kti_numerical)\n"
   ]
  },
  {
   "cell_type": "code",
   "execution_count": 900,
   "metadata": {
    "collapsed": false
   },
   "outputs": [],
   "source": [
    "def fit_cb(df, params, months_val, target_name):\n",
    "\n",
    "    x_train = df[~df[\"month\"].isin(months_val)][numerical_features + categorical_features + text_features]\n",
    "    x_val = df[df[\"month\"].isin(months_val)][numerical_features + categorical_features + text_features]\n",
    "\n",
    "    y_train = df[~df[\"month\"].isin(months_val)][target_name]\n",
    "    y_val = df[df[\"month\"].isin(months_val)][target_name]\n",
    "    print(f\"Train class imbalance: {y_train.value_counts()}\")\n",
    "    print(f\"Val class imbalance: {y_val.value_counts()}\")\n",
    "\n",
    "    train_pool = cb.Pool(\n",
    "        data = x_train,\n",
    "        label = y_train,\n",
    "        cat_features = categorical_features,\n",
    "        text_features = text_features\n",
    "    )\n",
    "\n",
    "    eval_pool = cb.Pool(\n",
    "        data = x_val,\n",
    "        label = y_val,\n",
    "        cat_features = categorical_features,\n",
    "        text_features = text_features\n",
    "    )\n",
    "\n",
    "    model = cb.CatBoostClassifier(**params)\n",
    "\n",
    "    model.fit(\n",
    "        train_pool,\n",
    "        eval_set=eval_pool,\n",
    "        verbose=True\n",
    "    )\n",
    "    print(\"best results (train on train):\")\n",
    "    print(model.get_best_score()[\"learn\"])\n",
    "    print(\"best results (on validation set):\")\n",
    "    print(model.get_best_score()[\"validation\"])\n",
    "    print(model.get_feature_importance(data=train_pool, prettified=True))\n",
    "\n",
    "    return model"
   ]
  },
  {
   "cell_type": "code",
   "execution_count": 901,
   "metadata": {
    "collapsed": false
   },
   "outputs": [
    {
     "name": "stdout",
     "output_type": "stream",
     "text": [
      "Train class imbalance: target_month\n",
      "0    193177\n",
      "1     10405\n",
      "Name: count, dtype: Int64\n",
      "Val class imbalance: target_month\n",
      "0    32393\n",
      "1     1584\n",
      "Name: count, dtype: Int64\n",
      "0:\tlearn: 0.6253398\ttest: 0.6261832\tbest: 0.6261832 (0)\ttotal: 48.9ms\tremaining: 1m 37s\n",
      "500:\tlearn: 0.0745315\ttest: 0.0672141\tbest: 0.0672141 (500)\ttotal: 15.6s\tremaining: 46.6s\n",
      "1000:\tlearn: 0.0711597\ttest: 0.0671728\tbest: 0.0671728 (1000)\ttotal: 30.4s\tremaining: 30.3s\n",
      "1500:\tlearn: 0.0684922\ttest: 0.0671772\tbest: 0.0671728 (1000)\ttotal: 45.7s\tremaining: 15.2s\n",
      "1999:\tlearn: 0.0661805\ttest: 0.0676415\tbest: 0.0671728 (1000)\ttotal: 1m 1s\tremaining: 0us\n",
      "\n",
      "bestTest = 0.06717279764\n",
      "bestIteration = 1000\n",
      "\n",
      "Shrink model to first 1001 iterations.\n",
      "best results (train on train):\n",
      "{'Accuracy': 0.9727333457771316, 'F1': 0.6983316124123689, 'CrossEntropy': 0.06618047603877666}\n",
      "best results (on validation set):\n",
      "{'Accuracy': 0.9719221826529711, 'F1': 0.6640845070422535, 'CrossEntropy': 0.06717279764174991, 'AUC': 0.9822645698799497}\n",
      "            Feature Id  Importances\n",
      "0             ost_prob    30.884814\n",
      "1      ost_prob_dislok    25.295400\n",
      "2             rem_days    16.288738\n",
      "3       mean_gr_probeg     3.194341\n",
      "4            count_rem     3.174376\n",
      "5                 tara     2.137455\n",
      "6          road_id_rem     1.927070\n",
      "7            days_srok     1.699985\n",
      "8           days_build     1.540001\n",
      "9            st_id_rem     1.414446\n",
      "10        cnsi_volumek     1.411973\n",
      "11  cnsi_gruz_capacity     1.329117\n",
      "12            dep_days     1.207081\n",
      "13            fr_class     1.163278\n",
      "14            kap_days     1.144650\n",
      "15             tipvozd     0.715727\n",
      "16              rod_id     0.630494\n",
      "17            distance     0.534951\n",
      "18   opor_station_sign     0.347687\n",
      "19           ownertype     0.344342\n",
      "20               naval     0.325496\n",
      "21              isload     0.319829\n",
      "22          openvagons     0.313643\n",
      "23      st_freigh_sign     0.312478\n",
      "24            norma_km     0.308814\n",
      "25         zavod_build     0.271195\n",
      "26             tippogl     0.270847\n",
      "27       st_river_sign     0.221225\n",
      "28               nasip     0.217288\n",
      "29               kuzov     0.159611\n",
      "30              telega     0.120510\n",
      "31               model     0.116729\n",
      "32       st_ferry_sign     0.097769\n",
      "33      cnsi_probeg_dr     0.097386\n",
      "34              tormoz     0.096506\n",
      "35         st_car_sign     0.074928\n",
      "36         st_sea_sign     0.051791\n",
      "37               naliv     0.050034\n",
      "38      cnsi_probeg_kr     0.041629\n",
      "39               smerz     0.039280\n",
      "40           skoroport     0.033260\n",
      "41         manage_type     0.033148\n",
      "42        reestr_state     0.029452\n",
      "43            soprovod     0.008712\n",
      "44      st_border_sign     0.002516\n",
      "Train class imbalance: target_day\n",
      "0    200260\n",
      "1      3322\n",
      "Name: count, dtype: Int64\n",
      "Val class imbalance: target_day\n",
      "0    33407\n",
      "1      570\n",
      "Name: count, dtype: Int64\n",
      "0:\tlearn: 0.6139560\ttest: 0.6153011\tbest: 0.6153011 (0)\ttotal: 40.5ms\tremaining: 1m 20s\n",
      "500:\tlearn: 0.0367041\ttest: 0.0364969\tbest: 0.0364969 (500)\ttotal: 15.6s\tremaining: 46.6s\n",
      "1000:\tlearn: 0.0341310\ttest: 0.0363808\tbest: 0.0363808 (1000)\ttotal: 30.3s\tremaining: 30.2s\n",
      "1500:\tlearn: 0.0319791\ttest: 0.0366495\tbest: 0.0363808 (1000)\ttotal: 44.9s\tremaining: 14.9s\n",
      "1999:\tlearn: 0.0301426\ttest: 0.0369677\tbest: 0.0363808 (1000)\ttotal: 59.7s\tremaining: 0us\n",
      "\n",
      "bestTest = 0.03638077842\n",
      "bestIteration = 1000\n",
      "\n",
      "Shrink model to first 1001 iterations.\n",
      "best results (train on train):\n",
      "{'Accuracy': 0.9893359923765362, 'F1': 0.5584706121618873, 'CrossEntropy': 0.03014262418477668}\n",
      "best results (on validation set):\n",
      "{'Accuracy': 0.9858727963033816, 'F1': 0.40781440781440786, 'CrossEntropy': 0.03638077841865472, 'AUC': 0.9835680514484043}\n",
      "            Feature Id  Importances\n",
      "0             ost_prob    28.725182\n",
      "1      ost_prob_dislok    23.909428\n",
      "2             rem_days    14.284962\n",
      "3            days_srok     3.485664\n",
      "4               isload     2.851457\n",
      "5             kap_days     2.523798\n",
      "6             dep_days     2.408359\n",
      "7          road_id_rem     2.146029\n",
      "8            st_id_rem     1.922104\n",
      "9           days_build     1.845013\n",
      "10        cnsi_volumek     1.755200\n",
      "11      mean_gr_probeg     1.718427\n",
      "12  cnsi_gruz_capacity     1.510460\n",
      "13                tara     1.506419\n",
      "14            distance     1.214256\n",
      "15          openvagons     1.025409\n",
      "16           count_rem     0.830777\n",
      "17            fr_class     0.809891\n",
      "18         zavod_build     0.623546\n",
      "19              telega     0.512639\n",
      "20             tipvozd     0.465030\n",
      "21            norma_km     0.440371\n",
      "22   opor_station_sign     0.432631\n",
      "23              rod_id     0.408704\n",
      "24             tippogl     0.368782\n",
      "25           ownertype     0.327188\n",
      "26      cnsi_probeg_dr     0.270488\n",
      "27      st_freigh_sign     0.239688\n",
      "28       st_ferry_sign     0.239376\n",
      "29               naval     0.159210\n",
      "30              tormoz     0.152451\n",
      "31       st_river_sign     0.151094\n",
      "32               nasip     0.137507\n",
      "33               naliv     0.092519\n",
      "34         st_sea_sign     0.091217\n",
      "35               kuzov     0.085931\n",
      "36      cnsi_probeg_kr     0.081422\n",
      "37      st_border_sign     0.064038\n",
      "38         st_car_sign     0.051313\n",
      "39        reestr_state     0.032440\n",
      "40           skoroport     0.029808\n",
      "41            soprovod     0.023267\n",
      "42               smerz     0.022311\n",
      "43         manage_type     0.017800\n",
      "44               model     0.006393\n"
     ]
    }
   ],
   "source": [
    "cb_params  = {\n",
    "    'iterations': 2000,\n",
    "    'loss_function': 'CrossEntropy',\n",
    "    'custom_metric': ['AUC', 'Accuracy', 'F1'],\n",
    "    'verbose': False,\n",
    "    'random_seed': SEED,\n",
    "    \"task_type\": \"CPU\",\n",
    "    \"has_time\": True,\n",
    "    \"metric_period\": 500,\n",
    "    \"save_snapshot\": False,\n",
    "    \"use_best_model\": True,\n",
    "}\n",
    "\n",
    "cb_month_model = fit_cb(df, cb_params, months_val=months_val, target_name=\"target_month\")\n",
    "cb_10days_model = fit_cb(df, cb_params, months_val=months_val, target_name=\"target_day\")"
   ]
  },
  {
   "cell_type": "code",
   "execution_count": 902,
   "metadata": {
    "collapsed": false
   },
   "outputs": [
    {
     "name": "stdout",
     "output_type": "stream",
     "text": [
      "33977\n"
     ]
    }
   ],
   "source": [
    "x_val = df[df[\"month\"].isin(months_val)][numerical_features + categorical_features + text_features]\n",
    "print(len(x_val))\n",
    "pred_month = cb_month_model.predict(x_val)\n",
    "pred_10days = cb_10days_model.predict(x_val)"
   ]
  },
  {
   "cell_type": "code",
   "execution_count": 903,
   "metadata": {
    "collapsed": false
   },
   "outputs": [],
   "source": [
    "val_df = pd.DataFrame({\"wagnum\": df[df[\"month\"].isin(months_val)][\"wagnum\"]})\n",
    "val_df[\"target_month\"] = pred_month\n",
    "val_df[\"target_day\"] = pred_10days"
   ]
  },
  {
   "cell_type": "code",
   "execution_count": 904,
   "metadata": {
    "collapsed": false
   },
   "outputs": [
    {
     "name": "stdout",
     "output_type": "stream",
     "text": [
      "0.6536964980544748\n",
      "0.4074074074074074\n",
      "cv_score = 0.5305519527309411\n"
     ]
    }
   ],
   "source": [
    "def my_calc_f1_score(gt_path, pred_df):\n",
    "\n",
    "    pred_labels = pred_df.sort_values(by=[\"wagnum\"])\n",
    "\n",
    "    true_labels = pd.read_csv(gt_path)\n",
    "    true_labels = true_labels.sort_values(by=[\"wagnum\"])\n",
    "\n",
    "    # Таргет для месячного прогноза\n",
    "    true_labels_month = true_labels['target_month'].values\n",
    "    pred_labels_month = pred_labels['target_month'].values\n",
    "\n",
    "    # Таргет для 10 дневного прогноза\n",
    "    true_labels_day = true_labels['target_day'].values\n",
    "    pred_labels_day = pred_labels['target_day'].values\n",
    "\n",
    "    # Посчитаем метрику для месяца и 10 дней\n",
    "    score_month = f1_score(true_labels_month, pred_labels_month)\n",
    "    score_day = f1_score(true_labels_day, pred_labels_day)\n",
    "\n",
    "    # Посчитаем метрику с весом для двух таргетов\n",
    "    print(score_month)\n",
    "    print(score_day)\n",
    "    score = 0.5 * score_month + 0.5 * score_day\n",
    "    return score\n",
    "\n",
    "cv_score = my_calc_f1_score(gt_path, val_df)\n",
    "print(f\"{cv_score = }\")"
   ]
  },
  {
   "cell_type": "code",
   "execution_count": 905,
   "metadata": {},
   "outputs": [
    {
     "name": "stdout",
     "output_type": "stream",
     "text": [
      "33707\n"
     ]
    }
   ],
   "source": [
    "test_df = pd.read_csv('../train/target/y_predict.csv').convert_dtypes()\n",
    "test_df['month'] = pd.to_datetime(test_df['month'])\n",
    "\n",
    "test_df_copy = test_df.copy()\n",
    "print(len(test_df_copy))\n",
    "\n",
    "test_df = pd.merge(test_df, wag_prob_df, how='left', on=[\"wagnum\"])\n",
    "test_df = test_df.drop(test_df[test_df[\"repdate\"] > test_df[\"month\"]].index)\n",
    "test_df = test_df.groupby([\"wagnum\", \"month\"]).last().reset_index()\n",
    "test_df = test_df.fillna(-1)\n",
    "test_df = test_df_copy.merge(test_df)\n",
    "\n",
    "test_df[\"ost_prob\"] = test_df[\"ost_prob\"].astype(int)\n",
    "test_df[\"manage_type\"] = test_df[\"manage_type\"].astype(int)\n",
    "test_df[\"rod_id\"] = test_df[\"rod_id\"].astype(int)\n",
    "test_df[\"reestr_state\"] = test_df[\"reestr_state\"].astype(int)\n"
   ]
  },
  {
   "cell_type": "code",
   "execution_count": 906,
   "metadata": {},
   "outputs": [],
   "source": [
    "test_df = pd.merge(test_df, wag_param_df, how='left', on='wagnum')\n",
    "\n",
    "test_df['days_build'] = (test_df['month'] - test_df['date_build']).dt.days\n",
    "test_df['days_srok'] = (test_df['srok_sl'] - test_df['month']).dt.days\n",
    "\n",
    "test_df.drop(['srok_sl', 'date_build'], axis=1)\n",
    "\n",
    "wag_param_numerical = ['cnsi_gruz_capacity', 'cnsi_volumek', 'tara',\n",
    "       'days_build', 'days_srok', 'zavod_build', 'cnsi_probeg_dr',\n",
    "       'cnsi_probeg_kr', 'kuzov', 'telega', 'tormoz', 'tipvozd', 'tippogl',\n",
    "       'norma_km', 'ownertype']\n",
    "\n",
    "for wag_param_numeric in wag_param_numerical:\n",
    "    test_df[wag_param_numeric] = test_df[wag_param_numeric].astype(int)\n",
    "\n",
    "test_df['model'] = test_df['model'].astype(str)"
   ]
  },
  {
   "cell_type": "code",
   "execution_count": 907,
   "metadata": {},
   "outputs": [
    {
     "name": "stdout",
     "output_type": "stream",
     "text": [
      "33707\n"
     ]
    }
   ],
   "source": [
    "test_df = pd.merge(test_df, dislok_df, how='left', on='wagnum')\n",
    "test_df = test_df.drop(test_df[test_df[\"plan_date\"] > test_df[\"month\"]].index)\n",
    "test_df = test_df.sort_values(by=[\"wagnum\", \"month\", \"plan_date\"])\n",
    "test_df = test_df.groupby([\"wagnum\", \"month\"]).last().reset_index()\n",
    "test_df = test_df_copy.merge(test_df)\n",
    "\n",
    "print(len(test_df))\n",
    "test_df[\"rem_days\"] = test_df[\"rem_days\"].astype(int)\n",
    "test_df[\"kap_days\"] = test_df[\"kap_days\"].astype(int)\n",
    "test_df[\"dep_days\"] = test_df[\"dep_days\"].astype(int)\n",
    "test_df[\"ost_prob_dislok\"] = test_df[\"ost_prob_dislok\"].astype(int)\n",
    "\n",
    "gruz_cols = ['fr_class', 'skoroport', 'naval', 'nasip', 'naliv', 'openvagons', 'soprovod', 'smerz', 'distance', 'isload']\n",
    "\n",
    "for gruz_col in gruz_cols:\n",
    "    test_df[gruz_col] = test_df[gruz_col].astype(int)"
   ]
  },
  {
   "cell_type": "code",
   "execution_count": 908,
   "metadata": {},
   "outputs": [
    {
     "name": "stdout",
     "output_type": "stream",
     "text": [
      "33707\n"
     ]
    }
   ],
   "source": [
    "temp_df = pd.merge(test_df[['wagnum', 'month']], tr_rem_df, how='left', on='wagnum')\n",
    "temp_df = temp_df.drop(temp_df[temp_df[\"rem_month\"] > temp_df[\"month\"]].index)\n",
    "\n",
    "count_rem = temp_df.groupby(['wagnum', 'month']).size().reset_index(name='count_rem')\n",
    "mean_gr = temp_df.groupby(['wagnum', 'month'])['gr_probeg'].mean().reset_index(name='mean_gr_probeg')\n",
    "\n",
    "test_df = pd.merge(test_df, count_rem, how='left', on=['wagnum', 'month'])\n",
    "test_df = pd.merge(test_df, mean_gr, how='left', on=['wagnum', 'month'])\n",
    "test_df['count_rem'].fillna(-1, inplace=True)\n",
    "test_df['mean_gr_probeg'].fillna(-1, inplace=True)\n",
    "\n",
    "test_df['count_rem']= test_df['count_rem'].astype(int)\n",
    "test_df[\"mean_gr_probeg\"] = test_df[\"mean_gr_probeg\"].astype('double')\n",
    "print(len(test_df))\n",
    "test_df = test_df_copy.merge(test_df)"
   ]
  },
  {
   "cell_type": "code",
   "execution_count": 909,
   "metadata": {},
   "outputs": [],
   "source": [
    "tdf = pd.merge(test_df[['wagnum', 'month']], pr_rem_df, how='left', on='wagnum')\n",
    "tdf = tdf.drop(tdf[tdf[\"rem_month\"] > tdf[\"month\"]].index)\n",
    "\n",
    "tdf = tdf.sort_values(by=[\"wagnum\", \"month\", \"rem_month\"])\n",
    "tdf = tdf.groupby([\"wagnum\", \"month\"]).last().reset_index()\n",
    "tdf.drop(['rem_month'], axis=1, inplace=True)\n",
    "\n",
    "test_df = pd.merge(test_df, tdf, how='left', on=['wagnum', 'month'])\n",
    "\n",
    "test_df.fillna(-1, inplace=True)\n",
    "for col in stations_df_cols:\n",
    "    test_df[col]= test_df[col].astype(int)\n",
    "\n",
    "test_df = test_df_copy.merge(test_df)"
   ]
  },
  {
   "cell_type": "code",
   "execution_count": 910,
   "metadata": {},
   "outputs": [
    {
     "name": "stdout",
     "output_type": "stream",
     "text": [
      "33707\n"
     ]
    }
   ],
   "source": [
    "print(len(test_df))"
   ]
  },
  {
   "cell_type": "code",
   "execution_count": 911,
   "metadata": {},
   "outputs": [],
   "source": [
    "# test_df = pd.merge(test_df, kti_add, how='left', on='wagnum')\n",
    "# test_df.loc[test_df[\"operation_date_dttm\"] > test_df[\"month\"], kti_numerical] = -1\n",
    "# test_df = test_df.sort_values(by=[\"wagnum\", \"month\", \"operation_date_dttm\"])\n",
    "# test_df = test_df.groupby([\"wagnum\", \"month\"]).last().reset_index()\n",
    "# test_df.fillna(-1, inplace=True)\n",
    "# test_df = test_df_copy.merge(test_df)\n",
    "\n",
    "# test_df['mileage_all'] = test_df['mileage_all'].astype(int)\n",
    "\n",
    "# for kti_numeric in kti_numerical[1:]:\n",
    "#     test_df[kti_numerical] = test_df[kti_numerical].astype('double')\n"
   ]
  },
  {
   "cell_type": "code",
   "execution_count": 912,
   "metadata": {},
   "outputs": [],
   "source": [
    "x_test = test_df[numerical_features + categorical_features + text_features]"
   ]
  },
  {
   "cell_type": "code",
   "execution_count": 913,
   "metadata": {},
   "outputs": [],
   "source": [
    "pred_month = cb_month_model.predict(x_test)\n",
    "pred_10days = cb_10days_model.predict(x_test)"
   ]
  },
  {
   "cell_type": "code",
   "execution_count": 914,
   "metadata": {},
   "outputs": [
    {
     "name": "stdout",
     "output_type": "stream",
     "text": [
      "target_month\n",
      "0    32303\n",
      "1     1404\n",
      "Name: count, dtype: int64\n",
      "target_day\n",
      "0    33398\n",
      "1      309\n",
      "Name: count, dtype: int64\n"
     ]
    },
    {
     "name": "stderr",
     "output_type": "stream",
     "text": [
      "/var/folders/wp/ll6ymdkx1gg8l2vyp57k2r840000gn/T/ipykernel_30531/1180199746.py:2: SettingWithCopyWarning: \n",
      "A value is trying to be set on a copy of a slice from a DataFrame.\n",
      "Try using .loc[row_indexer,col_indexer] = value instead\n",
      "\n",
      "See the caveats in the documentation: https://pandas.pydata.org/pandas-docs/stable/user_guide/indexing.html#returning-a-view-versus-a-copy\n",
      "  submit_df[\"target_month\"] = pred_month\n",
      "/var/folders/wp/ll6ymdkx1gg8l2vyp57k2r840000gn/T/ipykernel_30531/1180199746.py:3: SettingWithCopyWarning: \n",
      "A value is trying to be set on a copy of a slice from a DataFrame.\n",
      "Try using .loc[row_indexer,col_indexer] = value instead\n",
      "\n",
      "See the caveats in the documentation: https://pandas.pydata.org/pandas-docs/stable/user_guide/indexing.html#returning-a-view-versus-a-copy\n",
      "  submit_df[\"target_day\"] = pred_10days\n"
     ]
    }
   ],
   "source": [
    "submit_df = test_df[[\"wagnum\", \"month\"]]\n",
    "submit_df[\"target_month\"] = pred_month\n",
    "submit_df[\"target_day\"] = pred_10days\n",
    "\n",
    "print(submit_df[\"target_month\"].value_counts())\n",
    "print(submit_df[\"target_day\"].value_counts())\n",
    "\n",
    "submit_df.to_csv(\"submission.csv\", index=False)"
   ]
  },
  {
   "cell_type": "code",
   "execution_count": null,
   "metadata": {},
   "outputs": [],
   "source": []
  },
  {
   "cell_type": "code",
   "execution_count": null,
   "metadata": {},
   "outputs": [],
   "source": []
  }
 ],
 "metadata": {
  "kernelspec": {
   "display_name": "Python 3",
   "language": "python",
   "name": "python3"
  },
  "language_info": {
   "codemirror_mode": {
    "name": "ipython",
    "version": 3
   },
   "file_extension": ".py",
   "mimetype": "text/x-python",
   "name": "python",
   "nbconvert_exporter": "python",
   "pygments_lexer": "ipython3",
   "version": "3.11.2"
  }
 },
 "nbformat": 4,
 "nbformat_minor": 0
}
