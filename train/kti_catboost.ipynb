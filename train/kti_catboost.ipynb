{
 "cells": [
  {
   "cell_type": "code",
   "execution_count": 214,
   "outputs": [],
   "source": [
    "import sys\n",
    "sys.path.append('..')\n",
    "from metrics_f1 import calc_f1_score"
   ],
   "metadata": {
    "collapsed": false
   }
  },
  {
   "cell_type": "code",
   "execution_count": 215,
   "metadata": {
    "collapsed": true
   },
   "outputs": [],
   "source": [
    "import pandas as pd\n",
    "from src.timeconverter import date_to_timestamp"
   ]
  },
  {
   "cell_type": "code",
   "execution_count": 216,
   "outputs": [],
   "source": [
    "path_train = r\"./\""
   ],
   "metadata": {
    "collapsed": false
   }
  },
  {
   "cell_type": "code",
   "execution_count": 217,
   "outputs": [],
   "source": [
    "kti = pd.read_parquet(path_train + '/kti_izm.parquet').convert_dtypes()"
   ],
   "metadata": {
    "collapsed": false
   }
  },
  {
   "cell_type": "code",
   "execution_count": 218,
   "outputs": [],
   "source": [
    "kti_2 = pd.read_parquet('../train2/kti_izm.parquet').convert_dtypes()"
   ],
   "metadata": {
    "collapsed": false
   }
  },
  {
   "cell_type": "code",
   "execution_count": 219,
   "outputs": [
    {
     "data": {
      "text/plain": "        wagnum operation_date_dttm  mileage_all  axl1_l_w_flange   \n43        1302          2023-02-17        67638             29.6  \\\n60        1374          2023-02-25        83798             29.1   \n137       2916          2023-02-21       121660             30.4   \n196       3849          2023-02-19        59664             30.6   \n197       3849          2023-02-20        59664             30.9   \n...        ...                 ...          ...              ...   \n212300   26543          2023-02-28        18361             29.5   \n212327   33975          2023-02-28        13736             25.9   \n212347   28227          2023-02-28       154365             26.9   \n212349   33698          2023-02-28        39226             29.4   \n212366   29168          2023-02-28        17693             29.3   \n\n        axl1_r_w_flange  axl2_l_w_flange  axl2_r_w_flange  axl3_l_w_flange   \n43                 29.5             30.0             29.6             30.2  \\\n60                 27.9             27.7             29.1             29.3   \n137                26.5             30.8             28.2             26.9   \n196                29.2             31.6             28.5             31.0   \n197                28.7             32.4             28.1             31.0   \n...                 ...              ...              ...              ...   \n212300             28.2             27.8             29.0             28.2   \n212327             28.5             28.4             28.9             28.1   \n212347             28.5             26.7             28.1             29.0   \n212349             28.3             27.9             27.0             28.0   \n212366             29.0             29.2             29.7             28.0   \n\n        axl3_r_w_flange  axl4_l_w_flange  axl4_r_w_flange  axl1_l_w_rim   \n43                 29.9             30.9             29.5          37.8  \\\n60                 30.2             29.4             27.5          48.9   \n137                27.1             29.8             31.2          69.2   \n196                30.7             29.3             30.0          75.1   \n197                29.7             30.5             29.9          75.6   \n...                 ...              ...              ...           ...   \n212300             29.3             29.7             28.9          64.4   \n212327             28.0             28.2             29.5          51.4   \n212347             27.4             29.8             29.0          72.4   \n212349             28.8             26.7             28.9          35.1   \n212366             29.1             29.2             28.7          64.5   \n\n        axl1_r_w_rim  axl2_l_w_rim  axl2_r_w_rim  axl3_l_w_rim  axl3_r_w_rim   \n43              39.2          39.5          38.9          41.8          38.9  \\\n60              49.0          49.7          51.0          30.7          32.4   \n137             66.7          66.8          63.7          66.1          66.3   \n196             76.1          74.8          73.7          75.6          76.8   \n197             76.8          74.1          74.7          75.8          77.0   \n...              ...           ...           ...           ...           ...   \n212300          65.7          58.8          58.3          50.1          50.1   \n212327          51.6          46.5          47.3          52.4          50.9   \n212347          72.3          60.2          58.7          69.8          72.1   \n212349          36.6          40.1          40.5          46.6          47.0   \n212366          64.6          57.4          57.8          58.3          58.1   \n\n        axl4_l_w_rim  axl4_r_w_rim  \n43              36.5          38.2  \n60              30.6          28.8  \n137             68.1          67.6  \n196             72.2          72.9  \n197             74.9          74.2  \n...              ...           ...  \n212300          58.1          57.1  \n212327          54.0          56.7  \n212347          76.2          78.0  \n212349          43.5          41.7  \n212366          57.8          57.4  \n\n[22428 rows x 19 columns]",
      "text/html": "<div>\n<style scoped>\n    .dataframe tbody tr th:only-of-type {\n        vertical-align: middle;\n    }\n\n    .dataframe tbody tr th {\n        vertical-align: top;\n    }\n\n    .dataframe thead th {\n        text-align: right;\n    }\n</style>\n<table border=\"1\" class=\"dataframe\">\n  <thead>\n    <tr style=\"text-align: right;\">\n      <th></th>\n      <th>wagnum</th>\n      <th>operation_date_dttm</th>\n      <th>mileage_all</th>\n      <th>axl1_l_w_flange</th>\n      <th>axl1_r_w_flange</th>\n      <th>axl2_l_w_flange</th>\n      <th>axl2_r_w_flange</th>\n      <th>axl3_l_w_flange</th>\n      <th>axl3_r_w_flange</th>\n      <th>axl4_l_w_flange</th>\n      <th>axl4_r_w_flange</th>\n      <th>axl1_l_w_rim</th>\n      <th>axl1_r_w_rim</th>\n      <th>axl2_l_w_rim</th>\n      <th>axl2_r_w_rim</th>\n      <th>axl3_l_w_rim</th>\n      <th>axl3_r_w_rim</th>\n      <th>axl4_l_w_rim</th>\n      <th>axl4_r_w_rim</th>\n    </tr>\n  </thead>\n  <tbody>\n    <tr>\n      <th>43</th>\n      <td>1302</td>\n      <td>2023-02-17</td>\n      <td>67638</td>\n      <td>29.6</td>\n      <td>29.5</td>\n      <td>30.0</td>\n      <td>29.6</td>\n      <td>30.2</td>\n      <td>29.9</td>\n      <td>30.9</td>\n      <td>29.5</td>\n      <td>37.8</td>\n      <td>39.2</td>\n      <td>39.5</td>\n      <td>38.9</td>\n      <td>41.8</td>\n      <td>38.9</td>\n      <td>36.5</td>\n      <td>38.2</td>\n    </tr>\n    <tr>\n      <th>60</th>\n      <td>1374</td>\n      <td>2023-02-25</td>\n      <td>83798</td>\n      <td>29.1</td>\n      <td>27.9</td>\n      <td>27.7</td>\n      <td>29.1</td>\n      <td>29.3</td>\n      <td>30.2</td>\n      <td>29.4</td>\n      <td>27.5</td>\n      <td>48.9</td>\n      <td>49.0</td>\n      <td>49.7</td>\n      <td>51.0</td>\n      <td>30.7</td>\n      <td>32.4</td>\n      <td>30.6</td>\n      <td>28.8</td>\n    </tr>\n    <tr>\n      <th>137</th>\n      <td>2916</td>\n      <td>2023-02-21</td>\n      <td>121660</td>\n      <td>30.4</td>\n      <td>26.5</td>\n      <td>30.8</td>\n      <td>28.2</td>\n      <td>26.9</td>\n      <td>27.1</td>\n      <td>29.8</td>\n      <td>31.2</td>\n      <td>69.2</td>\n      <td>66.7</td>\n      <td>66.8</td>\n      <td>63.7</td>\n      <td>66.1</td>\n      <td>66.3</td>\n      <td>68.1</td>\n      <td>67.6</td>\n    </tr>\n    <tr>\n      <th>196</th>\n      <td>3849</td>\n      <td>2023-02-19</td>\n      <td>59664</td>\n      <td>30.6</td>\n      <td>29.2</td>\n      <td>31.6</td>\n      <td>28.5</td>\n      <td>31.0</td>\n      <td>30.7</td>\n      <td>29.3</td>\n      <td>30.0</td>\n      <td>75.1</td>\n      <td>76.1</td>\n      <td>74.8</td>\n      <td>73.7</td>\n      <td>75.6</td>\n      <td>76.8</td>\n      <td>72.2</td>\n      <td>72.9</td>\n    </tr>\n    <tr>\n      <th>197</th>\n      <td>3849</td>\n      <td>2023-02-20</td>\n      <td>59664</td>\n      <td>30.9</td>\n      <td>28.7</td>\n      <td>32.4</td>\n      <td>28.1</td>\n      <td>31.0</td>\n      <td>29.7</td>\n      <td>30.5</td>\n      <td>29.9</td>\n      <td>75.6</td>\n      <td>76.8</td>\n      <td>74.1</td>\n      <td>74.7</td>\n      <td>75.8</td>\n      <td>77.0</td>\n      <td>74.9</td>\n      <td>74.2</td>\n    </tr>\n    <tr>\n      <th>...</th>\n      <td>...</td>\n      <td>...</td>\n      <td>...</td>\n      <td>...</td>\n      <td>...</td>\n      <td>...</td>\n      <td>...</td>\n      <td>...</td>\n      <td>...</td>\n      <td>...</td>\n      <td>...</td>\n      <td>...</td>\n      <td>...</td>\n      <td>...</td>\n      <td>...</td>\n      <td>...</td>\n      <td>...</td>\n      <td>...</td>\n      <td>...</td>\n    </tr>\n    <tr>\n      <th>212300</th>\n      <td>26543</td>\n      <td>2023-02-28</td>\n      <td>18361</td>\n      <td>29.5</td>\n      <td>28.2</td>\n      <td>27.8</td>\n      <td>29.0</td>\n      <td>28.2</td>\n      <td>29.3</td>\n      <td>29.7</td>\n      <td>28.9</td>\n      <td>64.4</td>\n      <td>65.7</td>\n      <td>58.8</td>\n      <td>58.3</td>\n      <td>50.1</td>\n      <td>50.1</td>\n      <td>58.1</td>\n      <td>57.1</td>\n    </tr>\n    <tr>\n      <th>212327</th>\n      <td>33975</td>\n      <td>2023-02-28</td>\n      <td>13736</td>\n      <td>25.9</td>\n      <td>28.5</td>\n      <td>28.4</td>\n      <td>28.9</td>\n      <td>28.1</td>\n      <td>28.0</td>\n      <td>28.2</td>\n      <td>29.5</td>\n      <td>51.4</td>\n      <td>51.6</td>\n      <td>46.5</td>\n      <td>47.3</td>\n      <td>52.4</td>\n      <td>50.9</td>\n      <td>54.0</td>\n      <td>56.7</td>\n    </tr>\n    <tr>\n      <th>212347</th>\n      <td>28227</td>\n      <td>2023-02-28</td>\n      <td>154365</td>\n      <td>26.9</td>\n      <td>28.5</td>\n      <td>26.7</td>\n      <td>28.1</td>\n      <td>29.0</td>\n      <td>27.4</td>\n      <td>29.8</td>\n      <td>29.0</td>\n      <td>72.4</td>\n      <td>72.3</td>\n      <td>60.2</td>\n      <td>58.7</td>\n      <td>69.8</td>\n      <td>72.1</td>\n      <td>76.2</td>\n      <td>78.0</td>\n    </tr>\n    <tr>\n      <th>212349</th>\n      <td>33698</td>\n      <td>2023-02-28</td>\n      <td>39226</td>\n      <td>29.4</td>\n      <td>28.3</td>\n      <td>27.9</td>\n      <td>27.0</td>\n      <td>28.0</td>\n      <td>28.8</td>\n      <td>26.7</td>\n      <td>28.9</td>\n      <td>35.1</td>\n      <td>36.6</td>\n      <td>40.1</td>\n      <td>40.5</td>\n      <td>46.6</td>\n      <td>47.0</td>\n      <td>43.5</td>\n      <td>41.7</td>\n    </tr>\n    <tr>\n      <th>212366</th>\n      <td>29168</td>\n      <td>2023-02-28</td>\n      <td>17693</td>\n      <td>29.3</td>\n      <td>29.0</td>\n      <td>29.2</td>\n      <td>29.7</td>\n      <td>28.0</td>\n      <td>29.1</td>\n      <td>29.2</td>\n      <td>28.7</td>\n      <td>64.5</td>\n      <td>64.6</td>\n      <td>57.4</td>\n      <td>57.8</td>\n      <td>58.3</td>\n      <td>58.1</td>\n      <td>57.8</td>\n      <td>57.4</td>\n    </tr>\n  </tbody>\n</table>\n<p>22428 rows × 19 columns</p>\n</div>"
     },
     "execution_count": 219,
     "metadata": {},
     "output_type": "execute_result"
    }
   ],
   "source": [
    "kti_2"
   ],
   "metadata": {
    "collapsed": false
   }
  },
  {
   "cell_type": "code",
   "execution_count": 220,
   "outputs": [],
   "source": [
    "kti['operation_date_dttm'] = kti['operation_date_dttm'].astype(str)\n",
    "kti['operation_date_dttm'] = kti['operation_date_dttm'].apply(date_to_timestamp)"
   ],
   "metadata": {
    "collapsed": false
   }
  },
  {
   "cell_type": "code",
   "execution_count": 221,
   "outputs": [],
   "source": [
    "kti_2['operation_date_dttm'] = kti_2['operation_date_dttm'].astype(str)\n",
    "kti_2['operation_date_dttm'] = kti_2['operation_date_dttm'].apply(date_to_timestamp)"
   ],
   "metadata": {
    "collapsed": false
   }
  },
  {
   "cell_type": "code",
   "execution_count": 222,
   "outputs": [
    {
     "data": {
      "text/plain": "        wagnum  operation_date_dttm  mileage_all  axl1_l_w_flange   \n0          325           1659312000       112091             30.5  \\\n1          325           1659484800       112471             30.4   \n2          325           1659657600       113938             30.0   \n3          325           1663200000       121071             30.5   \n4          325           1662681600       117341             30.7   \n...        ...                  ...          ...              ...   \n194723   28221           1675123200        27116             28.4   \n194752   29023           1675123200         1911             29.7   \n194780   33124           1675123200       118504             28.7   \n194825   28089           1675123200        22183             28.4   \n194859   28090           1675123200       158013             28.7   \n\n        axl1_r_w_flange  axl2_l_w_flange  axl2_r_w_flange  axl3_l_w_flange   \n0                  31.0             26.7             27.4             28.8  \\\n1                  31.4             27.5             27.6             28.9   \n2                  31.1             27.1             27.9             28.5   \n3                  31.4             26.4             27.3             28.9   \n4                  31.5             26.9             27.1             28.9   \n...                 ...              ...              ...              ...   \n194723             31.4             29.0             29.2             27.0   \n194752             28.6             29.6             30.2             27.9   \n194780             29.3             32.8             28.2             29.7   \n194825             28.3             29.3             28.6             28.8   \n194859             26.6             28.0             28.7             29.8   \n\n        axl3_r_w_flange  axl4_l_w_flange  axl4_r_w_flange  axl1_l_w_rim   \n0                  28.6             26.3             27.4          67.5  \\\n1                  29.0             25.5             27.8          65.7   \n2                  28.9             26.2             27.6          70.8   \n3                  28.4             24.9             28.0          70.2   \n4                  28.5             25.5             27.5          68.1   \n...                 ...              ...              ...           ...   \n194723             28.3             28.7             28.5          67.8   \n194752             30.3             30.0             29.3          <NA>   \n194780             29.4             28.8             29.1          54.4   \n194825             28.0             27.4             29.7          42.0   \n194859             30.7             31.1             28.1          59.3   \n\n        axl1_r_w_rim  axl2_l_w_rim  axl2_r_w_rim  axl3_l_w_rim  axl3_r_w_rim   \n0               65.6          66.7          64.5          61.5          60.3  \\\n1               65.8          65.7          63.7          61.6          61.4   \n2               69.5          65.1          65.6          62.2          60.7   \n3               68.1          67.4          65.8          62.3          63.0   \n4               64.1          64.5          64.9          61.6          61.1   \n...              ...           ...           ...           ...           ...   \n194723          65.7          67.0          67.4          53.9          53.2   \n194752          58.3          55.2          55.9          58.3          58.7   \n194780          52.7          54.4          50.5          56.7          54.4   \n194825          40.1          40.9          39.0          39.2          38.8   \n194859          61.2          64.5          65.4          70.9          71.8   \n\n        axl4_l_w_rim  axl4_r_w_rim  \n0               67.9          66.8  \n1               67.4          69.3  \n2               65.7          69.6  \n3               70.9          70.3  \n4               68.7          <NA>  \n...              ...           ...  \n194723          54.1          54.2  \n194752          59.5          61.0  \n194780          60.7          56.2  \n194825          40.3          40.2  \n194859          72.1          73.5  \n\n[67967 rows x 19 columns]",
      "text/html": "<div>\n<style scoped>\n    .dataframe tbody tr th:only-of-type {\n        vertical-align: middle;\n    }\n\n    .dataframe tbody tr th {\n        vertical-align: top;\n    }\n\n    .dataframe thead th {\n        text-align: right;\n    }\n</style>\n<table border=\"1\" class=\"dataframe\">\n  <thead>\n    <tr style=\"text-align: right;\">\n      <th></th>\n      <th>wagnum</th>\n      <th>operation_date_dttm</th>\n      <th>mileage_all</th>\n      <th>axl1_l_w_flange</th>\n      <th>axl1_r_w_flange</th>\n      <th>axl2_l_w_flange</th>\n      <th>axl2_r_w_flange</th>\n      <th>axl3_l_w_flange</th>\n      <th>axl3_r_w_flange</th>\n      <th>axl4_l_w_flange</th>\n      <th>axl4_r_w_flange</th>\n      <th>axl1_l_w_rim</th>\n      <th>axl1_r_w_rim</th>\n      <th>axl2_l_w_rim</th>\n      <th>axl2_r_w_rim</th>\n      <th>axl3_l_w_rim</th>\n      <th>axl3_r_w_rim</th>\n      <th>axl4_l_w_rim</th>\n      <th>axl4_r_w_rim</th>\n    </tr>\n  </thead>\n  <tbody>\n    <tr>\n      <th>0</th>\n      <td>325</td>\n      <td>1659312000</td>\n      <td>112091</td>\n      <td>30.5</td>\n      <td>31.0</td>\n      <td>26.7</td>\n      <td>27.4</td>\n      <td>28.8</td>\n      <td>28.6</td>\n      <td>26.3</td>\n      <td>27.4</td>\n      <td>67.5</td>\n      <td>65.6</td>\n      <td>66.7</td>\n      <td>64.5</td>\n      <td>61.5</td>\n      <td>60.3</td>\n      <td>67.9</td>\n      <td>66.8</td>\n    </tr>\n    <tr>\n      <th>1</th>\n      <td>325</td>\n      <td>1659484800</td>\n      <td>112471</td>\n      <td>30.4</td>\n      <td>31.4</td>\n      <td>27.5</td>\n      <td>27.6</td>\n      <td>28.9</td>\n      <td>29.0</td>\n      <td>25.5</td>\n      <td>27.8</td>\n      <td>65.7</td>\n      <td>65.8</td>\n      <td>65.7</td>\n      <td>63.7</td>\n      <td>61.6</td>\n      <td>61.4</td>\n      <td>67.4</td>\n      <td>69.3</td>\n    </tr>\n    <tr>\n      <th>2</th>\n      <td>325</td>\n      <td>1659657600</td>\n      <td>113938</td>\n      <td>30.0</td>\n      <td>31.1</td>\n      <td>27.1</td>\n      <td>27.9</td>\n      <td>28.5</td>\n      <td>28.9</td>\n      <td>26.2</td>\n      <td>27.6</td>\n      <td>70.8</td>\n      <td>69.5</td>\n      <td>65.1</td>\n      <td>65.6</td>\n      <td>62.2</td>\n      <td>60.7</td>\n      <td>65.7</td>\n      <td>69.6</td>\n    </tr>\n    <tr>\n      <th>3</th>\n      <td>325</td>\n      <td>1663200000</td>\n      <td>121071</td>\n      <td>30.5</td>\n      <td>31.4</td>\n      <td>26.4</td>\n      <td>27.3</td>\n      <td>28.9</td>\n      <td>28.4</td>\n      <td>24.9</td>\n      <td>28.0</td>\n      <td>70.2</td>\n      <td>68.1</td>\n      <td>67.4</td>\n      <td>65.8</td>\n      <td>62.3</td>\n      <td>63.0</td>\n      <td>70.9</td>\n      <td>70.3</td>\n    </tr>\n    <tr>\n      <th>4</th>\n      <td>325</td>\n      <td>1662681600</td>\n      <td>117341</td>\n      <td>30.7</td>\n      <td>31.5</td>\n      <td>26.9</td>\n      <td>27.1</td>\n      <td>28.9</td>\n      <td>28.5</td>\n      <td>25.5</td>\n      <td>27.5</td>\n      <td>68.1</td>\n      <td>64.1</td>\n      <td>64.5</td>\n      <td>64.9</td>\n      <td>61.6</td>\n      <td>61.1</td>\n      <td>68.7</td>\n      <td>&lt;NA&gt;</td>\n    </tr>\n    <tr>\n      <th>...</th>\n      <td>...</td>\n      <td>...</td>\n      <td>...</td>\n      <td>...</td>\n      <td>...</td>\n      <td>...</td>\n      <td>...</td>\n      <td>...</td>\n      <td>...</td>\n      <td>...</td>\n      <td>...</td>\n      <td>...</td>\n      <td>...</td>\n      <td>...</td>\n      <td>...</td>\n      <td>...</td>\n      <td>...</td>\n      <td>...</td>\n      <td>...</td>\n    </tr>\n    <tr>\n      <th>194723</th>\n      <td>28221</td>\n      <td>1675123200</td>\n      <td>27116</td>\n      <td>28.4</td>\n      <td>31.4</td>\n      <td>29.0</td>\n      <td>29.2</td>\n      <td>27.0</td>\n      <td>28.3</td>\n      <td>28.7</td>\n      <td>28.5</td>\n      <td>67.8</td>\n      <td>65.7</td>\n      <td>67.0</td>\n      <td>67.4</td>\n      <td>53.9</td>\n      <td>53.2</td>\n      <td>54.1</td>\n      <td>54.2</td>\n    </tr>\n    <tr>\n      <th>194752</th>\n      <td>29023</td>\n      <td>1675123200</td>\n      <td>1911</td>\n      <td>29.7</td>\n      <td>28.6</td>\n      <td>29.6</td>\n      <td>30.2</td>\n      <td>27.9</td>\n      <td>30.3</td>\n      <td>30.0</td>\n      <td>29.3</td>\n      <td>&lt;NA&gt;</td>\n      <td>58.3</td>\n      <td>55.2</td>\n      <td>55.9</td>\n      <td>58.3</td>\n      <td>58.7</td>\n      <td>59.5</td>\n      <td>61.0</td>\n    </tr>\n    <tr>\n      <th>194780</th>\n      <td>33124</td>\n      <td>1675123200</td>\n      <td>118504</td>\n      <td>28.7</td>\n      <td>29.3</td>\n      <td>32.8</td>\n      <td>28.2</td>\n      <td>29.7</td>\n      <td>29.4</td>\n      <td>28.8</td>\n      <td>29.1</td>\n      <td>54.4</td>\n      <td>52.7</td>\n      <td>54.4</td>\n      <td>50.5</td>\n      <td>56.7</td>\n      <td>54.4</td>\n      <td>60.7</td>\n      <td>56.2</td>\n    </tr>\n    <tr>\n      <th>194825</th>\n      <td>28089</td>\n      <td>1675123200</td>\n      <td>22183</td>\n      <td>28.4</td>\n      <td>28.3</td>\n      <td>29.3</td>\n      <td>28.6</td>\n      <td>28.8</td>\n      <td>28.0</td>\n      <td>27.4</td>\n      <td>29.7</td>\n      <td>42.0</td>\n      <td>40.1</td>\n      <td>40.9</td>\n      <td>39.0</td>\n      <td>39.2</td>\n      <td>38.8</td>\n      <td>40.3</td>\n      <td>40.2</td>\n    </tr>\n    <tr>\n      <th>194859</th>\n      <td>28090</td>\n      <td>1675123200</td>\n      <td>158013</td>\n      <td>28.7</td>\n      <td>26.6</td>\n      <td>28.0</td>\n      <td>28.7</td>\n      <td>29.8</td>\n      <td>30.7</td>\n      <td>31.1</td>\n      <td>28.1</td>\n      <td>59.3</td>\n      <td>61.2</td>\n      <td>64.5</td>\n      <td>65.4</td>\n      <td>70.9</td>\n      <td>71.8</td>\n      <td>72.1</td>\n      <td>73.5</td>\n    </tr>\n  </tbody>\n</table>\n<p>67967 rows × 19 columns</p>\n</div>"
     },
     "execution_count": 222,
     "metadata": {},
     "output_type": "execute_result"
    }
   ],
   "source": [
    "kti"
   ],
   "metadata": {
    "collapsed": false
   }
  },
  {
   "cell_type": "code",
   "execution_count": 205,
   "outputs": [],
   "source": [
    "# Find the index of the latest date for each unique 'wagnum'\n",
    "latest_date_indices = kti.groupby('wagnum')['operation_date_dttm'].idxmax()\n",
    "\n",
    "# Select the rows with the latest date for each 'wagnum'\n",
    "kti = kti.loc[latest_date_indices]\n",
    "\n",
    "# Find the index of the latest date for each unique 'wagnum'\n",
    "latest_date_indices = kti_2.groupby('wagnum')['operation_date_dttm'].idxmax()\n",
    "\n",
    "# Select the rows with the latest date for each 'wagnum'\n",
    "kti_2 = kti_2.loc[latest_date_indices]"
   ],
   "metadata": {
    "collapsed": false
   }
  },
  {
   "cell_type": "code",
   "execution_count": 223,
   "outputs": [
    {
     "data": {
      "text/plain": "        wagnum  operation_date_dttm  mileage_all  axl1_l_w_flange   \n0          325           1659312000       112091             30.5  \\\n1          325           1659484800       112471             30.4   \n2          325           1659657600       113938             30.0   \n3          325           1663200000       121071             30.5   \n4          325           1662681600       117341             30.7   \n...        ...                  ...          ...              ...   \n194723   28221           1675123200        27116             28.4   \n194752   29023           1675123200         1911             29.7   \n194780   33124           1675123200       118504             28.7   \n194825   28089           1675123200        22183             28.4   \n194859   28090           1675123200       158013             28.7   \n\n        axl1_r_w_flange  axl2_l_w_flange  axl2_r_w_flange  axl3_l_w_flange   \n0                  31.0             26.7             27.4             28.8  \\\n1                  31.4             27.5             27.6             28.9   \n2                  31.1             27.1             27.9             28.5   \n3                  31.4             26.4             27.3             28.9   \n4                  31.5             26.9             27.1             28.9   \n...                 ...              ...              ...              ...   \n194723             31.4             29.0             29.2             27.0   \n194752             28.6             29.6             30.2             27.9   \n194780             29.3             32.8             28.2             29.7   \n194825             28.3             29.3             28.6             28.8   \n194859             26.6             28.0             28.7             29.8   \n\n        axl3_r_w_flange  axl4_l_w_flange  axl4_r_w_flange  axl1_l_w_rim   \n0                  28.6             26.3             27.4          67.5  \\\n1                  29.0             25.5             27.8          65.7   \n2                  28.9             26.2             27.6          70.8   \n3                  28.4             24.9             28.0          70.2   \n4                  28.5             25.5             27.5          68.1   \n...                 ...              ...              ...           ...   \n194723             28.3             28.7             28.5          67.8   \n194752             30.3             30.0             29.3          <NA>   \n194780             29.4             28.8             29.1          54.4   \n194825             28.0             27.4             29.7          42.0   \n194859             30.7             31.1             28.1          59.3   \n\n        axl1_r_w_rim  axl2_l_w_rim  axl2_r_w_rim  axl3_l_w_rim  axl3_r_w_rim   \n0               65.6          66.7          64.5          61.5          60.3  \\\n1               65.8          65.7          63.7          61.6          61.4   \n2               69.5          65.1          65.6          62.2          60.7   \n3               68.1          67.4          65.8          62.3          63.0   \n4               64.1          64.5          64.9          61.6          61.1   \n...              ...           ...           ...           ...           ...   \n194723          65.7          67.0          67.4          53.9          53.2   \n194752          58.3          55.2          55.9          58.3          58.7   \n194780          52.7          54.4          50.5          56.7          54.4   \n194825          40.1          40.9          39.0          39.2          38.8   \n194859          61.2          64.5          65.4          70.9          71.8   \n\n        axl4_l_w_rim  axl4_r_w_rim  \n0               67.9          66.8  \n1               67.4          69.3  \n2               65.7          69.6  \n3               70.9          70.3  \n4               68.7          <NA>  \n...              ...           ...  \n194723          54.1          54.2  \n194752          59.5          61.0  \n194780          60.7          56.2  \n194825          40.3          40.2  \n194859          72.1          73.5  \n\n[67967 rows x 19 columns]",
      "text/html": "<div>\n<style scoped>\n    .dataframe tbody tr th:only-of-type {\n        vertical-align: middle;\n    }\n\n    .dataframe tbody tr th {\n        vertical-align: top;\n    }\n\n    .dataframe thead th {\n        text-align: right;\n    }\n</style>\n<table border=\"1\" class=\"dataframe\">\n  <thead>\n    <tr style=\"text-align: right;\">\n      <th></th>\n      <th>wagnum</th>\n      <th>operation_date_dttm</th>\n      <th>mileage_all</th>\n      <th>axl1_l_w_flange</th>\n      <th>axl1_r_w_flange</th>\n      <th>axl2_l_w_flange</th>\n      <th>axl2_r_w_flange</th>\n      <th>axl3_l_w_flange</th>\n      <th>axl3_r_w_flange</th>\n      <th>axl4_l_w_flange</th>\n      <th>axl4_r_w_flange</th>\n      <th>axl1_l_w_rim</th>\n      <th>axl1_r_w_rim</th>\n      <th>axl2_l_w_rim</th>\n      <th>axl2_r_w_rim</th>\n      <th>axl3_l_w_rim</th>\n      <th>axl3_r_w_rim</th>\n      <th>axl4_l_w_rim</th>\n      <th>axl4_r_w_rim</th>\n    </tr>\n  </thead>\n  <tbody>\n    <tr>\n      <th>0</th>\n      <td>325</td>\n      <td>1659312000</td>\n      <td>112091</td>\n      <td>30.5</td>\n      <td>31.0</td>\n      <td>26.7</td>\n      <td>27.4</td>\n      <td>28.8</td>\n      <td>28.6</td>\n      <td>26.3</td>\n      <td>27.4</td>\n      <td>67.5</td>\n      <td>65.6</td>\n      <td>66.7</td>\n      <td>64.5</td>\n      <td>61.5</td>\n      <td>60.3</td>\n      <td>67.9</td>\n      <td>66.8</td>\n    </tr>\n    <tr>\n      <th>1</th>\n      <td>325</td>\n      <td>1659484800</td>\n      <td>112471</td>\n      <td>30.4</td>\n      <td>31.4</td>\n      <td>27.5</td>\n      <td>27.6</td>\n      <td>28.9</td>\n      <td>29.0</td>\n      <td>25.5</td>\n      <td>27.8</td>\n      <td>65.7</td>\n      <td>65.8</td>\n      <td>65.7</td>\n      <td>63.7</td>\n      <td>61.6</td>\n      <td>61.4</td>\n      <td>67.4</td>\n      <td>69.3</td>\n    </tr>\n    <tr>\n      <th>2</th>\n      <td>325</td>\n      <td>1659657600</td>\n      <td>113938</td>\n      <td>30.0</td>\n      <td>31.1</td>\n      <td>27.1</td>\n      <td>27.9</td>\n      <td>28.5</td>\n      <td>28.9</td>\n      <td>26.2</td>\n      <td>27.6</td>\n      <td>70.8</td>\n      <td>69.5</td>\n      <td>65.1</td>\n      <td>65.6</td>\n      <td>62.2</td>\n      <td>60.7</td>\n      <td>65.7</td>\n      <td>69.6</td>\n    </tr>\n    <tr>\n      <th>3</th>\n      <td>325</td>\n      <td>1663200000</td>\n      <td>121071</td>\n      <td>30.5</td>\n      <td>31.4</td>\n      <td>26.4</td>\n      <td>27.3</td>\n      <td>28.9</td>\n      <td>28.4</td>\n      <td>24.9</td>\n      <td>28.0</td>\n      <td>70.2</td>\n      <td>68.1</td>\n      <td>67.4</td>\n      <td>65.8</td>\n      <td>62.3</td>\n      <td>63.0</td>\n      <td>70.9</td>\n      <td>70.3</td>\n    </tr>\n    <tr>\n      <th>4</th>\n      <td>325</td>\n      <td>1662681600</td>\n      <td>117341</td>\n      <td>30.7</td>\n      <td>31.5</td>\n      <td>26.9</td>\n      <td>27.1</td>\n      <td>28.9</td>\n      <td>28.5</td>\n      <td>25.5</td>\n      <td>27.5</td>\n      <td>68.1</td>\n      <td>64.1</td>\n      <td>64.5</td>\n      <td>64.9</td>\n      <td>61.6</td>\n      <td>61.1</td>\n      <td>68.7</td>\n      <td>&lt;NA&gt;</td>\n    </tr>\n    <tr>\n      <th>...</th>\n      <td>...</td>\n      <td>...</td>\n      <td>...</td>\n      <td>...</td>\n      <td>...</td>\n      <td>...</td>\n      <td>...</td>\n      <td>...</td>\n      <td>...</td>\n      <td>...</td>\n      <td>...</td>\n      <td>...</td>\n      <td>...</td>\n      <td>...</td>\n      <td>...</td>\n      <td>...</td>\n      <td>...</td>\n      <td>...</td>\n      <td>...</td>\n    </tr>\n    <tr>\n      <th>194723</th>\n      <td>28221</td>\n      <td>1675123200</td>\n      <td>27116</td>\n      <td>28.4</td>\n      <td>31.4</td>\n      <td>29.0</td>\n      <td>29.2</td>\n      <td>27.0</td>\n      <td>28.3</td>\n      <td>28.7</td>\n      <td>28.5</td>\n      <td>67.8</td>\n      <td>65.7</td>\n      <td>67.0</td>\n      <td>67.4</td>\n      <td>53.9</td>\n      <td>53.2</td>\n      <td>54.1</td>\n      <td>54.2</td>\n    </tr>\n    <tr>\n      <th>194752</th>\n      <td>29023</td>\n      <td>1675123200</td>\n      <td>1911</td>\n      <td>29.7</td>\n      <td>28.6</td>\n      <td>29.6</td>\n      <td>30.2</td>\n      <td>27.9</td>\n      <td>30.3</td>\n      <td>30.0</td>\n      <td>29.3</td>\n      <td>&lt;NA&gt;</td>\n      <td>58.3</td>\n      <td>55.2</td>\n      <td>55.9</td>\n      <td>58.3</td>\n      <td>58.7</td>\n      <td>59.5</td>\n      <td>61.0</td>\n    </tr>\n    <tr>\n      <th>194780</th>\n      <td>33124</td>\n      <td>1675123200</td>\n      <td>118504</td>\n      <td>28.7</td>\n      <td>29.3</td>\n      <td>32.8</td>\n      <td>28.2</td>\n      <td>29.7</td>\n      <td>29.4</td>\n      <td>28.8</td>\n      <td>29.1</td>\n      <td>54.4</td>\n      <td>52.7</td>\n      <td>54.4</td>\n      <td>50.5</td>\n      <td>56.7</td>\n      <td>54.4</td>\n      <td>60.7</td>\n      <td>56.2</td>\n    </tr>\n    <tr>\n      <th>194825</th>\n      <td>28089</td>\n      <td>1675123200</td>\n      <td>22183</td>\n      <td>28.4</td>\n      <td>28.3</td>\n      <td>29.3</td>\n      <td>28.6</td>\n      <td>28.8</td>\n      <td>28.0</td>\n      <td>27.4</td>\n      <td>29.7</td>\n      <td>42.0</td>\n      <td>40.1</td>\n      <td>40.9</td>\n      <td>39.0</td>\n      <td>39.2</td>\n      <td>38.8</td>\n      <td>40.3</td>\n      <td>40.2</td>\n    </tr>\n    <tr>\n      <th>194859</th>\n      <td>28090</td>\n      <td>1675123200</td>\n      <td>158013</td>\n      <td>28.7</td>\n      <td>26.6</td>\n      <td>28.0</td>\n      <td>28.7</td>\n      <td>29.8</td>\n      <td>30.7</td>\n      <td>31.1</td>\n      <td>28.1</td>\n      <td>59.3</td>\n      <td>61.2</td>\n      <td>64.5</td>\n      <td>65.4</td>\n      <td>70.9</td>\n      <td>71.8</td>\n      <td>72.1</td>\n      <td>73.5</td>\n    </tr>\n  </tbody>\n</table>\n<p>67967 rows × 19 columns</p>\n</div>"
     },
     "execution_count": 223,
     "metadata": {},
     "output_type": "execute_result"
    }
   ],
   "source": [
    "kti"
   ],
   "metadata": {
    "collapsed": false
   }
  },
  {
   "cell_type": "code",
   "execution_count": 207,
   "outputs": [
    {
     "data": {
      "text/plain": "        wagnum  operation_date_dttm  mileage_all  axl1_l_w_flange   \n109273       0           1677456000       117186             26.6  \\\n101294      20           1677283200        36506             30.0   \n31001       23           1677283200         <NA>             30.3   \n177201      36           1677283200       110321             29.6   \n100343      41           1676419200        96684             29.9   \n...        ...                  ...          ...              ...   \n150059   33906           1677369600         3549             29.9   \n66438    33913           1677369600        11202             30.0   \n195223   33970           1677283200        17484             28.2   \n3368     33973           1677542400        36086             28.1   \n212327   33975           1677542400        13736             25.9   \n\n        axl1_r_w_flange  axl2_l_w_flange  axl2_r_w_flange  axl3_l_w_flange   \n109273             28.0             28.1             25.8             31.5  \\\n101294             30.8             30.3             32.3             29.5   \n31001              28.6             25.9             29.3             28.8   \n177201             29.7             29.4             29.7             30.3   \n100343             29.0             28.3             28.7             28.5   \n...                 ...              ...              ...              ...   \n150059             31.0             30.0             30.7             31.5   \n66438              30.0             29.8             28.2             29.8   \n195223             28.7             29.5             29.8             28.3   \n3368               28.5             29.0             28.4             31.2   \n212327             28.5             28.4             28.9             28.1   \n\n        axl3_r_w_flange  axl4_l_w_flange  axl4_r_w_flange  axl1_l_w_rim   \n109273             28.4             29.1             29.4          49.3  \\\n101294             31.8             30.3             31.0          74.2   \n31001              25.9             27.9             27.8          38.3   \n177201             30.8             29.8             30.4          61.1   \n100343             26.2             30.1             29.9          65.8   \n...                 ...              ...              ...           ...   \n150059             29.9             29.5             29.7          55.5   \n66438              29.5             29.3             30.5          41.8   \n195223             28.3             28.2             30.1          62.4   \n3368               29.4             29.2             28.8          59.7   \n212327             28.0             28.2             29.5          51.4   \n\n        axl1_r_w_rim  axl2_l_w_rim  axl2_r_w_rim  axl3_l_w_rim  axl3_r_w_rim   \n109273          47.0          44.3          43.7          28.8          28.6  \\\n101294          75.1          72.4          74.7          71.3          73.7   \n31001           35.3          33.6          32.9          34.4          31.1   \n177201          60.4          58.5          59.3          65.2          65.2   \n100343          65.7          66.8          67.1          64.2          63.9   \n...              ...           ...           ...           ...           ...   \n150059          55.8          47.6          50.4          53.7          54.5   \n66438           39.8          41.2          39.2          39.1          40.9   \n195223          60.4          62.7          60.1          57.0          58.8   \n3368            60.3          55.7          58.0          51.2          49.2   \n212327          51.6          46.5          47.3          52.4          50.9   \n\n        axl4_l_w_rim  axl4_r_w_rim  \n109273          37.6          38.1  \n101294          73.5          75.1  \n31001           36.5          37.8  \n177201          62.1          63.1  \n100343          63.4          63.5  \n...              ...           ...  \n150059          62.2          62.6  \n66438           44.5          44.6  \n195223          55.5          56.2  \n3368            56.3          54.6  \n212327          54.0          56.7  \n\n[6686 rows x 19 columns]",
      "text/html": "<div>\n<style scoped>\n    .dataframe tbody tr th:only-of-type {\n        vertical-align: middle;\n    }\n\n    .dataframe tbody tr th {\n        vertical-align: top;\n    }\n\n    .dataframe thead th {\n        text-align: right;\n    }\n</style>\n<table border=\"1\" class=\"dataframe\">\n  <thead>\n    <tr style=\"text-align: right;\">\n      <th></th>\n      <th>wagnum</th>\n      <th>operation_date_dttm</th>\n      <th>mileage_all</th>\n      <th>axl1_l_w_flange</th>\n      <th>axl1_r_w_flange</th>\n      <th>axl2_l_w_flange</th>\n      <th>axl2_r_w_flange</th>\n      <th>axl3_l_w_flange</th>\n      <th>axl3_r_w_flange</th>\n      <th>axl4_l_w_flange</th>\n      <th>axl4_r_w_flange</th>\n      <th>axl1_l_w_rim</th>\n      <th>axl1_r_w_rim</th>\n      <th>axl2_l_w_rim</th>\n      <th>axl2_r_w_rim</th>\n      <th>axl3_l_w_rim</th>\n      <th>axl3_r_w_rim</th>\n      <th>axl4_l_w_rim</th>\n      <th>axl4_r_w_rim</th>\n    </tr>\n  </thead>\n  <tbody>\n    <tr>\n      <th>109273</th>\n      <td>0</td>\n      <td>1677456000</td>\n      <td>117186</td>\n      <td>26.6</td>\n      <td>28.0</td>\n      <td>28.1</td>\n      <td>25.8</td>\n      <td>31.5</td>\n      <td>28.4</td>\n      <td>29.1</td>\n      <td>29.4</td>\n      <td>49.3</td>\n      <td>47.0</td>\n      <td>44.3</td>\n      <td>43.7</td>\n      <td>28.8</td>\n      <td>28.6</td>\n      <td>37.6</td>\n      <td>38.1</td>\n    </tr>\n    <tr>\n      <th>101294</th>\n      <td>20</td>\n      <td>1677283200</td>\n      <td>36506</td>\n      <td>30.0</td>\n      <td>30.8</td>\n      <td>30.3</td>\n      <td>32.3</td>\n      <td>29.5</td>\n      <td>31.8</td>\n      <td>30.3</td>\n      <td>31.0</td>\n      <td>74.2</td>\n      <td>75.1</td>\n      <td>72.4</td>\n      <td>74.7</td>\n      <td>71.3</td>\n      <td>73.7</td>\n      <td>73.5</td>\n      <td>75.1</td>\n    </tr>\n    <tr>\n      <th>31001</th>\n      <td>23</td>\n      <td>1677283200</td>\n      <td>&lt;NA&gt;</td>\n      <td>30.3</td>\n      <td>28.6</td>\n      <td>25.9</td>\n      <td>29.3</td>\n      <td>28.8</td>\n      <td>25.9</td>\n      <td>27.9</td>\n      <td>27.8</td>\n      <td>38.3</td>\n      <td>35.3</td>\n      <td>33.6</td>\n      <td>32.9</td>\n      <td>34.4</td>\n      <td>31.1</td>\n      <td>36.5</td>\n      <td>37.8</td>\n    </tr>\n    <tr>\n      <th>177201</th>\n      <td>36</td>\n      <td>1677283200</td>\n      <td>110321</td>\n      <td>29.6</td>\n      <td>29.7</td>\n      <td>29.4</td>\n      <td>29.7</td>\n      <td>30.3</td>\n      <td>30.8</td>\n      <td>29.8</td>\n      <td>30.4</td>\n      <td>61.1</td>\n      <td>60.4</td>\n      <td>58.5</td>\n      <td>59.3</td>\n      <td>65.2</td>\n      <td>65.2</td>\n      <td>62.1</td>\n      <td>63.1</td>\n    </tr>\n    <tr>\n      <th>100343</th>\n      <td>41</td>\n      <td>1676419200</td>\n      <td>96684</td>\n      <td>29.9</td>\n      <td>29.0</td>\n      <td>28.3</td>\n      <td>28.7</td>\n      <td>28.5</td>\n      <td>26.2</td>\n      <td>30.1</td>\n      <td>29.9</td>\n      <td>65.8</td>\n      <td>65.7</td>\n      <td>66.8</td>\n      <td>67.1</td>\n      <td>64.2</td>\n      <td>63.9</td>\n      <td>63.4</td>\n      <td>63.5</td>\n    </tr>\n    <tr>\n      <th>...</th>\n      <td>...</td>\n      <td>...</td>\n      <td>...</td>\n      <td>...</td>\n      <td>...</td>\n      <td>...</td>\n      <td>...</td>\n      <td>...</td>\n      <td>...</td>\n      <td>...</td>\n      <td>...</td>\n      <td>...</td>\n      <td>...</td>\n      <td>...</td>\n      <td>...</td>\n      <td>...</td>\n      <td>...</td>\n      <td>...</td>\n      <td>...</td>\n    </tr>\n    <tr>\n      <th>150059</th>\n      <td>33906</td>\n      <td>1677369600</td>\n      <td>3549</td>\n      <td>29.9</td>\n      <td>31.0</td>\n      <td>30.0</td>\n      <td>30.7</td>\n      <td>31.5</td>\n      <td>29.9</td>\n      <td>29.5</td>\n      <td>29.7</td>\n      <td>55.5</td>\n      <td>55.8</td>\n      <td>47.6</td>\n      <td>50.4</td>\n      <td>53.7</td>\n      <td>54.5</td>\n      <td>62.2</td>\n      <td>62.6</td>\n    </tr>\n    <tr>\n      <th>66438</th>\n      <td>33913</td>\n      <td>1677369600</td>\n      <td>11202</td>\n      <td>30.0</td>\n      <td>30.0</td>\n      <td>29.8</td>\n      <td>28.2</td>\n      <td>29.8</td>\n      <td>29.5</td>\n      <td>29.3</td>\n      <td>30.5</td>\n      <td>41.8</td>\n      <td>39.8</td>\n      <td>41.2</td>\n      <td>39.2</td>\n      <td>39.1</td>\n      <td>40.9</td>\n      <td>44.5</td>\n      <td>44.6</td>\n    </tr>\n    <tr>\n      <th>195223</th>\n      <td>33970</td>\n      <td>1677283200</td>\n      <td>17484</td>\n      <td>28.2</td>\n      <td>28.7</td>\n      <td>29.5</td>\n      <td>29.8</td>\n      <td>28.3</td>\n      <td>28.3</td>\n      <td>28.2</td>\n      <td>30.1</td>\n      <td>62.4</td>\n      <td>60.4</td>\n      <td>62.7</td>\n      <td>60.1</td>\n      <td>57.0</td>\n      <td>58.8</td>\n      <td>55.5</td>\n      <td>56.2</td>\n    </tr>\n    <tr>\n      <th>3368</th>\n      <td>33973</td>\n      <td>1677542400</td>\n      <td>36086</td>\n      <td>28.1</td>\n      <td>28.5</td>\n      <td>29.0</td>\n      <td>28.4</td>\n      <td>31.2</td>\n      <td>29.4</td>\n      <td>29.2</td>\n      <td>28.8</td>\n      <td>59.7</td>\n      <td>60.3</td>\n      <td>55.7</td>\n      <td>58.0</td>\n      <td>51.2</td>\n      <td>49.2</td>\n      <td>56.3</td>\n      <td>54.6</td>\n    </tr>\n    <tr>\n      <th>212327</th>\n      <td>33975</td>\n      <td>1677542400</td>\n      <td>13736</td>\n      <td>25.9</td>\n      <td>28.5</td>\n      <td>28.4</td>\n      <td>28.9</td>\n      <td>28.1</td>\n      <td>28.0</td>\n      <td>28.2</td>\n      <td>29.5</td>\n      <td>51.4</td>\n      <td>51.6</td>\n      <td>46.5</td>\n      <td>47.3</td>\n      <td>52.4</td>\n      <td>50.9</td>\n      <td>54.0</td>\n      <td>56.7</td>\n    </tr>\n  </tbody>\n</table>\n<p>6686 rows × 19 columns</p>\n</div>"
     },
     "execution_count": 207,
     "metadata": {},
     "output_type": "execute_result"
    }
   ],
   "source": [
    "kti_2"
   ],
   "metadata": {
    "collapsed": false
   }
  },
  {
   "cell_type": "code",
   "execution_count": 174,
   "outputs": [],
   "source": [
    "# Concatenate the two DataFrames\n",
    "concatenated_df = pd.concat([kti, kti_2])\n",
    "\n",
    "# Find the index of the latest date for each unique 'wagnum' in the concatenated DataFrame\n",
    "latest_date_indices = concatenated_df.groupby('wagnum')['operation_date_dttm'].idxmax()\n",
    "\n",
    "# Select the rows with the latest date for each 'wagnum'\n",
    "kti_merged = concatenated_df.loc[latest_date_indices]"
   ],
   "metadata": {
    "collapsed": false
   }
  },
  {
   "cell_type": "code",
   "execution_count": 175,
   "outputs": [
    {
     "data": {
      "text/plain": "        wagnum  operation_date_dttm  mileage_all  axl1_l_w_flange   \n109273       0           1677456000       117186             26.6  \\\n101294      20           1677283200        36506             30.0   \n31001       23           1677283200         <NA>             30.3   \n177201      36           1677283200       110321             29.6   \n177913      40           1674864000        35797             26.3   \n...        ...                  ...          ...              ...   \n88448    33907           1667088000       159314             28.7   \n66438    33913           1677369600        11202             30.0   \n195223   33970           1677283200        17484             28.2   \n3368     33973           1677542400        36086             28.1   \n212327   33975           1677542400        13736             25.9   \n\n        axl1_r_w_flange  axl2_l_w_flange  axl2_r_w_flange  axl3_l_w_flange   \n109273             28.0             28.1             25.8             31.5  \\\n101294             30.8             30.3             32.3             29.5   \n31001              28.6             25.9             29.3             28.8   \n177201             29.7             29.4             29.7             30.3   \n177913             29.1             28.9             26.3             29.6   \n...                 ...              ...              ...              ...   \n88448              27.7             28.2             27.4             25.9   \n66438              30.0             29.8             28.2             29.8   \n195223             28.7             29.5             29.8             28.3   \n3368               28.5             29.0             28.4             31.2   \n212327             28.5             28.4             28.9             28.1   \n\n        axl3_r_w_flange  axl4_l_w_flange  axl4_r_w_flange  axl1_l_w_rim   \n109273             28.4             29.1             29.4          49.3  \\\n101294             31.8             30.3             31.0          74.2   \n31001              25.9             27.9             27.8          38.3   \n177201             30.8             29.8             30.4          61.1   \n177913             28.1             28.4             25.6          37.0   \n...                 ...              ...              ...           ...   \n88448              27.9             26.7             27.5          68.7   \n66438              29.5             29.3             30.5          41.8   \n195223             28.3             28.2             30.1          62.4   \n3368               29.4             29.2             28.8          59.7   \n212327             28.0             28.2             29.5          51.4   \n\n        axl1_r_w_rim  axl2_l_w_rim  axl2_r_w_rim  axl3_l_w_rim  axl3_r_w_rim   \n109273          47.0          44.3          43.7          28.8          28.6  \\\n101294          75.1          72.4          74.7          71.3          73.7   \n31001           35.3          33.6          32.9          34.4          31.1   \n177201          60.4          58.5          59.3          65.2          65.2   \n177913          39.0          34.5          35.0          32.2          34.0   \n...              ...           ...           ...           ...           ...   \n88448           68.9          64.0          64.3          61.1          61.6   \n66438           39.8          41.2          39.2          39.1          40.9   \n195223          60.4          62.7          60.1          57.0          58.8   \n3368            60.3          55.7          58.0          51.2          49.2   \n212327          51.6          46.5          47.3          52.4          50.9   \n\n        axl4_l_w_rim  axl4_r_w_rim  \n109273          37.6          38.1  \n101294          73.5          75.1  \n31001           36.5          37.8  \n177201          62.1          63.1  \n177913          27.6          29.6  \n...              ...           ...  \n88448           64.3          63.8  \n66438           44.5          44.6  \n195223          55.5          56.2  \n3368            56.3          54.6  \n212327          54.0          56.7  \n\n[7834 rows x 19 columns]",
      "text/html": "<div>\n<style scoped>\n    .dataframe tbody tr th:only-of-type {\n        vertical-align: middle;\n    }\n\n    .dataframe tbody tr th {\n        vertical-align: top;\n    }\n\n    .dataframe thead th {\n        text-align: right;\n    }\n</style>\n<table border=\"1\" class=\"dataframe\">\n  <thead>\n    <tr style=\"text-align: right;\">\n      <th></th>\n      <th>wagnum</th>\n      <th>operation_date_dttm</th>\n      <th>mileage_all</th>\n      <th>axl1_l_w_flange</th>\n      <th>axl1_r_w_flange</th>\n      <th>axl2_l_w_flange</th>\n      <th>axl2_r_w_flange</th>\n      <th>axl3_l_w_flange</th>\n      <th>axl3_r_w_flange</th>\n      <th>axl4_l_w_flange</th>\n      <th>axl4_r_w_flange</th>\n      <th>axl1_l_w_rim</th>\n      <th>axl1_r_w_rim</th>\n      <th>axl2_l_w_rim</th>\n      <th>axl2_r_w_rim</th>\n      <th>axl3_l_w_rim</th>\n      <th>axl3_r_w_rim</th>\n      <th>axl4_l_w_rim</th>\n      <th>axl4_r_w_rim</th>\n    </tr>\n  </thead>\n  <tbody>\n    <tr>\n      <th>109273</th>\n      <td>0</td>\n      <td>1677456000</td>\n      <td>117186</td>\n      <td>26.6</td>\n      <td>28.0</td>\n      <td>28.1</td>\n      <td>25.8</td>\n      <td>31.5</td>\n      <td>28.4</td>\n      <td>29.1</td>\n      <td>29.4</td>\n      <td>49.3</td>\n      <td>47.0</td>\n      <td>44.3</td>\n      <td>43.7</td>\n      <td>28.8</td>\n      <td>28.6</td>\n      <td>37.6</td>\n      <td>38.1</td>\n    </tr>\n    <tr>\n      <th>101294</th>\n      <td>20</td>\n      <td>1677283200</td>\n      <td>36506</td>\n      <td>30.0</td>\n      <td>30.8</td>\n      <td>30.3</td>\n      <td>32.3</td>\n      <td>29.5</td>\n      <td>31.8</td>\n      <td>30.3</td>\n      <td>31.0</td>\n      <td>74.2</td>\n      <td>75.1</td>\n      <td>72.4</td>\n      <td>74.7</td>\n      <td>71.3</td>\n      <td>73.7</td>\n      <td>73.5</td>\n      <td>75.1</td>\n    </tr>\n    <tr>\n      <th>31001</th>\n      <td>23</td>\n      <td>1677283200</td>\n      <td>&lt;NA&gt;</td>\n      <td>30.3</td>\n      <td>28.6</td>\n      <td>25.9</td>\n      <td>29.3</td>\n      <td>28.8</td>\n      <td>25.9</td>\n      <td>27.9</td>\n      <td>27.8</td>\n      <td>38.3</td>\n      <td>35.3</td>\n      <td>33.6</td>\n      <td>32.9</td>\n      <td>34.4</td>\n      <td>31.1</td>\n      <td>36.5</td>\n      <td>37.8</td>\n    </tr>\n    <tr>\n      <th>177201</th>\n      <td>36</td>\n      <td>1677283200</td>\n      <td>110321</td>\n      <td>29.6</td>\n      <td>29.7</td>\n      <td>29.4</td>\n      <td>29.7</td>\n      <td>30.3</td>\n      <td>30.8</td>\n      <td>29.8</td>\n      <td>30.4</td>\n      <td>61.1</td>\n      <td>60.4</td>\n      <td>58.5</td>\n      <td>59.3</td>\n      <td>65.2</td>\n      <td>65.2</td>\n      <td>62.1</td>\n      <td>63.1</td>\n    </tr>\n    <tr>\n      <th>177913</th>\n      <td>40</td>\n      <td>1674864000</td>\n      <td>35797</td>\n      <td>26.3</td>\n      <td>29.1</td>\n      <td>28.9</td>\n      <td>26.3</td>\n      <td>29.6</td>\n      <td>28.1</td>\n      <td>28.4</td>\n      <td>25.6</td>\n      <td>37.0</td>\n      <td>39.0</td>\n      <td>34.5</td>\n      <td>35.0</td>\n      <td>32.2</td>\n      <td>34.0</td>\n      <td>27.6</td>\n      <td>29.6</td>\n    </tr>\n    <tr>\n      <th>...</th>\n      <td>...</td>\n      <td>...</td>\n      <td>...</td>\n      <td>...</td>\n      <td>...</td>\n      <td>...</td>\n      <td>...</td>\n      <td>...</td>\n      <td>...</td>\n      <td>...</td>\n      <td>...</td>\n      <td>...</td>\n      <td>...</td>\n      <td>...</td>\n      <td>...</td>\n      <td>...</td>\n      <td>...</td>\n      <td>...</td>\n      <td>...</td>\n    </tr>\n    <tr>\n      <th>88448</th>\n      <td>33907</td>\n      <td>1667088000</td>\n      <td>159314</td>\n      <td>28.7</td>\n      <td>27.7</td>\n      <td>28.2</td>\n      <td>27.4</td>\n      <td>25.9</td>\n      <td>27.9</td>\n      <td>26.7</td>\n      <td>27.5</td>\n      <td>68.7</td>\n      <td>68.9</td>\n      <td>64.0</td>\n      <td>64.3</td>\n      <td>61.1</td>\n      <td>61.6</td>\n      <td>64.3</td>\n      <td>63.8</td>\n    </tr>\n    <tr>\n      <th>66438</th>\n      <td>33913</td>\n      <td>1677369600</td>\n      <td>11202</td>\n      <td>30.0</td>\n      <td>30.0</td>\n      <td>29.8</td>\n      <td>28.2</td>\n      <td>29.8</td>\n      <td>29.5</td>\n      <td>29.3</td>\n      <td>30.5</td>\n      <td>41.8</td>\n      <td>39.8</td>\n      <td>41.2</td>\n      <td>39.2</td>\n      <td>39.1</td>\n      <td>40.9</td>\n      <td>44.5</td>\n      <td>44.6</td>\n    </tr>\n    <tr>\n      <th>195223</th>\n      <td>33970</td>\n      <td>1677283200</td>\n      <td>17484</td>\n      <td>28.2</td>\n      <td>28.7</td>\n      <td>29.5</td>\n      <td>29.8</td>\n      <td>28.3</td>\n      <td>28.3</td>\n      <td>28.2</td>\n      <td>30.1</td>\n      <td>62.4</td>\n      <td>60.4</td>\n      <td>62.7</td>\n      <td>60.1</td>\n      <td>57.0</td>\n      <td>58.8</td>\n      <td>55.5</td>\n      <td>56.2</td>\n    </tr>\n    <tr>\n      <th>3368</th>\n      <td>33973</td>\n      <td>1677542400</td>\n      <td>36086</td>\n      <td>28.1</td>\n      <td>28.5</td>\n      <td>29.0</td>\n      <td>28.4</td>\n      <td>31.2</td>\n      <td>29.4</td>\n      <td>29.2</td>\n      <td>28.8</td>\n      <td>59.7</td>\n      <td>60.3</td>\n      <td>55.7</td>\n      <td>58.0</td>\n      <td>51.2</td>\n      <td>49.2</td>\n      <td>56.3</td>\n      <td>54.6</td>\n    </tr>\n    <tr>\n      <th>212327</th>\n      <td>33975</td>\n      <td>1677542400</td>\n      <td>13736</td>\n      <td>25.9</td>\n      <td>28.5</td>\n      <td>28.4</td>\n      <td>28.9</td>\n      <td>28.1</td>\n      <td>28.0</td>\n      <td>28.2</td>\n      <td>29.5</td>\n      <td>51.4</td>\n      <td>51.6</td>\n      <td>46.5</td>\n      <td>47.3</td>\n      <td>52.4</td>\n      <td>50.9</td>\n      <td>54.0</td>\n      <td>56.7</td>\n    </tr>\n  </tbody>\n</table>\n<p>7834 rows × 19 columns</p>\n</div>"
     },
     "execution_count": 175,
     "metadata": {},
     "output_type": "execute_result"
    }
   ],
   "source": [
    "kti_merged"
   ],
   "metadata": {
    "collapsed": false
   }
  },
  {
   "cell_type": "code",
   "execution_count": 176,
   "outputs": [],
   "source": [
    "target_2 = pd.read_csv('../train2/target/y_test.csv').convert_dtypes()\n",
    "target_2['month'] = target_2['month'].apply(date_to_timestamp)"
   ],
   "metadata": {
    "collapsed": false
   }
  },
  {
   "cell_type": "code",
   "execution_count": 177,
   "outputs": [
    {
     "data": {
      "text/plain": "       wagnum       month  target_month  target_day\n0       33361  1675209600             0           0\n1       33364  1675209600             0           0\n2       33366  1675209600             0           0\n3       33358  1675209600             0           0\n4       33349  1675209600             0           0\n...       ...         ...           ...         ...\n33703   17621  1675209600             0           0\n33704   25045  1675209600             0           0\n33705   27156  1675209600             0           0\n33706   21361  1675209600             0           0\n33707    8061  1675209600             0           0\n\n[33708 rows x 4 columns]",
      "text/html": "<div>\n<style scoped>\n    .dataframe tbody tr th:only-of-type {\n        vertical-align: middle;\n    }\n\n    .dataframe tbody tr th {\n        vertical-align: top;\n    }\n\n    .dataframe thead th {\n        text-align: right;\n    }\n</style>\n<table border=\"1\" class=\"dataframe\">\n  <thead>\n    <tr style=\"text-align: right;\">\n      <th></th>\n      <th>wagnum</th>\n      <th>month</th>\n      <th>target_month</th>\n      <th>target_day</th>\n    </tr>\n  </thead>\n  <tbody>\n    <tr>\n      <th>0</th>\n      <td>33361</td>\n      <td>1675209600</td>\n      <td>0</td>\n      <td>0</td>\n    </tr>\n    <tr>\n      <th>1</th>\n      <td>33364</td>\n      <td>1675209600</td>\n      <td>0</td>\n      <td>0</td>\n    </tr>\n    <tr>\n      <th>2</th>\n      <td>33366</td>\n      <td>1675209600</td>\n      <td>0</td>\n      <td>0</td>\n    </tr>\n    <tr>\n      <th>3</th>\n      <td>33358</td>\n      <td>1675209600</td>\n      <td>0</td>\n      <td>0</td>\n    </tr>\n    <tr>\n      <th>4</th>\n      <td>33349</td>\n      <td>1675209600</td>\n      <td>0</td>\n      <td>0</td>\n    </tr>\n    <tr>\n      <th>...</th>\n      <td>...</td>\n      <td>...</td>\n      <td>...</td>\n      <td>...</td>\n    </tr>\n    <tr>\n      <th>33703</th>\n      <td>17621</td>\n      <td>1675209600</td>\n      <td>0</td>\n      <td>0</td>\n    </tr>\n    <tr>\n      <th>33704</th>\n      <td>25045</td>\n      <td>1675209600</td>\n      <td>0</td>\n      <td>0</td>\n    </tr>\n    <tr>\n      <th>33705</th>\n      <td>27156</td>\n      <td>1675209600</td>\n      <td>0</td>\n      <td>0</td>\n    </tr>\n    <tr>\n      <th>33706</th>\n      <td>21361</td>\n      <td>1675209600</td>\n      <td>0</td>\n      <td>0</td>\n    </tr>\n    <tr>\n      <th>33707</th>\n      <td>8061</td>\n      <td>1675209600</td>\n      <td>0</td>\n      <td>0</td>\n    </tr>\n  </tbody>\n</table>\n<p>33708 rows × 4 columns</p>\n</div>"
     },
     "execution_count": 177,
     "metadata": {},
     "output_type": "execute_result"
    }
   ],
   "source": [
    "target_2"
   ],
   "metadata": {
    "collapsed": false
   }
  },
  {
   "cell_type": "code",
   "execution_count": 208,
   "outputs": [],
   "source": [
    "# merged_df = pd.merge(kti_merged, target_2, on='wagnum', how='inner')\n",
    "merged_df = pd.merge(kti, target_2, on='wagnum', how='inner')"
   ],
   "metadata": {
    "collapsed": false
   }
  },
  {
   "cell_type": "code",
   "execution_count": 209,
   "outputs": [
    {
     "data": {
      "text/plain": "      wagnum  operation_date_dttm  mileage_all  axl1_l_w_flange   \n0          0           1673568000       106028             26.8  \\\n1         20           1674518400        32522             29.1   \n2         23           1675123200         <NA>             29.7   \n3         36           1674259200       105942             24.2   \n4         40           1674864000        35797             26.3   \n...      ...                  ...          ...              ...   \n6795   33904           1675123200       160032             27.9   \n6796   33906           1674691200       155465             27.8   \n6797   33907           1667088000       159314             28.7   \n6798   33913           1675036800         5947             29.3   \n6799   33973           1675036800        23626             28.4   \n\n      axl1_r_w_flange  axl2_l_w_flange  axl2_r_w_flange  axl3_l_w_flange   \n0                28.4             27.8             26.9             31.8  \\\n1                30.6             30.2             32.6             29.4   \n2                28.4             25.4             29.0             28.3   \n3                28.1             28.6             28.4             27.2   \n4                29.1             28.9             26.3             29.6   \n...               ...              ...              ...              ...   \n6795             28.9             28.3             27.8             27.8   \n6796             29.7             28.3             25.9             25.8   \n6797             27.7             28.2             27.4             25.9   \n6798             29.2             29.0             28.6             28.8   \n6799             28.9             29.4             28.9             32.0   \n\n      axl3_r_w_flange  axl4_l_w_flange  ...  axl1_r_w_rim  axl2_l_w_rim   \n0                29.5             30.1  ...          48.7          42.6  \\\n1                32.0             30.2  ...          74.0          73.0   \n2                25.3             27.8  ...          34.6          31.6   \n3                29.2             26.6  ...          30.2          27.6   \n4                28.1             28.4  ...          39.0          34.5   \n...               ...              ...  ...           ...           ...   \n6795             28.4             28.0  ...          71.2          71.0   \n6796             27.8             28.7  ...          60.4          50.9   \n6797             27.9             26.7  ...          68.9          64.0   \n6798             29.8             28.6  ...          42.2          38.2   \n6799             29.6             29.9  ...          60.1          57.2   \n\n      axl2_r_w_rim  axl3_l_w_rim  axl3_r_w_rim  axl4_l_w_rim  axl4_r_w_rim   \n0             43.8          29.6          30.1          37.1          39.2  \\\n1             73.8          72.4          72.6          74.0          73.9   \n2             31.7          32.7          30.9          35.5          35.7   \n3             29.6          26.7          27.0          33.1          33.7   \n4             35.0          32.2          34.0          27.6          29.6   \n...            ...           ...           ...           ...           ...   \n6795          69.1          66.2          62.8          63.1          60.2   \n6796          52.1          62.0          63.3          69.8          70.4   \n6797          64.3          61.1          61.6          64.3          63.8   \n6798          38.1          40.0          41.0          41.1          43.6   \n6799          58.1          50.5          50.9          57.9          55.3   \n\n           month  target_month  target_day  \n0     1675209600             0           0  \n1     1675209600             0           0  \n2     1675209600             0           0  \n3     1675209600             0           0  \n4     1675209600             0           0  \n...          ...           ...         ...  \n6795  1675209600             1           1  \n6796  1675209600             1           0  \n6797  1675209600             0           0  \n6798  1675209600             0           0  \n6799  1675209600             0           0  \n\n[6800 rows x 22 columns]",
      "text/html": "<div>\n<style scoped>\n    .dataframe tbody tr th:only-of-type {\n        vertical-align: middle;\n    }\n\n    .dataframe tbody tr th {\n        vertical-align: top;\n    }\n\n    .dataframe thead th {\n        text-align: right;\n    }\n</style>\n<table border=\"1\" class=\"dataframe\">\n  <thead>\n    <tr style=\"text-align: right;\">\n      <th></th>\n      <th>wagnum</th>\n      <th>operation_date_dttm</th>\n      <th>mileage_all</th>\n      <th>axl1_l_w_flange</th>\n      <th>axl1_r_w_flange</th>\n      <th>axl2_l_w_flange</th>\n      <th>axl2_r_w_flange</th>\n      <th>axl3_l_w_flange</th>\n      <th>axl3_r_w_flange</th>\n      <th>axl4_l_w_flange</th>\n      <th>...</th>\n      <th>axl1_r_w_rim</th>\n      <th>axl2_l_w_rim</th>\n      <th>axl2_r_w_rim</th>\n      <th>axl3_l_w_rim</th>\n      <th>axl3_r_w_rim</th>\n      <th>axl4_l_w_rim</th>\n      <th>axl4_r_w_rim</th>\n      <th>month</th>\n      <th>target_month</th>\n      <th>target_day</th>\n    </tr>\n  </thead>\n  <tbody>\n    <tr>\n      <th>0</th>\n      <td>0</td>\n      <td>1673568000</td>\n      <td>106028</td>\n      <td>26.8</td>\n      <td>28.4</td>\n      <td>27.8</td>\n      <td>26.9</td>\n      <td>31.8</td>\n      <td>29.5</td>\n      <td>30.1</td>\n      <td>...</td>\n      <td>48.7</td>\n      <td>42.6</td>\n      <td>43.8</td>\n      <td>29.6</td>\n      <td>30.1</td>\n      <td>37.1</td>\n      <td>39.2</td>\n      <td>1675209600</td>\n      <td>0</td>\n      <td>0</td>\n    </tr>\n    <tr>\n      <th>1</th>\n      <td>20</td>\n      <td>1674518400</td>\n      <td>32522</td>\n      <td>29.1</td>\n      <td>30.6</td>\n      <td>30.2</td>\n      <td>32.6</td>\n      <td>29.4</td>\n      <td>32.0</td>\n      <td>30.2</td>\n      <td>...</td>\n      <td>74.0</td>\n      <td>73.0</td>\n      <td>73.8</td>\n      <td>72.4</td>\n      <td>72.6</td>\n      <td>74.0</td>\n      <td>73.9</td>\n      <td>1675209600</td>\n      <td>0</td>\n      <td>0</td>\n    </tr>\n    <tr>\n      <th>2</th>\n      <td>23</td>\n      <td>1675123200</td>\n      <td>&lt;NA&gt;</td>\n      <td>29.7</td>\n      <td>28.4</td>\n      <td>25.4</td>\n      <td>29.0</td>\n      <td>28.3</td>\n      <td>25.3</td>\n      <td>27.8</td>\n      <td>...</td>\n      <td>34.6</td>\n      <td>31.6</td>\n      <td>31.7</td>\n      <td>32.7</td>\n      <td>30.9</td>\n      <td>35.5</td>\n      <td>35.7</td>\n      <td>1675209600</td>\n      <td>0</td>\n      <td>0</td>\n    </tr>\n    <tr>\n      <th>3</th>\n      <td>36</td>\n      <td>1674259200</td>\n      <td>105942</td>\n      <td>24.2</td>\n      <td>28.1</td>\n      <td>28.6</td>\n      <td>28.4</td>\n      <td>27.2</td>\n      <td>29.2</td>\n      <td>26.6</td>\n      <td>...</td>\n      <td>30.2</td>\n      <td>27.6</td>\n      <td>29.6</td>\n      <td>26.7</td>\n      <td>27.0</td>\n      <td>33.1</td>\n      <td>33.7</td>\n      <td>1675209600</td>\n      <td>0</td>\n      <td>0</td>\n    </tr>\n    <tr>\n      <th>4</th>\n      <td>40</td>\n      <td>1674864000</td>\n      <td>35797</td>\n      <td>26.3</td>\n      <td>29.1</td>\n      <td>28.9</td>\n      <td>26.3</td>\n      <td>29.6</td>\n      <td>28.1</td>\n      <td>28.4</td>\n      <td>...</td>\n      <td>39.0</td>\n      <td>34.5</td>\n      <td>35.0</td>\n      <td>32.2</td>\n      <td>34.0</td>\n      <td>27.6</td>\n      <td>29.6</td>\n      <td>1675209600</td>\n      <td>0</td>\n      <td>0</td>\n    </tr>\n    <tr>\n      <th>...</th>\n      <td>...</td>\n      <td>...</td>\n      <td>...</td>\n      <td>...</td>\n      <td>...</td>\n      <td>...</td>\n      <td>...</td>\n      <td>...</td>\n      <td>...</td>\n      <td>...</td>\n      <td>...</td>\n      <td>...</td>\n      <td>...</td>\n      <td>...</td>\n      <td>...</td>\n      <td>...</td>\n      <td>...</td>\n      <td>...</td>\n      <td>...</td>\n      <td>...</td>\n      <td>...</td>\n    </tr>\n    <tr>\n      <th>6795</th>\n      <td>33904</td>\n      <td>1675123200</td>\n      <td>160032</td>\n      <td>27.9</td>\n      <td>28.9</td>\n      <td>28.3</td>\n      <td>27.8</td>\n      <td>27.8</td>\n      <td>28.4</td>\n      <td>28.0</td>\n      <td>...</td>\n      <td>71.2</td>\n      <td>71.0</td>\n      <td>69.1</td>\n      <td>66.2</td>\n      <td>62.8</td>\n      <td>63.1</td>\n      <td>60.2</td>\n      <td>1675209600</td>\n      <td>1</td>\n      <td>1</td>\n    </tr>\n    <tr>\n      <th>6796</th>\n      <td>33906</td>\n      <td>1674691200</td>\n      <td>155465</td>\n      <td>27.8</td>\n      <td>29.7</td>\n      <td>28.3</td>\n      <td>25.9</td>\n      <td>25.8</td>\n      <td>27.8</td>\n      <td>28.7</td>\n      <td>...</td>\n      <td>60.4</td>\n      <td>50.9</td>\n      <td>52.1</td>\n      <td>62.0</td>\n      <td>63.3</td>\n      <td>69.8</td>\n      <td>70.4</td>\n      <td>1675209600</td>\n      <td>1</td>\n      <td>0</td>\n    </tr>\n    <tr>\n      <th>6797</th>\n      <td>33907</td>\n      <td>1667088000</td>\n      <td>159314</td>\n      <td>28.7</td>\n      <td>27.7</td>\n      <td>28.2</td>\n      <td>27.4</td>\n      <td>25.9</td>\n      <td>27.9</td>\n      <td>26.7</td>\n      <td>...</td>\n      <td>68.9</td>\n      <td>64.0</td>\n      <td>64.3</td>\n      <td>61.1</td>\n      <td>61.6</td>\n      <td>64.3</td>\n      <td>63.8</td>\n      <td>1675209600</td>\n      <td>0</td>\n      <td>0</td>\n    </tr>\n    <tr>\n      <th>6798</th>\n      <td>33913</td>\n      <td>1675036800</td>\n      <td>5947</td>\n      <td>29.3</td>\n      <td>29.2</td>\n      <td>29.0</td>\n      <td>28.6</td>\n      <td>28.8</td>\n      <td>29.8</td>\n      <td>28.6</td>\n      <td>...</td>\n      <td>42.2</td>\n      <td>38.2</td>\n      <td>38.1</td>\n      <td>40.0</td>\n      <td>41.0</td>\n      <td>41.1</td>\n      <td>43.6</td>\n      <td>1675209600</td>\n      <td>0</td>\n      <td>0</td>\n    </tr>\n    <tr>\n      <th>6799</th>\n      <td>33973</td>\n      <td>1675036800</td>\n      <td>23626</td>\n      <td>28.4</td>\n      <td>28.9</td>\n      <td>29.4</td>\n      <td>28.9</td>\n      <td>32.0</td>\n      <td>29.6</td>\n      <td>29.9</td>\n      <td>...</td>\n      <td>60.1</td>\n      <td>57.2</td>\n      <td>58.1</td>\n      <td>50.5</td>\n      <td>50.9</td>\n      <td>57.9</td>\n      <td>55.3</td>\n      <td>1675209600</td>\n      <td>0</td>\n      <td>0</td>\n    </tr>\n  </tbody>\n</table>\n<p>6800 rows × 22 columns</p>\n</div>"
     },
     "execution_count": 209,
     "metadata": {},
     "output_type": "execute_result"
    }
   ],
   "source": [
    "merged_df"
   ],
   "metadata": {
    "collapsed": false
   }
  },
  {
   "cell_type": "code",
   "execution_count": 210,
   "outputs": [],
   "source": [
    "# Calculate the mean of each column and convert it to integer\n",
    "column_means = merged_df.mean().astype(int)\n",
    "\n",
    "# Fill NaN values with the mean of each column\n",
    "merged_df.fillna(column_means, inplace=True)"
   ],
   "metadata": {
    "collapsed": false
   }
  },
  {
   "cell_type": "code",
   "execution_count": 211,
   "outputs": [
    {
     "data": {
      "text/plain": "      wagnum  operation_date_dttm  mileage_all  axl1_l_w_flange   \n0          0           1673568000       106028             26.8  \\\n1         20           1674518400        32522             29.1   \n2         23           1675123200        75531             29.7   \n3         36           1674259200       105942             24.2   \n4         40           1674864000        35797             26.3   \n...      ...                  ...          ...              ...   \n6795   33904           1675123200       160032             27.9   \n6796   33906           1674691200       155465             27.8   \n6797   33907           1667088000       159314             28.7   \n6798   33913           1675036800         5947             29.3   \n6799   33973           1675036800        23626             28.4   \n\n      axl1_r_w_flange  axl2_l_w_flange  axl2_r_w_flange  axl3_l_w_flange   \n0                28.4             27.8             26.9             31.8  \\\n1                30.6             30.2             32.6             29.4   \n2                28.4             25.4             29.0             28.3   \n3                28.1             28.6             28.4             27.2   \n4                29.1             28.9             26.3             29.6   \n...               ...              ...              ...              ...   \n6795             28.9             28.3             27.8             27.8   \n6796             29.7             28.3             25.9             25.8   \n6797             27.7             28.2             27.4             25.9   \n6798             29.2             29.0             28.6             28.8   \n6799             28.9             29.4             28.9             32.0   \n\n      axl3_r_w_flange  axl4_l_w_flange  ...  axl1_r_w_rim  axl2_l_w_rim   \n0                29.5             30.1  ...          48.7          42.6  \\\n1                32.0             30.2  ...          74.0          73.0   \n2                25.3             27.8  ...          34.6          31.6   \n3                29.2             26.6  ...          30.2          27.6   \n4                28.1             28.4  ...          39.0          34.5   \n...               ...              ...  ...           ...           ...   \n6795             28.4             28.0  ...          71.2          71.0   \n6796             27.8             28.7  ...          60.4          50.9   \n6797             27.9             26.7  ...          68.9          64.0   \n6798             29.8             28.6  ...          42.2          38.2   \n6799             29.6             29.9  ...          60.1          57.2   \n\n      axl2_r_w_rim  axl3_l_w_rim  axl3_r_w_rim  axl4_l_w_rim  axl4_r_w_rim   \n0             43.8          29.6          30.1          37.1          39.2  \\\n1             73.8          72.4          72.6          74.0          73.9   \n2             31.7          32.7          30.9          35.5          35.7   \n3             29.6          26.7          27.0          33.1          33.7   \n4             35.0          32.2          34.0          27.6          29.6   \n...            ...           ...           ...           ...           ...   \n6795          69.1          66.2          62.8          63.1          60.2   \n6796          52.1          62.0          63.3          69.8          70.4   \n6797          64.3          61.1          61.6          64.3          63.8   \n6798          38.1          40.0          41.0          41.1          43.6   \n6799          58.1          50.5          50.9          57.9          55.3   \n\n           month  target_month  target_day  \n0     1675209600             0           0  \n1     1675209600             0           0  \n2     1675209600             0           0  \n3     1675209600             0           0  \n4     1675209600             0           0  \n...          ...           ...         ...  \n6795  1675209600             1           1  \n6796  1675209600             1           0  \n6797  1675209600             0           0  \n6798  1675209600             0           0  \n6799  1675209600             0           0  \n\n[6800 rows x 22 columns]",
      "text/html": "<div>\n<style scoped>\n    .dataframe tbody tr th:only-of-type {\n        vertical-align: middle;\n    }\n\n    .dataframe tbody tr th {\n        vertical-align: top;\n    }\n\n    .dataframe thead th {\n        text-align: right;\n    }\n</style>\n<table border=\"1\" class=\"dataframe\">\n  <thead>\n    <tr style=\"text-align: right;\">\n      <th></th>\n      <th>wagnum</th>\n      <th>operation_date_dttm</th>\n      <th>mileage_all</th>\n      <th>axl1_l_w_flange</th>\n      <th>axl1_r_w_flange</th>\n      <th>axl2_l_w_flange</th>\n      <th>axl2_r_w_flange</th>\n      <th>axl3_l_w_flange</th>\n      <th>axl3_r_w_flange</th>\n      <th>axl4_l_w_flange</th>\n      <th>...</th>\n      <th>axl1_r_w_rim</th>\n      <th>axl2_l_w_rim</th>\n      <th>axl2_r_w_rim</th>\n      <th>axl3_l_w_rim</th>\n      <th>axl3_r_w_rim</th>\n      <th>axl4_l_w_rim</th>\n      <th>axl4_r_w_rim</th>\n      <th>month</th>\n      <th>target_month</th>\n      <th>target_day</th>\n    </tr>\n  </thead>\n  <tbody>\n    <tr>\n      <th>0</th>\n      <td>0</td>\n      <td>1673568000</td>\n      <td>106028</td>\n      <td>26.8</td>\n      <td>28.4</td>\n      <td>27.8</td>\n      <td>26.9</td>\n      <td>31.8</td>\n      <td>29.5</td>\n      <td>30.1</td>\n      <td>...</td>\n      <td>48.7</td>\n      <td>42.6</td>\n      <td>43.8</td>\n      <td>29.6</td>\n      <td>30.1</td>\n      <td>37.1</td>\n      <td>39.2</td>\n      <td>1675209600</td>\n      <td>0</td>\n      <td>0</td>\n    </tr>\n    <tr>\n      <th>1</th>\n      <td>20</td>\n      <td>1674518400</td>\n      <td>32522</td>\n      <td>29.1</td>\n      <td>30.6</td>\n      <td>30.2</td>\n      <td>32.6</td>\n      <td>29.4</td>\n      <td>32.0</td>\n      <td>30.2</td>\n      <td>...</td>\n      <td>74.0</td>\n      <td>73.0</td>\n      <td>73.8</td>\n      <td>72.4</td>\n      <td>72.6</td>\n      <td>74.0</td>\n      <td>73.9</td>\n      <td>1675209600</td>\n      <td>0</td>\n      <td>0</td>\n    </tr>\n    <tr>\n      <th>2</th>\n      <td>23</td>\n      <td>1675123200</td>\n      <td>75531</td>\n      <td>29.7</td>\n      <td>28.4</td>\n      <td>25.4</td>\n      <td>29.0</td>\n      <td>28.3</td>\n      <td>25.3</td>\n      <td>27.8</td>\n      <td>...</td>\n      <td>34.6</td>\n      <td>31.6</td>\n      <td>31.7</td>\n      <td>32.7</td>\n      <td>30.9</td>\n      <td>35.5</td>\n      <td>35.7</td>\n      <td>1675209600</td>\n      <td>0</td>\n      <td>0</td>\n    </tr>\n    <tr>\n      <th>3</th>\n      <td>36</td>\n      <td>1674259200</td>\n      <td>105942</td>\n      <td>24.2</td>\n      <td>28.1</td>\n      <td>28.6</td>\n      <td>28.4</td>\n      <td>27.2</td>\n      <td>29.2</td>\n      <td>26.6</td>\n      <td>...</td>\n      <td>30.2</td>\n      <td>27.6</td>\n      <td>29.6</td>\n      <td>26.7</td>\n      <td>27.0</td>\n      <td>33.1</td>\n      <td>33.7</td>\n      <td>1675209600</td>\n      <td>0</td>\n      <td>0</td>\n    </tr>\n    <tr>\n      <th>4</th>\n      <td>40</td>\n      <td>1674864000</td>\n      <td>35797</td>\n      <td>26.3</td>\n      <td>29.1</td>\n      <td>28.9</td>\n      <td>26.3</td>\n      <td>29.6</td>\n      <td>28.1</td>\n      <td>28.4</td>\n      <td>...</td>\n      <td>39.0</td>\n      <td>34.5</td>\n      <td>35.0</td>\n      <td>32.2</td>\n      <td>34.0</td>\n      <td>27.6</td>\n      <td>29.6</td>\n      <td>1675209600</td>\n      <td>0</td>\n      <td>0</td>\n    </tr>\n    <tr>\n      <th>...</th>\n      <td>...</td>\n      <td>...</td>\n      <td>...</td>\n      <td>...</td>\n      <td>...</td>\n      <td>...</td>\n      <td>...</td>\n      <td>...</td>\n      <td>...</td>\n      <td>...</td>\n      <td>...</td>\n      <td>...</td>\n      <td>...</td>\n      <td>...</td>\n      <td>...</td>\n      <td>...</td>\n      <td>...</td>\n      <td>...</td>\n      <td>...</td>\n      <td>...</td>\n      <td>...</td>\n    </tr>\n    <tr>\n      <th>6795</th>\n      <td>33904</td>\n      <td>1675123200</td>\n      <td>160032</td>\n      <td>27.9</td>\n      <td>28.9</td>\n      <td>28.3</td>\n      <td>27.8</td>\n      <td>27.8</td>\n      <td>28.4</td>\n      <td>28.0</td>\n      <td>...</td>\n      <td>71.2</td>\n      <td>71.0</td>\n      <td>69.1</td>\n      <td>66.2</td>\n      <td>62.8</td>\n      <td>63.1</td>\n      <td>60.2</td>\n      <td>1675209600</td>\n      <td>1</td>\n      <td>1</td>\n    </tr>\n    <tr>\n      <th>6796</th>\n      <td>33906</td>\n      <td>1674691200</td>\n      <td>155465</td>\n      <td>27.8</td>\n      <td>29.7</td>\n      <td>28.3</td>\n      <td>25.9</td>\n      <td>25.8</td>\n      <td>27.8</td>\n      <td>28.7</td>\n      <td>...</td>\n      <td>60.4</td>\n      <td>50.9</td>\n      <td>52.1</td>\n      <td>62.0</td>\n      <td>63.3</td>\n      <td>69.8</td>\n      <td>70.4</td>\n      <td>1675209600</td>\n      <td>1</td>\n      <td>0</td>\n    </tr>\n    <tr>\n      <th>6797</th>\n      <td>33907</td>\n      <td>1667088000</td>\n      <td>159314</td>\n      <td>28.7</td>\n      <td>27.7</td>\n      <td>28.2</td>\n      <td>27.4</td>\n      <td>25.9</td>\n      <td>27.9</td>\n      <td>26.7</td>\n      <td>...</td>\n      <td>68.9</td>\n      <td>64.0</td>\n      <td>64.3</td>\n      <td>61.1</td>\n      <td>61.6</td>\n      <td>64.3</td>\n      <td>63.8</td>\n      <td>1675209600</td>\n      <td>0</td>\n      <td>0</td>\n    </tr>\n    <tr>\n      <th>6798</th>\n      <td>33913</td>\n      <td>1675036800</td>\n      <td>5947</td>\n      <td>29.3</td>\n      <td>29.2</td>\n      <td>29.0</td>\n      <td>28.6</td>\n      <td>28.8</td>\n      <td>29.8</td>\n      <td>28.6</td>\n      <td>...</td>\n      <td>42.2</td>\n      <td>38.2</td>\n      <td>38.1</td>\n      <td>40.0</td>\n      <td>41.0</td>\n      <td>41.1</td>\n      <td>43.6</td>\n      <td>1675209600</td>\n      <td>0</td>\n      <td>0</td>\n    </tr>\n    <tr>\n      <th>6799</th>\n      <td>33973</td>\n      <td>1675036800</td>\n      <td>23626</td>\n      <td>28.4</td>\n      <td>28.9</td>\n      <td>29.4</td>\n      <td>28.9</td>\n      <td>32.0</td>\n      <td>29.6</td>\n      <td>29.9</td>\n      <td>...</td>\n      <td>60.1</td>\n      <td>57.2</td>\n      <td>58.1</td>\n      <td>50.5</td>\n      <td>50.9</td>\n      <td>57.9</td>\n      <td>55.3</td>\n      <td>1675209600</td>\n      <td>0</td>\n      <td>0</td>\n    </tr>\n  </tbody>\n</table>\n<p>6800 rows × 22 columns</p>\n</div>"
     },
     "execution_count": 211,
     "metadata": {},
     "output_type": "execute_result"
    }
   ],
   "source": [
    "merged_df"
   ],
   "metadata": {
    "collapsed": false
   }
  },
  {
   "cell_type": "code",
   "execution_count": 212,
   "outputs": [
    {
     "data": {
      "text/plain": "      wagnum  operation_date_dttm  mileage_all  axl1_l_w_flange   \n93       818           1673395200       136134             25.9  \\\n103      968           1672704000       150829             28.8   \n136     1400           1674864000       144727             28.0   \n144     1408           1674518400       123401             27.5   \n227     2409           1673395200        75531             31.2   \n...      ...                  ...          ...              ...   \n6738   33574           1674259200       153016             30.6   \n6785   33814           1673913600       153403             28.1   \n6790   33846           1674950400       497091             25.6   \n6795   33904           1675123200       160032             27.9   \n6796   33906           1674691200       155465             27.8   \n\n      axl1_r_w_flange  axl2_l_w_flange  axl2_r_w_flange  axl3_l_w_flange   \n93               30.5             29.6             30.2             28.5  \\\n103              29.4             28.6             29.1             29.5   \n136              28.7             27.0             28.9             29.1   \n144              30.2             29.7             27.3             29.3   \n227              31.5             29.0             29.0             32.4   \n...               ...              ...              ...              ...   \n6738             28.3             28.9             28.5             29.0   \n6785             28.7             26.9             30.2             27.7   \n6790             27.5             29.4             29.9             30.7   \n6795             28.9             28.3             27.8             27.8   \n6796             29.7             28.3             25.9             25.8   \n\n      axl3_r_w_flange  axl4_l_w_flange  ...  axl1_r_w_rim  axl2_l_w_rim   \n93               30.8             27.2  ...          60.2          61.0  \\\n103              29.8             29.5  ...          61.8          65.1   \n136              28.3             25.8  ...          30.9          32.2   \n144              28.4             25.5  ...          73.9          74.9   \n227              32.3             29.3  ...          62.2          61.9   \n...               ...              ...  ...           ...           ...   \n6738             30.7             29.6  ...          73.0          72.0   \n6785             28.1             29.2  ...          62.0          70.7   \n6790             32.4             26.5  ...          54.9          49.7   \n6795             28.4             28.0  ...          71.2          71.0   \n6796             27.8             28.7  ...          60.4          50.9   \n\n      axl2_r_w_rim  axl3_l_w_rim  axl3_r_w_rim  axl4_l_w_rim  axl4_r_w_rim   \n93            59.4          64.9          63.9          68.0          67.2  \\\n103           65.0          66.2          65.1          70.2          71.7   \n136           33.9          31.6          32.1          29.4          29.5   \n144           75.1          62.5          62.0          65.6          66.0   \n227           60.2          68.2          66.7          62.5          63.0   \n...            ...           ...           ...           ...           ...   \n6738          73.8          76.5          76.9          73.6          73.3   \n6785          72.4          72.7          75.9          71.5          70.6   \n6790          48.8          61.9          62.4          65.7          64.7   \n6795          69.1          66.2          62.8          63.1          60.2   \n6796          52.1          62.0          63.3          69.8          70.4   \n\n           month  target_month  target_day  \n93    1675209600             1           0  \n103   1675209600             1           0  \n136   1675209600             1           1  \n144   1675209600             1           0  \n227   1675209600             1           0  \n...          ...           ...         ...  \n6738  1675209600             1           0  \n6785  1675209600             1           0  \n6790  1675209600             1           1  \n6795  1675209600             1           1  \n6796  1675209600             1           0  \n\n[287 rows x 22 columns]",
      "text/html": "<div>\n<style scoped>\n    .dataframe tbody tr th:only-of-type {\n        vertical-align: middle;\n    }\n\n    .dataframe tbody tr th {\n        vertical-align: top;\n    }\n\n    .dataframe thead th {\n        text-align: right;\n    }\n</style>\n<table border=\"1\" class=\"dataframe\">\n  <thead>\n    <tr style=\"text-align: right;\">\n      <th></th>\n      <th>wagnum</th>\n      <th>operation_date_dttm</th>\n      <th>mileage_all</th>\n      <th>axl1_l_w_flange</th>\n      <th>axl1_r_w_flange</th>\n      <th>axl2_l_w_flange</th>\n      <th>axl2_r_w_flange</th>\n      <th>axl3_l_w_flange</th>\n      <th>axl3_r_w_flange</th>\n      <th>axl4_l_w_flange</th>\n      <th>...</th>\n      <th>axl1_r_w_rim</th>\n      <th>axl2_l_w_rim</th>\n      <th>axl2_r_w_rim</th>\n      <th>axl3_l_w_rim</th>\n      <th>axl3_r_w_rim</th>\n      <th>axl4_l_w_rim</th>\n      <th>axl4_r_w_rim</th>\n      <th>month</th>\n      <th>target_month</th>\n      <th>target_day</th>\n    </tr>\n  </thead>\n  <tbody>\n    <tr>\n      <th>93</th>\n      <td>818</td>\n      <td>1673395200</td>\n      <td>136134</td>\n      <td>25.9</td>\n      <td>30.5</td>\n      <td>29.6</td>\n      <td>30.2</td>\n      <td>28.5</td>\n      <td>30.8</td>\n      <td>27.2</td>\n      <td>...</td>\n      <td>60.2</td>\n      <td>61.0</td>\n      <td>59.4</td>\n      <td>64.9</td>\n      <td>63.9</td>\n      <td>68.0</td>\n      <td>67.2</td>\n      <td>1675209600</td>\n      <td>1</td>\n      <td>0</td>\n    </tr>\n    <tr>\n      <th>103</th>\n      <td>968</td>\n      <td>1672704000</td>\n      <td>150829</td>\n      <td>28.8</td>\n      <td>29.4</td>\n      <td>28.6</td>\n      <td>29.1</td>\n      <td>29.5</td>\n      <td>29.8</td>\n      <td>29.5</td>\n      <td>...</td>\n      <td>61.8</td>\n      <td>65.1</td>\n      <td>65.0</td>\n      <td>66.2</td>\n      <td>65.1</td>\n      <td>70.2</td>\n      <td>71.7</td>\n      <td>1675209600</td>\n      <td>1</td>\n      <td>0</td>\n    </tr>\n    <tr>\n      <th>136</th>\n      <td>1400</td>\n      <td>1674864000</td>\n      <td>144727</td>\n      <td>28.0</td>\n      <td>28.7</td>\n      <td>27.0</td>\n      <td>28.9</td>\n      <td>29.1</td>\n      <td>28.3</td>\n      <td>25.8</td>\n      <td>...</td>\n      <td>30.9</td>\n      <td>32.2</td>\n      <td>33.9</td>\n      <td>31.6</td>\n      <td>32.1</td>\n      <td>29.4</td>\n      <td>29.5</td>\n      <td>1675209600</td>\n      <td>1</td>\n      <td>1</td>\n    </tr>\n    <tr>\n      <th>144</th>\n      <td>1408</td>\n      <td>1674518400</td>\n      <td>123401</td>\n      <td>27.5</td>\n      <td>30.2</td>\n      <td>29.7</td>\n      <td>27.3</td>\n      <td>29.3</td>\n      <td>28.4</td>\n      <td>25.5</td>\n      <td>...</td>\n      <td>73.9</td>\n      <td>74.9</td>\n      <td>75.1</td>\n      <td>62.5</td>\n      <td>62.0</td>\n      <td>65.6</td>\n      <td>66.0</td>\n      <td>1675209600</td>\n      <td>1</td>\n      <td>0</td>\n    </tr>\n    <tr>\n      <th>227</th>\n      <td>2409</td>\n      <td>1673395200</td>\n      <td>75531</td>\n      <td>31.2</td>\n      <td>31.5</td>\n      <td>29.0</td>\n      <td>29.0</td>\n      <td>32.4</td>\n      <td>32.3</td>\n      <td>29.3</td>\n      <td>...</td>\n      <td>62.2</td>\n      <td>61.9</td>\n      <td>60.2</td>\n      <td>68.2</td>\n      <td>66.7</td>\n      <td>62.5</td>\n      <td>63.0</td>\n      <td>1675209600</td>\n      <td>1</td>\n      <td>0</td>\n    </tr>\n    <tr>\n      <th>...</th>\n      <td>...</td>\n      <td>...</td>\n      <td>...</td>\n      <td>...</td>\n      <td>...</td>\n      <td>...</td>\n      <td>...</td>\n      <td>...</td>\n      <td>...</td>\n      <td>...</td>\n      <td>...</td>\n      <td>...</td>\n      <td>...</td>\n      <td>...</td>\n      <td>...</td>\n      <td>...</td>\n      <td>...</td>\n      <td>...</td>\n      <td>...</td>\n      <td>...</td>\n      <td>...</td>\n    </tr>\n    <tr>\n      <th>6738</th>\n      <td>33574</td>\n      <td>1674259200</td>\n      <td>153016</td>\n      <td>30.6</td>\n      <td>28.3</td>\n      <td>28.9</td>\n      <td>28.5</td>\n      <td>29.0</td>\n      <td>30.7</td>\n      <td>29.6</td>\n      <td>...</td>\n      <td>73.0</td>\n      <td>72.0</td>\n      <td>73.8</td>\n      <td>76.5</td>\n      <td>76.9</td>\n      <td>73.6</td>\n      <td>73.3</td>\n      <td>1675209600</td>\n      <td>1</td>\n      <td>0</td>\n    </tr>\n    <tr>\n      <th>6785</th>\n      <td>33814</td>\n      <td>1673913600</td>\n      <td>153403</td>\n      <td>28.1</td>\n      <td>28.7</td>\n      <td>26.9</td>\n      <td>30.2</td>\n      <td>27.7</td>\n      <td>28.1</td>\n      <td>29.2</td>\n      <td>...</td>\n      <td>62.0</td>\n      <td>70.7</td>\n      <td>72.4</td>\n      <td>72.7</td>\n      <td>75.9</td>\n      <td>71.5</td>\n      <td>70.6</td>\n      <td>1675209600</td>\n      <td>1</td>\n      <td>0</td>\n    </tr>\n    <tr>\n      <th>6790</th>\n      <td>33846</td>\n      <td>1674950400</td>\n      <td>497091</td>\n      <td>25.6</td>\n      <td>27.5</td>\n      <td>29.4</td>\n      <td>29.9</td>\n      <td>30.7</td>\n      <td>32.4</td>\n      <td>26.5</td>\n      <td>...</td>\n      <td>54.9</td>\n      <td>49.7</td>\n      <td>48.8</td>\n      <td>61.9</td>\n      <td>62.4</td>\n      <td>65.7</td>\n      <td>64.7</td>\n      <td>1675209600</td>\n      <td>1</td>\n      <td>1</td>\n    </tr>\n    <tr>\n      <th>6795</th>\n      <td>33904</td>\n      <td>1675123200</td>\n      <td>160032</td>\n      <td>27.9</td>\n      <td>28.9</td>\n      <td>28.3</td>\n      <td>27.8</td>\n      <td>27.8</td>\n      <td>28.4</td>\n      <td>28.0</td>\n      <td>...</td>\n      <td>71.2</td>\n      <td>71.0</td>\n      <td>69.1</td>\n      <td>66.2</td>\n      <td>62.8</td>\n      <td>63.1</td>\n      <td>60.2</td>\n      <td>1675209600</td>\n      <td>1</td>\n      <td>1</td>\n    </tr>\n    <tr>\n      <th>6796</th>\n      <td>33906</td>\n      <td>1674691200</td>\n      <td>155465</td>\n      <td>27.8</td>\n      <td>29.7</td>\n      <td>28.3</td>\n      <td>25.9</td>\n      <td>25.8</td>\n      <td>27.8</td>\n      <td>28.7</td>\n      <td>...</td>\n      <td>60.4</td>\n      <td>50.9</td>\n      <td>52.1</td>\n      <td>62.0</td>\n      <td>63.3</td>\n      <td>69.8</td>\n      <td>70.4</td>\n      <td>1675209600</td>\n      <td>1</td>\n      <td>0</td>\n    </tr>\n  </tbody>\n</table>\n<p>287 rows × 22 columns</p>\n</div>"
     },
     "execution_count": 212,
     "metadata": {},
     "output_type": "execute_result"
    }
   ],
   "source": [
    "filtered_df = merged_df[merged_df['target_month'] == 1].copy()\n",
    "filtered_df"
   ],
   "metadata": {
    "collapsed": false
   }
  },
  {
   "cell_type": "code",
   "execution_count": 213,
   "outputs": [
    {
     "data": {
      "text/plain": "      wagnum  operation_date_dttm  mileage_all  axl1_l_w_flange   \n93       818           1673395200       136134             25.9  \\\n103      968           1672704000       150829             28.8   \n136     1400           1674864000       144727             28.0   \n144     1408           1674518400       123401             27.5   \n227     2409           1673395200        75531             31.2   \n...      ...                  ...          ...              ...   \n6738   33574           1674259200       153016             30.6   \n6785   33814           1673913600       153403             28.1   \n6790   33846           1674950400       497091             25.6   \n6795   33904           1675123200       160032             27.9   \n6796   33906           1674691200       155465             27.8   \n\n      axl1_r_w_flange  axl2_l_w_flange  axl2_r_w_flange  axl3_l_w_flange   \n93               30.5             29.6             30.2             28.5  \\\n103              29.4             28.6             29.1             29.5   \n136              28.7             27.0             28.9             29.1   \n144              30.2             29.7             27.3             29.3   \n227              31.5             29.0             29.0             32.4   \n...               ...              ...              ...              ...   \n6738             28.3             28.9             28.5             29.0   \n6785             28.7             26.9             30.2             27.7   \n6790             27.5             29.4             29.9             30.7   \n6795             28.9             28.3             27.8             27.8   \n6796             29.7             28.3             25.9             25.8   \n\n      axl3_r_w_flange  axl4_l_w_flange  ...  axl2_l_w_rim  axl2_r_w_rim   \n93               30.8             27.2  ...          61.0          59.4  \\\n103              29.8             29.5  ...          65.1          65.0   \n136              28.3             25.8  ...          32.2          33.9   \n144              28.4             25.5  ...          74.9          75.1   \n227              32.3             29.3  ...          61.9          60.2   \n...               ...              ...  ...           ...           ...   \n6738             30.7             29.6  ...          72.0          73.8   \n6785             28.1             29.2  ...          70.7          72.4   \n6790             32.4             26.5  ...          49.7          48.8   \n6795             28.4             28.0  ...          71.0          69.1   \n6796             27.8             28.7  ...          50.9          52.1   \n\n      axl3_l_w_rim  axl3_r_w_rim  axl4_l_w_rim  axl4_r_w_rim       month   \n93            64.9          63.9          68.0          67.2  1675209600  \\\n103           66.2          65.1          70.2          71.7  1675209600   \n136           31.6          32.1          29.4          29.5  1675209600   \n144           62.5          62.0          65.6          66.0  1675209600   \n227           68.2          66.7          62.5          63.0  1675209600   \n...            ...           ...           ...           ...         ...   \n6738          76.5          76.9          73.6          73.3  1675209600   \n6785          72.7          75.9          71.5          70.6  1675209600   \n6790          61.9          62.4          65.7          64.7  1675209600   \n6795          66.2          62.8          63.1          60.2  1675209600   \n6796          62.0          63.3          69.8          70.4  1675209600   \n\n      target_month  target_day  difference  \n93               1           0        21.0  \n103              1           0        29.0  \n136              1           1         4.0  \n144              1           0         8.0  \n227              1           0        21.0  \n...            ...         ...         ...  \n6738             1           0        11.0  \n6785             1           0        15.0  \n6790             1           1         3.0  \n6795             1           1         1.0  \n6796             1           0         6.0  \n\n[287 rows x 23 columns]",
      "text/html": "<div>\n<style scoped>\n    .dataframe tbody tr th:only-of-type {\n        vertical-align: middle;\n    }\n\n    .dataframe tbody tr th {\n        vertical-align: top;\n    }\n\n    .dataframe thead th {\n        text-align: right;\n    }\n</style>\n<table border=\"1\" class=\"dataframe\">\n  <thead>\n    <tr style=\"text-align: right;\">\n      <th></th>\n      <th>wagnum</th>\n      <th>operation_date_dttm</th>\n      <th>mileage_all</th>\n      <th>axl1_l_w_flange</th>\n      <th>axl1_r_w_flange</th>\n      <th>axl2_l_w_flange</th>\n      <th>axl2_r_w_flange</th>\n      <th>axl3_l_w_flange</th>\n      <th>axl3_r_w_flange</th>\n      <th>axl4_l_w_flange</th>\n      <th>...</th>\n      <th>axl2_l_w_rim</th>\n      <th>axl2_r_w_rim</th>\n      <th>axl3_l_w_rim</th>\n      <th>axl3_r_w_rim</th>\n      <th>axl4_l_w_rim</th>\n      <th>axl4_r_w_rim</th>\n      <th>month</th>\n      <th>target_month</th>\n      <th>target_day</th>\n      <th>difference</th>\n    </tr>\n  </thead>\n  <tbody>\n    <tr>\n      <th>93</th>\n      <td>818</td>\n      <td>1673395200</td>\n      <td>136134</td>\n      <td>25.9</td>\n      <td>30.5</td>\n      <td>29.6</td>\n      <td>30.2</td>\n      <td>28.5</td>\n      <td>30.8</td>\n      <td>27.2</td>\n      <td>...</td>\n      <td>61.0</td>\n      <td>59.4</td>\n      <td>64.9</td>\n      <td>63.9</td>\n      <td>68.0</td>\n      <td>67.2</td>\n      <td>1675209600</td>\n      <td>1</td>\n      <td>0</td>\n      <td>21.0</td>\n    </tr>\n    <tr>\n      <th>103</th>\n      <td>968</td>\n      <td>1672704000</td>\n      <td>150829</td>\n      <td>28.8</td>\n      <td>29.4</td>\n      <td>28.6</td>\n      <td>29.1</td>\n      <td>29.5</td>\n      <td>29.8</td>\n      <td>29.5</td>\n      <td>...</td>\n      <td>65.1</td>\n      <td>65.0</td>\n      <td>66.2</td>\n      <td>65.1</td>\n      <td>70.2</td>\n      <td>71.7</td>\n      <td>1675209600</td>\n      <td>1</td>\n      <td>0</td>\n      <td>29.0</td>\n    </tr>\n    <tr>\n      <th>136</th>\n      <td>1400</td>\n      <td>1674864000</td>\n      <td>144727</td>\n      <td>28.0</td>\n      <td>28.7</td>\n      <td>27.0</td>\n      <td>28.9</td>\n      <td>29.1</td>\n      <td>28.3</td>\n      <td>25.8</td>\n      <td>...</td>\n      <td>32.2</td>\n      <td>33.9</td>\n      <td>31.6</td>\n      <td>32.1</td>\n      <td>29.4</td>\n      <td>29.5</td>\n      <td>1675209600</td>\n      <td>1</td>\n      <td>1</td>\n      <td>4.0</td>\n    </tr>\n    <tr>\n      <th>144</th>\n      <td>1408</td>\n      <td>1674518400</td>\n      <td>123401</td>\n      <td>27.5</td>\n      <td>30.2</td>\n      <td>29.7</td>\n      <td>27.3</td>\n      <td>29.3</td>\n      <td>28.4</td>\n      <td>25.5</td>\n      <td>...</td>\n      <td>74.9</td>\n      <td>75.1</td>\n      <td>62.5</td>\n      <td>62.0</td>\n      <td>65.6</td>\n      <td>66.0</td>\n      <td>1675209600</td>\n      <td>1</td>\n      <td>0</td>\n      <td>8.0</td>\n    </tr>\n    <tr>\n      <th>227</th>\n      <td>2409</td>\n      <td>1673395200</td>\n      <td>75531</td>\n      <td>31.2</td>\n      <td>31.5</td>\n      <td>29.0</td>\n      <td>29.0</td>\n      <td>32.4</td>\n      <td>32.3</td>\n      <td>29.3</td>\n      <td>...</td>\n      <td>61.9</td>\n      <td>60.2</td>\n      <td>68.2</td>\n      <td>66.7</td>\n      <td>62.5</td>\n      <td>63.0</td>\n      <td>1675209600</td>\n      <td>1</td>\n      <td>0</td>\n      <td>21.0</td>\n    </tr>\n    <tr>\n      <th>...</th>\n      <td>...</td>\n      <td>...</td>\n      <td>...</td>\n      <td>...</td>\n      <td>...</td>\n      <td>...</td>\n      <td>...</td>\n      <td>...</td>\n      <td>...</td>\n      <td>...</td>\n      <td>...</td>\n      <td>...</td>\n      <td>...</td>\n      <td>...</td>\n      <td>...</td>\n      <td>...</td>\n      <td>...</td>\n      <td>...</td>\n      <td>...</td>\n      <td>...</td>\n      <td>...</td>\n    </tr>\n    <tr>\n      <th>6738</th>\n      <td>33574</td>\n      <td>1674259200</td>\n      <td>153016</td>\n      <td>30.6</td>\n      <td>28.3</td>\n      <td>28.9</td>\n      <td>28.5</td>\n      <td>29.0</td>\n      <td>30.7</td>\n      <td>29.6</td>\n      <td>...</td>\n      <td>72.0</td>\n      <td>73.8</td>\n      <td>76.5</td>\n      <td>76.9</td>\n      <td>73.6</td>\n      <td>73.3</td>\n      <td>1675209600</td>\n      <td>1</td>\n      <td>0</td>\n      <td>11.0</td>\n    </tr>\n    <tr>\n      <th>6785</th>\n      <td>33814</td>\n      <td>1673913600</td>\n      <td>153403</td>\n      <td>28.1</td>\n      <td>28.7</td>\n      <td>26.9</td>\n      <td>30.2</td>\n      <td>27.7</td>\n      <td>28.1</td>\n      <td>29.2</td>\n      <td>...</td>\n      <td>70.7</td>\n      <td>72.4</td>\n      <td>72.7</td>\n      <td>75.9</td>\n      <td>71.5</td>\n      <td>70.6</td>\n      <td>1675209600</td>\n      <td>1</td>\n      <td>0</td>\n      <td>15.0</td>\n    </tr>\n    <tr>\n      <th>6790</th>\n      <td>33846</td>\n      <td>1674950400</td>\n      <td>497091</td>\n      <td>25.6</td>\n      <td>27.5</td>\n      <td>29.4</td>\n      <td>29.9</td>\n      <td>30.7</td>\n      <td>32.4</td>\n      <td>26.5</td>\n      <td>...</td>\n      <td>49.7</td>\n      <td>48.8</td>\n      <td>61.9</td>\n      <td>62.4</td>\n      <td>65.7</td>\n      <td>64.7</td>\n      <td>1675209600</td>\n      <td>1</td>\n      <td>1</td>\n      <td>3.0</td>\n    </tr>\n    <tr>\n      <th>6795</th>\n      <td>33904</td>\n      <td>1675123200</td>\n      <td>160032</td>\n      <td>27.9</td>\n      <td>28.9</td>\n      <td>28.3</td>\n      <td>27.8</td>\n      <td>27.8</td>\n      <td>28.4</td>\n      <td>28.0</td>\n      <td>...</td>\n      <td>71.0</td>\n      <td>69.1</td>\n      <td>66.2</td>\n      <td>62.8</td>\n      <td>63.1</td>\n      <td>60.2</td>\n      <td>1675209600</td>\n      <td>1</td>\n      <td>1</td>\n      <td>1.0</td>\n    </tr>\n    <tr>\n      <th>6796</th>\n      <td>33906</td>\n      <td>1674691200</td>\n      <td>155465</td>\n      <td>27.8</td>\n      <td>29.7</td>\n      <td>28.3</td>\n      <td>25.9</td>\n      <td>25.8</td>\n      <td>27.8</td>\n      <td>28.7</td>\n      <td>...</td>\n      <td>50.9</td>\n      <td>52.1</td>\n      <td>62.0</td>\n      <td>63.3</td>\n      <td>69.8</td>\n      <td>70.4</td>\n      <td>1675209600</td>\n      <td>1</td>\n      <td>0</td>\n      <td>6.0</td>\n    </tr>\n  </tbody>\n</table>\n<p>287 rows × 23 columns</p>\n</div>"
     },
     "execution_count": 213,
     "metadata": {},
     "output_type": "execute_result"
    }
   ],
   "source": [
    "filtered_df['difference'] = (filtered_df['month'] - filtered_df['operation_date_dttm']) / 86400\n",
    "filtered_df"
   ],
   "metadata": {
    "collapsed": false
   }
  },
  {
   "cell_type": "code",
   "execution_count": 134,
   "outputs": [],
   "source": [
    "from sklearn.model_selection import train_test_split\n",
    "train_df, val_df = train_test_split(merged_df, test_size=0.1, random_state=42)"
   ],
   "metadata": {
    "collapsed": false
   }
  },
  {
   "cell_type": "code",
   "execution_count": 135,
   "outputs": [
    {
     "data": {
      "text/plain": "      wagnum  operation_date_dttm  mileage_all  axl1_l_w_flange   \n6377   27357           1676505600       145552             29.9  \\\n6095   25515           1677110400        33561             28.6   \n7634   33162           1677542400       160021             30.1   \n4471   21368           1677369600        16140             30.0   \n4126   19543           1675728000        23970             27.7   \n...      ...                  ...          ...              ...   \n4604   21540           1675555200        34322             28.3   \n2306   13617           1677456000        12710             29.6   \n2275   11883           1677542400       127081             30.8   \n2648   13962           1677542400        88248             29.4   \n5568   22964           1677024000        60538             30.8   \n\n      axl1_r_w_flange  axl2_l_w_flange  axl2_r_w_flange  axl3_l_w_flange   \n6377             30.1             29.2             29.0             29.7  \\\n6095             27.3             27.8             28.6             28.5   \n7634             29.2             30.9             31.2             32.5   \n4471             32.1             30.4             29.7             29.0   \n4126             26.3             27.3             28.1             28.0   \n...               ...              ...              ...              ...   \n4604             26.6             28.1             26.4             29.4   \n2306             29.9             29.2             28.6             29.6   \n2275             31.4             30.6             29.9             29.4   \n2648             31.5             30.8             31.5             29.3   \n5568             29.1             31.7             30.3             29.9   \n\n      axl3_r_w_flange  axl4_l_w_flange  ...  axl1_r_w_rim  axl2_l_w_rim   \n6377             30.2             29.0  ...          74.5          72.6  \\\n6095             27.1             28.0  ...          66.2          66.8   \n7634             31.6             29.5  ...          56.5          60.9   \n4471             28.7             32.3  ...          62.8          61.3   \n4126             29.0             24.8  ...          54.9          55.6   \n...               ...              ...  ...           ...           ...   \n4604             26.3             28.9  ...          58.6          55.2   \n2306             29.3             28.5  ...          64.7          69.6   \n2275             25.6             31.2  ...          73.6          62.7   \n2648             28.8             30.3  ...          68.1          68.0   \n5568             31.8             32.5  ...          71.4          75.3   \n\n      axl2_r_w_rim  axl3_l_w_rim  axl3_r_w_rim  axl4_l_w_rim  axl4_r_w_rim   \n6377          73.5          73.4          74.0          72.1          72.4  \\\n6095          64.7          68.0          65.4          64.1          70.2   \n7634          60.9          54.6          53.4          54.0          53.1   \n4471          62.7          60.8          57.8          65.2          64.0   \n4126          55.3          66.3          65.9          64.6          64.1   \n...            ...           ...           ...           ...           ...   \n4604          53.7          47.7          46.2          52.3          52.5   \n2306          67.3          69.1          67.8          69.9          68.6   \n2275          63.5          61.8          59.7          61.6          61.6   \n2648          67.2          60.4          59.8          58.1          58.6   \n5568          72.5          73.7          72.4          74.5          74.6   \n\n           month  target_month  target_day  \n6377  1675209600             0           0  \n6095  1675209600             0           0  \n7634  1675209600             0           0  \n4471  1675209600             0           0  \n4126  1675209600             0           0  \n...          ...           ...         ...  \n4604  1675209600             0           0  \n2306  1675209600             0           0  \n2275  1675209600             0           0  \n2648  1675209600             0           0  \n5568  1675209600             0           0  \n\n[781 rows x 22 columns]",
      "text/html": "<div>\n<style scoped>\n    .dataframe tbody tr th:only-of-type {\n        vertical-align: middle;\n    }\n\n    .dataframe tbody tr th {\n        vertical-align: top;\n    }\n\n    .dataframe thead th {\n        text-align: right;\n    }\n</style>\n<table border=\"1\" class=\"dataframe\">\n  <thead>\n    <tr style=\"text-align: right;\">\n      <th></th>\n      <th>wagnum</th>\n      <th>operation_date_dttm</th>\n      <th>mileage_all</th>\n      <th>axl1_l_w_flange</th>\n      <th>axl1_r_w_flange</th>\n      <th>axl2_l_w_flange</th>\n      <th>axl2_r_w_flange</th>\n      <th>axl3_l_w_flange</th>\n      <th>axl3_r_w_flange</th>\n      <th>axl4_l_w_flange</th>\n      <th>...</th>\n      <th>axl1_r_w_rim</th>\n      <th>axl2_l_w_rim</th>\n      <th>axl2_r_w_rim</th>\n      <th>axl3_l_w_rim</th>\n      <th>axl3_r_w_rim</th>\n      <th>axl4_l_w_rim</th>\n      <th>axl4_r_w_rim</th>\n      <th>month</th>\n      <th>target_month</th>\n      <th>target_day</th>\n    </tr>\n  </thead>\n  <tbody>\n    <tr>\n      <th>6377</th>\n      <td>27357</td>\n      <td>1676505600</td>\n      <td>145552</td>\n      <td>29.9</td>\n      <td>30.1</td>\n      <td>29.2</td>\n      <td>29.0</td>\n      <td>29.7</td>\n      <td>30.2</td>\n      <td>29.0</td>\n      <td>...</td>\n      <td>74.5</td>\n      <td>72.6</td>\n      <td>73.5</td>\n      <td>73.4</td>\n      <td>74.0</td>\n      <td>72.1</td>\n      <td>72.4</td>\n      <td>1675209600</td>\n      <td>0</td>\n      <td>0</td>\n    </tr>\n    <tr>\n      <th>6095</th>\n      <td>25515</td>\n      <td>1677110400</td>\n      <td>33561</td>\n      <td>28.6</td>\n      <td>27.3</td>\n      <td>27.8</td>\n      <td>28.6</td>\n      <td>28.5</td>\n      <td>27.1</td>\n      <td>28.0</td>\n      <td>...</td>\n      <td>66.2</td>\n      <td>66.8</td>\n      <td>64.7</td>\n      <td>68.0</td>\n      <td>65.4</td>\n      <td>64.1</td>\n      <td>70.2</td>\n      <td>1675209600</td>\n      <td>0</td>\n      <td>0</td>\n    </tr>\n    <tr>\n      <th>7634</th>\n      <td>33162</td>\n      <td>1677542400</td>\n      <td>160021</td>\n      <td>30.1</td>\n      <td>29.2</td>\n      <td>30.9</td>\n      <td>31.2</td>\n      <td>32.5</td>\n      <td>31.6</td>\n      <td>29.5</td>\n      <td>...</td>\n      <td>56.5</td>\n      <td>60.9</td>\n      <td>60.9</td>\n      <td>54.6</td>\n      <td>53.4</td>\n      <td>54.0</td>\n      <td>53.1</td>\n      <td>1675209600</td>\n      <td>0</td>\n      <td>0</td>\n    </tr>\n    <tr>\n      <th>4471</th>\n      <td>21368</td>\n      <td>1677369600</td>\n      <td>16140</td>\n      <td>30.0</td>\n      <td>32.1</td>\n      <td>30.4</td>\n      <td>29.7</td>\n      <td>29.0</td>\n      <td>28.7</td>\n      <td>32.3</td>\n      <td>...</td>\n      <td>62.8</td>\n      <td>61.3</td>\n      <td>62.7</td>\n      <td>60.8</td>\n      <td>57.8</td>\n      <td>65.2</td>\n      <td>64.0</td>\n      <td>1675209600</td>\n      <td>0</td>\n      <td>0</td>\n    </tr>\n    <tr>\n      <th>4126</th>\n      <td>19543</td>\n      <td>1675728000</td>\n      <td>23970</td>\n      <td>27.7</td>\n      <td>26.3</td>\n      <td>27.3</td>\n      <td>28.1</td>\n      <td>28.0</td>\n      <td>29.0</td>\n      <td>24.8</td>\n      <td>...</td>\n      <td>54.9</td>\n      <td>55.6</td>\n      <td>55.3</td>\n      <td>66.3</td>\n      <td>65.9</td>\n      <td>64.6</td>\n      <td>64.1</td>\n      <td>1675209600</td>\n      <td>0</td>\n      <td>0</td>\n    </tr>\n    <tr>\n      <th>...</th>\n      <td>...</td>\n      <td>...</td>\n      <td>...</td>\n      <td>...</td>\n      <td>...</td>\n      <td>...</td>\n      <td>...</td>\n      <td>...</td>\n      <td>...</td>\n      <td>...</td>\n      <td>...</td>\n      <td>...</td>\n      <td>...</td>\n      <td>...</td>\n      <td>...</td>\n      <td>...</td>\n      <td>...</td>\n      <td>...</td>\n      <td>...</td>\n      <td>...</td>\n      <td>...</td>\n    </tr>\n    <tr>\n      <th>4604</th>\n      <td>21540</td>\n      <td>1675555200</td>\n      <td>34322</td>\n      <td>28.3</td>\n      <td>26.6</td>\n      <td>28.1</td>\n      <td>26.4</td>\n      <td>29.4</td>\n      <td>26.3</td>\n      <td>28.9</td>\n      <td>...</td>\n      <td>58.6</td>\n      <td>55.2</td>\n      <td>53.7</td>\n      <td>47.7</td>\n      <td>46.2</td>\n      <td>52.3</td>\n      <td>52.5</td>\n      <td>1675209600</td>\n      <td>0</td>\n      <td>0</td>\n    </tr>\n    <tr>\n      <th>2306</th>\n      <td>13617</td>\n      <td>1677456000</td>\n      <td>12710</td>\n      <td>29.6</td>\n      <td>29.9</td>\n      <td>29.2</td>\n      <td>28.6</td>\n      <td>29.6</td>\n      <td>29.3</td>\n      <td>28.5</td>\n      <td>...</td>\n      <td>64.7</td>\n      <td>69.6</td>\n      <td>67.3</td>\n      <td>69.1</td>\n      <td>67.8</td>\n      <td>69.9</td>\n      <td>68.6</td>\n      <td>1675209600</td>\n      <td>0</td>\n      <td>0</td>\n    </tr>\n    <tr>\n      <th>2275</th>\n      <td>11883</td>\n      <td>1677542400</td>\n      <td>127081</td>\n      <td>30.8</td>\n      <td>31.4</td>\n      <td>30.6</td>\n      <td>29.9</td>\n      <td>29.4</td>\n      <td>25.6</td>\n      <td>31.2</td>\n      <td>...</td>\n      <td>73.6</td>\n      <td>62.7</td>\n      <td>63.5</td>\n      <td>61.8</td>\n      <td>59.7</td>\n      <td>61.6</td>\n      <td>61.6</td>\n      <td>1675209600</td>\n      <td>0</td>\n      <td>0</td>\n    </tr>\n    <tr>\n      <th>2648</th>\n      <td>13962</td>\n      <td>1677542400</td>\n      <td>88248</td>\n      <td>29.4</td>\n      <td>31.5</td>\n      <td>30.8</td>\n      <td>31.5</td>\n      <td>29.3</td>\n      <td>28.8</td>\n      <td>30.3</td>\n      <td>...</td>\n      <td>68.1</td>\n      <td>68.0</td>\n      <td>67.2</td>\n      <td>60.4</td>\n      <td>59.8</td>\n      <td>58.1</td>\n      <td>58.6</td>\n      <td>1675209600</td>\n      <td>0</td>\n      <td>0</td>\n    </tr>\n    <tr>\n      <th>5568</th>\n      <td>22964</td>\n      <td>1677024000</td>\n      <td>60538</td>\n      <td>30.8</td>\n      <td>29.1</td>\n      <td>31.7</td>\n      <td>30.3</td>\n      <td>29.9</td>\n      <td>31.8</td>\n      <td>32.5</td>\n      <td>...</td>\n      <td>71.4</td>\n      <td>75.3</td>\n      <td>72.5</td>\n      <td>73.7</td>\n      <td>72.4</td>\n      <td>74.5</td>\n      <td>74.6</td>\n      <td>1675209600</td>\n      <td>0</td>\n      <td>0</td>\n    </tr>\n  </tbody>\n</table>\n<p>781 rows × 22 columns</p>\n</div>"
     },
     "execution_count": 135,
     "metadata": {},
     "output_type": "execute_result"
    }
   ],
   "source": [
    "val_df"
   ],
   "metadata": {
    "collapsed": false
   }
  },
  {
   "cell_type": "code",
   "execution_count": 136,
   "outputs": [],
   "source": [
    "# Split the label columns from train_df\n",
    "train_y = train_df[['target_month', 'target_day']]\n",
    "train_df.drop(['target_month', 'target_day'], axis=1, inplace=True)\n",
    "\n",
    "# Split the label columns from val_df\n",
    "val_y = val_df[['target_month', 'target_day']]\n",
    "val_df.drop(['target_month', 'target_day'], axis=1, inplace=True)"
   ],
   "metadata": {
    "collapsed": false
   }
  },
  {
   "cell_type": "code",
   "execution_count": 144,
   "outputs": [],
   "source": [
    "cat_features = [0]"
   ],
   "metadata": {
    "collapsed": false
   }
  },
  {
   "cell_type": "code",
   "execution_count": 145,
   "outputs": [],
   "source": [
    "# Function to convert non-integer values to strings\n",
    "def convert_to_str(value):\n",
    "    if isinstance(value, (float, complex)) and not value.is_integer():\n",
    "        return str(value)\n",
    "    return value\n",
    "\n",
    "# Apply the function to each element in the DataFrame\n",
    "train_df = train_df.applymap(convert_to_str)"
   ],
   "metadata": {
    "collapsed": false
   }
  },
  {
   "cell_type": "code",
   "execution_count": 146,
   "outputs": [],
   "source": [
    "train_df = train_df.astype(str)\n",
    "val_df = val_df.astype(str)"
   ],
   "metadata": {
    "collapsed": false
   }
  },
  {
   "cell_type": "code",
   "execution_count": 147,
   "outputs": [
    {
     "name": "stdout",
     "output_type": "stream",
     "text": [
      "0:\tlearn: 0.5244509\ttotal: 14.8ms\tremaining: 7.37s\n",
      "1:\tlearn: 0.4047502\ttotal: 29.1ms\tremaining: 7.25s\n",
      "2:\tlearn: 0.3237013\ttotal: 41.2ms\tremaining: 6.82s\n",
      "3:\tlearn: 0.2683950\ttotal: 52ms\tremaining: 6.45s\n",
      "4:\tlearn: 0.2191321\ttotal: 67ms\tremaining: 6.63s\n",
      "5:\tlearn: 0.1741216\ttotal: 79ms\tremaining: 6.51s\n",
      "6:\tlearn: 0.1455608\ttotal: 87.9ms\tremaining: 6.19s\n",
      "7:\tlearn: 0.1281659\ttotal: 97.5ms\tremaining: 5.99s\n",
      "8:\tlearn: 0.1134873\ttotal: 107ms\tremaining: 5.85s\n",
      "9:\tlearn: 0.1031989\ttotal: 117ms\tremaining: 5.73s\n",
      "10:\tlearn: 0.0960381\ttotal: 127ms\tremaining: 5.65s\n",
      "11:\tlearn: 0.0901125\ttotal: 136ms\tremaining: 5.54s\n",
      "12:\tlearn: 0.0847310\ttotal: 146ms\tremaining: 5.46s\n",
      "13:\tlearn: 0.0825002\ttotal: 155ms\tremaining: 5.37s\n",
      "14:\tlearn: 0.0795155\ttotal: 164ms\tremaining: 5.31s\n",
      "15:\tlearn: 0.0771911\ttotal: 174ms\tremaining: 5.27s\n",
      "16:\tlearn: 0.0755020\ttotal: 185ms\tremaining: 5.24s\n",
      "17:\tlearn: 0.0741064\ttotal: 195ms\tremaining: 5.21s\n",
      "18:\tlearn: 0.0724112\ttotal: 204ms\tremaining: 5.17s\n",
      "19:\tlearn: 0.0703015\ttotal: 215ms\tremaining: 5.15s\n",
      "20:\tlearn: 0.0686362\ttotal: 225ms\tremaining: 5.13s\n",
      "21:\tlearn: 0.0679007\ttotal: 236ms\tremaining: 5.12s\n",
      "22:\tlearn: 0.0672593\ttotal: 246ms\tremaining: 5.1s\n",
      "23:\tlearn: 0.0661872\ttotal: 259ms\tremaining: 5.14s\n",
      "24:\tlearn: 0.0656332\ttotal: 271ms\tremaining: 5.15s\n",
      "25:\tlearn: 0.0643111\ttotal: 281ms\tremaining: 5.12s\n",
      "26:\tlearn: 0.0637587\ttotal: 290ms\tremaining: 5.08s\n",
      "27:\tlearn: 0.0634537\ttotal: 299ms\tremaining: 5.05s\n",
      "28:\tlearn: 0.0631609\ttotal: 309ms\tremaining: 5.02s\n",
      "29:\tlearn: 0.0625119\ttotal: 318ms\tremaining: 4.98s\n",
      "30:\tlearn: 0.0618674\ttotal: 328ms\tremaining: 4.96s\n",
      "31:\tlearn: 0.0612269\ttotal: 340ms\tremaining: 4.96s\n",
      "32:\tlearn: 0.0604058\ttotal: 350ms\tremaining: 4.95s\n",
      "33:\tlearn: 0.0597794\ttotal: 360ms\tremaining: 4.94s\n",
      "34:\tlearn: 0.0591689\ttotal: 370ms\tremaining: 4.92s\n",
      "35:\tlearn: 0.0588648\ttotal: 380ms\tremaining: 4.9s\n",
      "36:\tlearn: 0.0585821\ttotal: 389ms\tremaining: 4.87s\n",
      "37:\tlearn: 0.0581448\ttotal: 399ms\tremaining: 4.85s\n",
      "38:\tlearn: 0.0575792\ttotal: 408ms\tremaining: 4.83s\n",
      "39:\tlearn: 0.0573553\ttotal: 421ms\tremaining: 4.84s\n",
      "40:\tlearn: 0.0570393\ttotal: 432ms\tremaining: 4.83s\n",
      "41:\tlearn: 0.0568774\ttotal: 444ms\tremaining: 4.84s\n",
      "42:\tlearn: 0.0566985\ttotal: 455ms\tremaining: 4.84s\n",
      "43:\tlearn: 0.0565419\ttotal: 466ms\tremaining: 4.83s\n",
      "44:\tlearn: 0.0558144\ttotal: 476ms\tremaining: 4.81s\n",
      "45:\tlearn: 0.0555161\ttotal: 485ms\tremaining: 4.79s\n",
      "46:\tlearn: 0.0552312\ttotal: 499ms\tremaining: 4.81s\n",
      "47:\tlearn: 0.0548011\ttotal: 509ms\tremaining: 4.79s\n",
      "48:\tlearn: 0.0543544\ttotal: 519ms\tremaining: 4.78s\n",
      "49:\tlearn: 0.0541205\ttotal: 529ms\tremaining: 4.76s\n",
      "50:\tlearn: 0.0541191\ttotal: 536ms\tremaining: 4.72s\n",
      "51:\tlearn: 0.0537209\ttotal: 556ms\tremaining: 4.79s\n",
      "52:\tlearn: 0.0532898\ttotal: 566ms\tremaining: 4.78s\n",
      "53:\tlearn: 0.0528808\ttotal: 577ms\tremaining: 4.77s\n",
      "54:\tlearn: 0.0524945\ttotal: 587ms\tremaining: 4.75s\n",
      "55:\tlearn: 0.0523550\ttotal: 597ms\tremaining: 4.73s\n",
      "56:\tlearn: 0.0523532\ttotal: 602ms\tremaining: 4.68s\n",
      "57:\tlearn: 0.0522378\ttotal: 611ms\tremaining: 4.66s\n",
      "58:\tlearn: 0.0521379\ttotal: 621ms\tremaining: 4.64s\n",
      "59:\tlearn: 0.0517836\ttotal: 631ms\tremaining: 4.63s\n",
      "60:\tlearn: 0.0514351\ttotal: 641ms\tremaining: 4.61s\n",
      "61:\tlearn: 0.0512882\ttotal: 652ms\tremaining: 4.6s\n",
      "62:\tlearn: 0.0509576\ttotal: 663ms\tremaining: 4.6s\n",
      "63:\tlearn: 0.0508518\ttotal: 680ms\tremaining: 4.63s\n",
      "64:\tlearn: 0.0506784\ttotal: 691ms\tremaining: 4.62s\n",
      "65:\tlearn: 0.0503439\ttotal: 700ms\tremaining: 4.6s\n",
      "66:\tlearn: 0.0501638\ttotal: 711ms\tremaining: 4.6s\n",
      "67:\tlearn: 0.0500593\ttotal: 721ms\tremaining: 4.58s\n",
      "68:\tlearn: 0.0497659\ttotal: 731ms\tremaining: 4.57s\n",
      "69:\tlearn: 0.0495502\ttotal: 742ms\tremaining: 4.56s\n",
      "70:\tlearn: 0.0494351\ttotal: 753ms\tremaining: 4.55s\n",
      "71:\tlearn: 0.0493941\ttotal: 762ms\tremaining: 4.53s\n",
      "72:\tlearn: 0.0492514\ttotal: 774ms\tremaining: 4.53s\n",
      "73:\tlearn: 0.0491722\ttotal: 783ms\tremaining: 4.51s\n",
      "74:\tlearn: 0.0489370\ttotal: 793ms\tremaining: 4.5s\n",
      "75:\tlearn: 0.0487854\ttotal: 803ms\tremaining: 4.48s\n",
      "76:\tlearn: 0.0486095\ttotal: 814ms\tremaining: 4.47s\n",
      "77:\tlearn: 0.0483679\ttotal: 823ms\tremaining: 4.45s\n",
      "78:\tlearn: 0.0481898\ttotal: 832ms\tremaining: 4.43s\n",
      "79:\tlearn: 0.0481143\ttotal: 842ms\tremaining: 4.42s\n",
      "80:\tlearn: 0.0479606\ttotal: 854ms\tremaining: 4.42s\n",
      "81:\tlearn: 0.0478834\ttotal: 866ms\tremaining: 4.41s\n",
      "82:\tlearn: 0.0476187\ttotal: 876ms\tremaining: 4.4s\n",
      "83:\tlearn: 0.0474789\ttotal: 886ms\tremaining: 4.39s\n",
      "84:\tlearn: 0.0474332\ttotal: 894ms\tremaining: 4.37s\n",
      "85:\tlearn: 0.0472337\ttotal: 913ms\tremaining: 4.39s\n",
      "86:\tlearn: 0.0468356\ttotal: 925ms\tremaining: 4.39s\n",
      "87:\tlearn: 0.0467267\ttotal: 936ms\tremaining: 4.38s\n",
      "88:\tlearn: 0.0464047\ttotal: 947ms\tremaining: 4.37s\n",
      "89:\tlearn: 0.0461575\ttotal: 959ms\tremaining: 4.37s\n",
      "90:\tlearn: 0.0459878\ttotal: 971ms\tremaining: 4.36s\n",
      "91:\tlearn: 0.0458411\ttotal: 982ms\tremaining: 4.35s\n",
      "92:\tlearn: 0.0456794\ttotal: 991ms\tremaining: 4.33s\n",
      "93:\tlearn: 0.0454936\ttotal: 1000ms\tremaining: 4.32s\n",
      "94:\tlearn: 0.0453802\ttotal: 1.01s\tremaining: 4.31s\n",
      "95:\tlearn: 0.0450471\ttotal: 1.02s\tremaining: 4.29s\n",
      "96:\tlearn: 0.0447724\ttotal: 1.03s\tremaining: 4.28s\n",
      "97:\tlearn: 0.0443952\ttotal: 1.04s\tremaining: 4.27s\n",
      "98:\tlearn: 0.0440826\ttotal: 1.05s\tremaining: 4.25s\n",
      "99:\tlearn: 0.0439721\ttotal: 1.06s\tremaining: 4.25s\n",
      "100:\tlearn: 0.0438106\ttotal: 1.07s\tremaining: 4.24s\n",
      "101:\tlearn: 0.0436042\ttotal: 1.08s\tremaining: 4.23s\n",
      "102:\tlearn: 0.0430136\ttotal: 1.09s\tremaining: 4.21s\n",
      "103:\tlearn: 0.0426203\ttotal: 1.1s\tremaining: 4.2s\n",
      "104:\tlearn: 0.0425879\ttotal: 1.11s\tremaining: 4.19s\n",
      "105:\tlearn: 0.0423672\ttotal: 1.12s\tremaining: 4.17s\n",
      "106:\tlearn: 0.0418272\ttotal: 1.13s\tremaining: 4.16s\n",
      "107:\tlearn: 0.0417068\ttotal: 1.14s\tremaining: 4.14s\n",
      "108:\tlearn: 0.0415994\ttotal: 1.15s\tremaining: 4.13s\n",
      "109:\tlearn: 0.0415731\ttotal: 1.16s\tremaining: 4.11s\n",
      "110:\tlearn: 0.0413929\ttotal: 1.17s\tremaining: 4.1s\n",
      "111:\tlearn: 0.0412060\ttotal: 1.18s\tremaining: 4.09s\n",
      "112:\tlearn: 0.0409036\ttotal: 1.19s\tremaining: 4.08s\n",
      "113:\tlearn: 0.0407493\ttotal: 1.2s\tremaining: 4.07s\n",
      "114:\tlearn: 0.0406414\ttotal: 1.21s\tremaining: 4.07s\n",
      "115:\tlearn: 0.0404299\ttotal: 1.22s\tremaining: 4.05s\n",
      "116:\tlearn: 0.0403547\ttotal: 1.23s\tremaining: 4.04s\n",
      "117:\tlearn: 0.0400211\ttotal: 1.24s\tremaining: 4.02s\n",
      "118:\tlearn: 0.0399182\ttotal: 1.25s\tremaining: 4.01s\n",
      "119:\tlearn: 0.0398913\ttotal: 1.26s\tremaining: 4s\n",
      "120:\tlearn: 0.0397413\ttotal: 1.27s\tremaining: 3.99s\n",
      "121:\tlearn: 0.0397156\ttotal: 1.28s\tremaining: 3.98s\n",
      "122:\tlearn: 0.0396360\ttotal: 1.3s\tremaining: 3.97s\n",
      "123:\tlearn: 0.0395198\ttotal: 1.31s\tremaining: 3.96s\n",
      "124:\tlearn: 0.0392264\ttotal: 1.32s\tremaining: 3.95s\n",
      "125:\tlearn: 0.0390880\ttotal: 1.33s\tremaining: 3.94s\n",
      "126:\tlearn: 0.0389949\ttotal: 1.33s\tremaining: 3.92s\n",
      "127:\tlearn: 0.0386522\ttotal: 1.35s\tremaining: 3.91s\n",
      "128:\tlearn: 0.0385845\ttotal: 1.36s\tremaining: 3.9s\n",
      "129:\tlearn: 0.0383405\ttotal: 1.37s\tremaining: 3.89s\n",
      "130:\tlearn: 0.0382156\ttotal: 1.38s\tremaining: 3.88s\n",
      "131:\tlearn: 0.0381396\ttotal: 1.39s\tremaining: 3.87s\n",
      "132:\tlearn: 0.0377287\ttotal: 1.4s\tremaining: 3.86s\n",
      "133:\tlearn: 0.0373611\ttotal: 1.41s\tremaining: 3.85s\n",
      "134:\tlearn: 0.0369517\ttotal: 1.42s\tremaining: 3.83s\n",
      "135:\tlearn: 0.0367096\ttotal: 1.43s\tremaining: 3.83s\n",
      "136:\tlearn: 0.0366530\ttotal: 1.44s\tremaining: 3.81s\n",
      "137:\tlearn: 0.0363930\ttotal: 1.45s\tremaining: 3.8s\n",
      "138:\tlearn: 0.0362204\ttotal: 1.46s\tremaining: 3.79s\n",
      "139:\tlearn: 0.0360508\ttotal: 1.47s\tremaining: 3.78s\n",
      "140:\tlearn: 0.0357895\ttotal: 1.48s\tremaining: 3.77s\n",
      "141:\tlearn: 0.0355612\ttotal: 1.49s\tremaining: 3.76s\n",
      "142:\tlearn: 0.0353187\ttotal: 1.5s\tremaining: 3.75s\n",
      "143:\tlearn: 0.0351489\ttotal: 1.51s\tremaining: 3.74s\n",
      "144:\tlearn: 0.0349760\ttotal: 1.52s\tremaining: 3.73s\n",
      "145:\tlearn: 0.0345931\ttotal: 1.53s\tremaining: 3.71s\n",
      "146:\tlearn: 0.0344913\ttotal: 1.54s\tremaining: 3.7s\n",
      "147:\tlearn: 0.0342313\ttotal: 1.55s\tremaining: 3.69s\n",
      "148:\tlearn: 0.0340305\ttotal: 1.56s\tremaining: 3.67s\n",
      "149:\tlearn: 0.0339426\ttotal: 1.57s\tremaining: 3.66s\n",
      "150:\tlearn: 0.0337682\ttotal: 1.58s\tremaining: 3.65s\n",
      "151:\tlearn: 0.0335449\ttotal: 1.59s\tremaining: 3.64s\n",
      "152:\tlearn: 0.0334365\ttotal: 1.6s\tremaining: 3.63s\n",
      "153:\tlearn: 0.0332625\ttotal: 1.61s\tremaining: 3.61s\n",
      "154:\tlearn: 0.0330860\ttotal: 1.62s\tremaining: 3.61s\n",
      "155:\tlearn: 0.0329672\ttotal: 1.63s\tremaining: 3.59s\n",
      "156:\tlearn: 0.0328561\ttotal: 1.64s\tremaining: 3.58s\n",
      "157:\tlearn: 0.0327608\ttotal: 1.65s\tremaining: 3.57s\n",
      "158:\tlearn: 0.0326298\ttotal: 1.66s\tremaining: 3.55s\n",
      "159:\tlearn: 0.0324670\ttotal: 1.67s\tremaining: 3.54s\n",
      "160:\tlearn: 0.0324400\ttotal: 1.68s\tremaining: 3.53s\n",
      "161:\tlearn: 0.0323482\ttotal: 1.69s\tremaining: 3.52s\n",
      "162:\tlearn: 0.0322215\ttotal: 1.7s\tremaining: 3.51s\n",
      "163:\tlearn: 0.0322170\ttotal: 1.71s\tremaining: 3.5s\n",
      "164:\tlearn: 0.0320359\ttotal: 1.72s\tremaining: 3.49s\n",
      "165:\tlearn: 0.0319229\ttotal: 1.73s\tremaining: 3.48s\n",
      "166:\tlearn: 0.0317402\ttotal: 1.74s\tremaining: 3.46s\n",
      "167:\tlearn: 0.0314643\ttotal: 1.75s\tremaining: 3.45s\n",
      "168:\tlearn: 0.0313884\ttotal: 1.76s\tremaining: 3.45s\n",
      "169:\tlearn: 0.0312719\ttotal: 1.77s\tremaining: 3.44s\n",
      "170:\tlearn: 0.0312395\ttotal: 1.78s\tremaining: 3.42s\n",
      "171:\tlearn: 0.0312121\ttotal: 1.79s\tremaining: 3.41s\n",
      "172:\tlearn: 0.0311261\ttotal: 1.8s\tremaining: 3.4s\n",
      "173:\tlearn: 0.0308532\ttotal: 1.81s\tremaining: 3.39s\n",
      "174:\tlearn: 0.0307354\ttotal: 1.82s\tremaining: 3.37s\n",
      "175:\tlearn: 0.0306641\ttotal: 1.83s\tremaining: 3.36s\n",
      "176:\tlearn: 0.0305911\ttotal: 1.84s\tremaining: 3.35s\n",
      "177:\tlearn: 0.0303315\ttotal: 1.84s\tremaining: 3.34s\n",
      "178:\tlearn: 0.0303145\ttotal: 1.85s\tremaining: 3.32s\n",
      "179:\tlearn: 0.0301850\ttotal: 1.86s\tremaining: 3.31s\n",
      "180:\tlearn: 0.0300891\ttotal: 1.87s\tremaining: 3.3s\n",
      "181:\tlearn: 0.0300642\ttotal: 1.88s\tremaining: 3.29s\n",
      "182:\tlearn: 0.0298651\ttotal: 1.89s\tremaining: 3.28s\n",
      "183:\tlearn: 0.0298121\ttotal: 1.9s\tremaining: 3.27s\n",
      "184:\tlearn: 0.0297503\ttotal: 1.91s\tremaining: 3.26s\n",
      "185:\tlearn: 0.0296819\ttotal: 1.92s\tremaining: 3.25s\n",
      "186:\tlearn: 0.0295213\ttotal: 1.93s\tremaining: 3.24s\n",
      "187:\tlearn: 0.0295104\ttotal: 1.94s\tremaining: 3.23s\n",
      "188:\tlearn: 0.0293135\ttotal: 1.95s\tremaining: 3.21s\n",
      "189:\tlearn: 0.0292395\ttotal: 1.96s\tremaining: 3.2s\n",
      "190:\tlearn: 0.0290886\ttotal: 1.97s\tremaining: 3.19s\n",
      "191:\tlearn: 0.0289760\ttotal: 1.98s\tremaining: 3.18s\n",
      "192:\tlearn: 0.0288660\ttotal: 1.99s\tremaining: 3.17s\n",
      "193:\tlearn: 0.0287448\ttotal: 2s\tremaining: 3.15s\n",
      "194:\tlearn: 0.0285419\ttotal: 2.01s\tremaining: 3.15s\n",
      "195:\tlearn: 0.0284351\ttotal: 2.02s\tremaining: 3.13s\n",
      "196:\tlearn: 0.0283210\ttotal: 2.03s\tremaining: 3.12s\n",
      "197:\tlearn: 0.0282707\ttotal: 2.04s\tremaining: 3.11s\n",
      "198:\tlearn: 0.0282416\ttotal: 2.05s\tremaining: 3.1s\n",
      "199:\tlearn: 0.0281282\ttotal: 2.06s\tremaining: 3.09s\n",
      "200:\tlearn: 0.0280341\ttotal: 2.07s\tremaining: 3.08s\n",
      "201:\tlearn: 0.0278727\ttotal: 2.08s\tremaining: 3.07s\n",
      "202:\tlearn: 0.0277100\ttotal: 2.09s\tremaining: 3.06s\n",
      "203:\tlearn: 0.0276100\ttotal: 2.1s\tremaining: 3.05s\n",
      "204:\tlearn: 0.0275083\ttotal: 2.11s\tremaining: 3.04s\n",
      "205:\tlearn: 0.0274790\ttotal: 2.12s\tremaining: 3.03s\n",
      "206:\tlearn: 0.0274151\ttotal: 2.13s\tremaining: 3.02s\n",
      "207:\tlearn: 0.0272720\ttotal: 2.14s\tremaining: 3.01s\n",
      "208:\tlearn: 0.0272602\ttotal: 2.15s\tremaining: 2.99s\n",
      "209:\tlearn: 0.0271048\ttotal: 2.16s\tremaining: 2.98s\n",
      "210:\tlearn: 0.0270699\ttotal: 2.17s\tremaining: 2.97s\n",
      "211:\tlearn: 0.0269860\ttotal: 2.18s\tremaining: 2.96s\n",
      "212:\tlearn: 0.0268098\ttotal: 2.19s\tremaining: 2.95s\n",
      "213:\tlearn: 0.0267984\ttotal: 2.2s\tremaining: 2.94s\n",
      "214:\tlearn: 0.0266309\ttotal: 2.21s\tremaining: 2.93s\n",
      "215:\tlearn: 0.0265658\ttotal: 2.22s\tremaining: 2.92s\n",
      "216:\tlearn: 0.0264576\ttotal: 2.23s\tremaining: 2.91s\n",
      "217:\tlearn: 0.0263864\ttotal: 2.24s\tremaining: 2.9s\n",
      "218:\tlearn: 0.0262244\ttotal: 2.25s\tremaining: 2.89s\n",
      "219:\tlearn: 0.0261151\ttotal: 2.26s\tremaining: 2.88s\n",
      "220:\tlearn: 0.0261006\ttotal: 2.27s\tremaining: 2.86s\n",
      "221:\tlearn: 0.0260161\ttotal: 2.28s\tremaining: 2.85s\n",
      "222:\tlearn: 0.0259501\ttotal: 2.29s\tremaining: 2.84s\n",
      "223:\tlearn: 0.0259344\ttotal: 2.3s\tremaining: 2.83s\n",
      "224:\tlearn: 0.0258786\ttotal: 2.31s\tremaining: 2.82s\n",
      "225:\tlearn: 0.0256789\ttotal: 2.32s\tremaining: 2.81s\n",
      "226:\tlearn: 0.0254424\ttotal: 2.33s\tremaining: 2.8s\n",
      "227:\tlearn: 0.0254408\ttotal: 2.34s\tremaining: 2.79s\n",
      "228:\tlearn: 0.0253254\ttotal: 2.35s\tremaining: 2.78s\n",
      "229:\tlearn: 0.0252285\ttotal: 2.36s\tremaining: 2.77s\n",
      "230:\tlearn: 0.0251148\ttotal: 2.37s\tremaining: 2.76s\n",
      "231:\tlearn: 0.0249477\ttotal: 2.38s\tremaining: 2.75s\n",
      "232:\tlearn: 0.0248958\ttotal: 2.39s\tremaining: 2.74s\n",
      "233:\tlearn: 0.0247933\ttotal: 2.4s\tremaining: 2.72s\n",
      "234:\tlearn: 0.0247160\ttotal: 2.4s\tremaining: 2.71s\n",
      "235:\tlearn: 0.0245767\ttotal: 2.42s\tremaining: 2.7s\n",
      "236:\tlearn: 0.0244907\ttotal: 2.42s\tremaining: 2.69s\n",
      "237:\tlearn: 0.0244760\ttotal: 2.43s\tremaining: 2.68s\n",
      "238:\tlearn: 0.0243415\ttotal: 2.44s\tremaining: 2.67s\n",
      "239:\tlearn: 0.0242901\ttotal: 2.45s\tremaining: 2.66s\n",
      "240:\tlearn: 0.0242548\ttotal: 2.46s\tremaining: 2.65s\n",
      "241:\tlearn: 0.0241633\ttotal: 2.47s\tremaining: 2.64s\n",
      "242:\tlearn: 0.0241570\ttotal: 2.48s\tremaining: 2.63s\n",
      "243:\tlearn: 0.0241139\ttotal: 2.49s\tremaining: 2.62s\n",
      "244:\tlearn: 0.0240842\ttotal: 2.5s\tremaining: 2.61s\n",
      "245:\tlearn: 0.0240296\ttotal: 2.52s\tremaining: 2.6s\n",
      "246:\tlearn: 0.0238644\ttotal: 2.52s\tremaining: 2.58s\n",
      "247:\tlearn: 0.0237463\ttotal: 2.53s\tremaining: 2.58s\n",
      "248:\tlearn: 0.0237096\ttotal: 2.54s\tremaining: 2.56s\n",
      "249:\tlearn: 0.0236014\ttotal: 2.55s\tremaining: 2.55s\n",
      "250:\tlearn: 0.0236002\ttotal: 2.56s\tremaining: 2.54s\n",
      "251:\tlearn: 0.0234650\ttotal: 2.57s\tremaining: 2.53s\n",
      "252:\tlearn: 0.0233279\ttotal: 2.58s\tremaining: 2.52s\n",
      "253:\tlearn: 0.0231748\ttotal: 2.59s\tremaining: 2.51s\n",
      "254:\tlearn: 0.0229662\ttotal: 2.6s\tremaining: 2.5s\n",
      "255:\tlearn: 0.0228472\ttotal: 2.61s\tremaining: 2.49s\n",
      "256:\tlearn: 0.0227736\ttotal: 2.63s\tremaining: 2.48s\n",
      "257:\tlearn: 0.0226275\ttotal: 2.64s\tremaining: 2.47s\n",
      "258:\tlearn: 0.0225809\ttotal: 2.65s\tremaining: 2.46s\n",
      "259:\tlearn: 0.0224917\ttotal: 2.65s\tremaining: 2.45s\n",
      "260:\tlearn: 0.0224269\ttotal: 2.66s\tremaining: 2.44s\n",
      "261:\tlearn: 0.0223278\ttotal: 2.67s\tremaining: 2.43s\n",
      "262:\tlearn: 0.0219956\ttotal: 2.68s\tremaining: 2.42s\n",
      "263:\tlearn: 0.0219462\ttotal: 2.69s\tremaining: 2.41s\n",
      "264:\tlearn: 0.0218035\ttotal: 2.7s\tremaining: 2.4s\n",
      "265:\tlearn: 0.0216733\ttotal: 2.71s\tremaining: 2.39s\n",
      "266:\tlearn: 0.0216104\ttotal: 2.72s\tremaining: 2.38s\n",
      "267:\tlearn: 0.0214723\ttotal: 2.73s\tremaining: 2.36s\n",
      "268:\tlearn: 0.0214164\ttotal: 2.74s\tremaining: 2.35s\n",
      "269:\tlearn: 0.0213900\ttotal: 2.75s\tremaining: 2.34s\n",
      "270:\tlearn: 0.0213153\ttotal: 2.76s\tremaining: 2.33s\n",
      "271:\tlearn: 0.0211307\ttotal: 2.77s\tremaining: 2.32s\n",
      "272:\tlearn: 0.0209952\ttotal: 2.78s\tremaining: 2.31s\n",
      "273:\tlearn: 0.0208664\ttotal: 2.79s\tremaining: 2.3s\n",
      "274:\tlearn: 0.0207933\ttotal: 2.8s\tremaining: 2.29s\n",
      "275:\tlearn: 0.0206500\ttotal: 2.81s\tremaining: 2.28s\n",
      "276:\tlearn: 0.0204841\ttotal: 2.82s\tremaining: 2.27s\n",
      "277:\tlearn: 0.0203577\ttotal: 2.83s\tremaining: 2.26s\n",
      "278:\tlearn: 0.0202821\ttotal: 2.84s\tremaining: 2.25s\n",
      "279:\tlearn: 0.0202173\ttotal: 2.85s\tremaining: 2.24s\n",
      "280:\tlearn: 0.0201763\ttotal: 2.86s\tremaining: 2.23s\n",
      "281:\tlearn: 0.0201039\ttotal: 2.87s\tremaining: 2.22s\n",
      "282:\tlearn: 0.0200396\ttotal: 2.88s\tremaining: 2.21s\n",
      "283:\tlearn: 0.0200096\ttotal: 2.89s\tremaining: 2.2s\n",
      "284:\tlearn: 0.0199452\ttotal: 2.9s\tremaining: 2.19s\n",
      "285:\tlearn: 0.0198320\ttotal: 2.91s\tremaining: 2.18s\n",
      "286:\tlearn: 0.0197101\ttotal: 2.92s\tremaining: 2.17s\n",
      "287:\tlearn: 0.0195488\ttotal: 2.93s\tremaining: 2.16s\n",
      "288:\tlearn: 0.0194042\ttotal: 2.94s\tremaining: 2.15s\n",
      "289:\tlearn: 0.0193399\ttotal: 2.95s\tremaining: 2.14s\n",
      "290:\tlearn: 0.0193047\ttotal: 2.96s\tremaining: 2.13s\n",
      "291:\tlearn: 0.0192428\ttotal: 2.98s\tremaining: 2.12s\n",
      "292:\tlearn: 0.0192287\ttotal: 2.98s\tremaining: 2.11s\n",
      "293:\tlearn: 0.0191012\ttotal: 2.99s\tremaining: 2.1s\n",
      "294:\tlearn: 0.0190131\ttotal: 3s\tremaining: 2.09s\n",
      "295:\tlearn: 0.0189814\ttotal: 3.01s\tremaining: 2.08s\n",
      "296:\tlearn: 0.0189760\ttotal: 3.02s\tremaining: 2.06s\n",
      "297:\tlearn: 0.0188902\ttotal: 3.03s\tremaining: 2.06s\n",
      "298:\tlearn: 0.0187562\ttotal: 3.04s\tremaining: 2.04s\n",
      "299:\tlearn: 0.0187308\ttotal: 3.05s\tremaining: 2.04s\n",
      "300:\tlearn: 0.0186055\ttotal: 3.06s\tremaining: 2.02s\n",
      "301:\tlearn: 0.0186045\ttotal: 3.07s\tremaining: 2.01s\n",
      "302:\tlearn: 0.0185960\ttotal: 3.08s\tremaining: 2s\n",
      "303:\tlearn: 0.0185946\ttotal: 3.09s\tremaining: 1.99s\n",
      "304:\tlearn: 0.0185065\ttotal: 3.1s\tremaining: 1.98s\n",
      "305:\tlearn: 0.0185055\ttotal: 3.11s\tremaining: 1.97s\n",
      "306:\tlearn: 0.0185046\ttotal: 3.12s\tremaining: 1.96s\n",
      "307:\tlearn: 0.0185037\ttotal: 3.13s\tremaining: 1.95s\n",
      "308:\tlearn: 0.0184489\ttotal: 3.14s\tremaining: 1.94s\n",
      "309:\tlearn: 0.0183153\ttotal: 3.15s\tremaining: 1.93s\n",
      "310:\tlearn: 0.0181307\ttotal: 3.16s\tremaining: 1.92s\n",
      "311:\tlearn: 0.0180574\ttotal: 3.17s\tremaining: 1.91s\n",
      "312:\tlearn: 0.0180488\ttotal: 3.18s\tremaining: 1.9s\n",
      "313:\tlearn: 0.0179409\ttotal: 3.19s\tremaining: 1.89s\n",
      "314:\tlearn: 0.0178397\ttotal: 3.2s\tremaining: 1.88s\n",
      "315:\tlearn: 0.0177772\ttotal: 3.21s\tremaining: 1.87s\n",
      "316:\tlearn: 0.0177090\ttotal: 3.22s\tremaining: 1.86s\n",
      "317:\tlearn: 0.0176751\ttotal: 3.24s\tremaining: 1.85s\n",
      "318:\tlearn: 0.0175871\ttotal: 3.25s\tremaining: 1.84s\n",
      "319:\tlearn: 0.0175079\ttotal: 3.26s\tremaining: 1.83s\n",
      "320:\tlearn: 0.0174851\ttotal: 3.27s\tremaining: 1.82s\n",
      "321:\tlearn: 0.0174183\ttotal: 3.27s\tremaining: 1.81s\n",
      "322:\tlearn: 0.0173634\ttotal: 3.28s\tremaining: 1.8s\n",
      "323:\tlearn: 0.0172810\ttotal: 3.29s\tremaining: 1.79s\n",
      "324:\tlearn: 0.0172343\ttotal: 3.31s\tremaining: 1.78s\n",
      "325:\tlearn: 0.0171934\ttotal: 3.31s\tremaining: 1.77s\n",
      "326:\tlearn: 0.0171399\ttotal: 3.33s\tremaining: 1.76s\n",
      "327:\tlearn: 0.0170758\ttotal: 3.34s\tremaining: 1.75s\n",
      "328:\tlearn: 0.0170258\ttotal: 3.35s\tremaining: 1.74s\n",
      "329:\tlearn: 0.0169860\ttotal: 3.36s\tremaining: 1.73s\n",
      "330:\tlearn: 0.0169430\ttotal: 3.37s\tremaining: 1.72s\n",
      "331:\tlearn: 0.0168031\ttotal: 3.38s\tremaining: 1.71s\n",
      "332:\tlearn: 0.0167459\ttotal: 3.39s\tremaining: 1.7s\n",
      "333:\tlearn: 0.0166633\ttotal: 3.4s\tremaining: 1.69s\n",
      "334:\tlearn: 0.0166090\ttotal: 3.41s\tremaining: 1.68s\n",
      "335:\tlearn: 0.0165724\ttotal: 3.42s\tremaining: 1.67s\n",
      "336:\tlearn: 0.0164860\ttotal: 3.43s\tremaining: 1.66s\n",
      "337:\tlearn: 0.0164007\ttotal: 3.44s\tremaining: 1.65s\n",
      "338:\tlearn: 0.0163674\ttotal: 3.45s\tremaining: 1.64s\n",
      "339:\tlearn: 0.0162471\ttotal: 3.46s\tremaining: 1.63s\n",
      "340:\tlearn: 0.0162241\ttotal: 3.48s\tremaining: 1.62s\n",
      "341:\tlearn: 0.0161610\ttotal: 3.49s\tremaining: 1.61s\n",
      "342:\tlearn: 0.0160918\ttotal: 3.5s\tremaining: 1.6s\n",
      "343:\tlearn: 0.0160106\ttotal: 3.51s\tremaining: 1.59s\n",
      "344:\tlearn: 0.0159713\ttotal: 3.53s\tremaining: 1.59s\n",
      "345:\tlearn: 0.0159370\ttotal: 3.54s\tremaining: 1.58s\n",
      "346:\tlearn: 0.0158167\ttotal: 3.55s\tremaining: 1.57s\n",
      "347:\tlearn: 0.0157591\ttotal: 3.56s\tremaining: 1.56s\n",
      "348:\tlearn: 0.0156348\ttotal: 3.58s\tremaining: 1.55s\n",
      "349:\tlearn: 0.0156139\ttotal: 3.59s\tremaining: 1.54s\n",
      "350:\tlearn: 0.0155331\ttotal: 3.6s\tremaining: 1.53s\n",
      "351:\tlearn: 0.0154347\ttotal: 3.62s\tremaining: 1.52s\n",
      "352:\tlearn: 0.0153762\ttotal: 3.63s\tremaining: 1.51s\n",
      "353:\tlearn: 0.0152971\ttotal: 3.64s\tremaining: 1.5s\n",
      "354:\tlearn: 0.0152358\ttotal: 3.65s\tremaining: 1.49s\n",
      "355:\tlearn: 0.0152065\ttotal: 3.66s\tremaining: 1.48s\n",
      "356:\tlearn: 0.0151692\ttotal: 3.67s\tremaining: 1.47s\n",
      "357:\tlearn: 0.0151259\ttotal: 3.69s\tremaining: 1.46s\n",
      "358:\tlearn: 0.0150337\ttotal: 3.7s\tremaining: 1.45s\n",
      "359:\tlearn: 0.0149922\ttotal: 3.71s\tremaining: 1.44s\n",
      "360:\tlearn: 0.0149421\ttotal: 3.73s\tremaining: 1.43s\n",
      "361:\tlearn: 0.0149397\ttotal: 3.74s\tremaining: 1.42s\n",
      "362:\tlearn: 0.0148404\ttotal: 3.75s\tremaining: 1.41s\n",
      "363:\tlearn: 0.0147584\ttotal: 3.76s\tremaining: 1.4s\n",
      "364:\tlearn: 0.0146556\ttotal: 3.77s\tremaining: 1.39s\n",
      "365:\tlearn: 0.0145255\ttotal: 3.78s\tremaining: 1.38s\n",
      "366:\tlearn: 0.0144624\ttotal: 3.79s\tremaining: 1.37s\n",
      "367:\tlearn: 0.0144298\ttotal: 3.81s\tremaining: 1.36s\n",
      "368:\tlearn: 0.0143752\ttotal: 3.82s\tremaining: 1.35s\n",
      "369:\tlearn: 0.0143435\ttotal: 3.83s\tremaining: 1.34s\n",
      "370:\tlearn: 0.0142635\ttotal: 3.84s\tremaining: 1.33s\n",
      "371:\tlearn: 0.0142284\ttotal: 3.85s\tremaining: 1.32s\n",
      "372:\tlearn: 0.0141088\ttotal: 3.86s\tremaining: 1.31s\n",
      "373:\tlearn: 0.0140259\ttotal: 3.88s\tremaining: 1.31s\n",
      "374:\tlearn: 0.0139631\ttotal: 3.89s\tremaining: 1.3s\n",
      "375:\tlearn: 0.0138844\ttotal: 3.9s\tremaining: 1.29s\n",
      "376:\tlearn: 0.0138617\ttotal: 3.91s\tremaining: 1.28s\n",
      "377:\tlearn: 0.0138105\ttotal: 3.93s\tremaining: 1.27s\n",
      "378:\tlearn: 0.0137972\ttotal: 3.94s\tremaining: 1.26s\n",
      "379:\tlearn: 0.0137595\ttotal: 3.95s\tremaining: 1.25s\n",
      "380:\tlearn: 0.0137005\ttotal: 3.96s\tremaining: 1.24s\n",
      "381:\tlearn: 0.0136823\ttotal: 3.97s\tremaining: 1.23s\n",
      "382:\tlearn: 0.0136099\ttotal: 3.98s\tremaining: 1.22s\n",
      "383:\tlearn: 0.0135752\ttotal: 3.99s\tremaining: 1.21s\n",
      "384:\tlearn: 0.0134929\ttotal: 4s\tremaining: 1.2s\n",
      "385:\tlearn: 0.0134600\ttotal: 4.01s\tremaining: 1.18s\n",
      "386:\tlearn: 0.0134590\ttotal: 4.02s\tremaining: 1.17s\n",
      "387:\tlearn: 0.0133559\ttotal: 4.03s\tremaining: 1.16s\n",
      "388:\tlearn: 0.0132817\ttotal: 4.04s\tremaining: 1.15s\n",
      "389:\tlearn: 0.0132741\ttotal: 4.05s\tremaining: 1.14s\n",
      "390:\tlearn: 0.0131989\ttotal: 4.06s\tremaining: 1.13s\n",
      "391:\tlearn: 0.0131863\ttotal: 4.07s\tremaining: 1.12s\n",
      "392:\tlearn: 0.0131845\ttotal: 4.08s\tremaining: 1.11s\n",
      "393:\tlearn: 0.0131627\ttotal: 4.09s\tremaining: 1.1s\n",
      "394:\tlearn: 0.0131260\ttotal: 4.1s\tremaining: 1.09s\n",
      "395:\tlearn: 0.0131191\ttotal: 4.11s\tremaining: 1.08s\n",
      "396:\tlearn: 0.0131185\ttotal: 4.12s\tremaining: 1.07s\n",
      "397:\tlearn: 0.0130951\ttotal: 4.13s\tremaining: 1.06s\n",
      "398:\tlearn: 0.0129958\ttotal: 4.14s\tremaining: 1.05s\n",
      "399:\tlearn: 0.0128827\ttotal: 4.15s\tremaining: 1.04s\n",
      "400:\tlearn: 0.0128435\ttotal: 4.16s\tremaining: 1.03s\n",
      "401:\tlearn: 0.0128092\ttotal: 4.17s\tremaining: 1.02s\n",
      "402:\tlearn: 0.0127709\ttotal: 4.18s\tremaining: 1.01s\n",
      "403:\tlearn: 0.0127188\ttotal: 4.19s\tremaining: 996ms\n",
      "404:\tlearn: 0.0126869\ttotal: 4.21s\tremaining: 987ms\n",
      "405:\tlearn: 0.0126671\ttotal: 4.21s\tremaining: 976ms\n",
      "406:\tlearn: 0.0126453\ttotal: 4.23s\tremaining: 966ms\n",
      "407:\tlearn: 0.0126220\ttotal: 4.24s\tremaining: 955ms\n",
      "408:\tlearn: 0.0125175\ttotal: 4.25s\tremaining: 945ms\n",
      "409:\tlearn: 0.0124568\ttotal: 4.26s\tremaining: 934ms\n",
      "410:\tlearn: 0.0124558\ttotal: 4.26s\tremaining: 924ms\n",
      "411:\tlearn: 0.0123827\ttotal: 4.28s\tremaining: 913ms\n",
      "412:\tlearn: 0.0123689\ttotal: 4.29s\tremaining: 903ms\n",
      "413:\tlearn: 0.0122538\ttotal: 4.29s\tremaining: 892ms\n",
      "414:\tlearn: 0.0122136\ttotal: 4.31s\tremaining: 882ms\n",
      "415:\tlearn: 0.0121476\ttotal: 4.32s\tremaining: 872ms\n",
      "416:\tlearn: 0.0121394\ttotal: 4.33s\tremaining: 861ms\n",
      "417:\tlearn: 0.0121268\ttotal: 4.34s\tremaining: 851ms\n",
      "418:\tlearn: 0.0120191\ttotal: 4.35s\tremaining: 842ms\n",
      "419:\tlearn: 0.0119698\ttotal: 4.37s\tremaining: 832ms\n",
      "420:\tlearn: 0.0119686\ttotal: 4.38s\tremaining: 822ms\n",
      "421:\tlearn: 0.0119681\ttotal: 4.39s\tremaining: 811ms\n",
      "422:\tlearn: 0.0119443\ttotal: 4.4s\tremaining: 801ms\n",
      "423:\tlearn: 0.0119366\ttotal: 4.41s\tremaining: 790ms\n",
      "424:\tlearn: 0.0119085\ttotal: 4.42s\tremaining: 779ms\n",
      "425:\tlearn: 0.0118246\ttotal: 4.43s\tremaining: 769ms\n",
      "426:\tlearn: 0.0118198\ttotal: 4.44s\tremaining: 759ms\n",
      "427:\tlearn: 0.0117626\ttotal: 4.45s\tremaining: 748ms\n",
      "428:\tlearn: 0.0117122\ttotal: 4.46s\tremaining: 738ms\n",
      "429:\tlearn: 0.0116469\ttotal: 4.47s\tremaining: 727ms\n",
      "430:\tlearn: 0.0115753\ttotal: 4.48s\tremaining: 717ms\n",
      "431:\tlearn: 0.0115279\ttotal: 4.49s\tremaining: 706ms\n",
      "432:\tlearn: 0.0115125\ttotal: 4.5s\tremaining: 696ms\n",
      "433:\tlearn: 0.0114693\ttotal: 4.51s\tremaining: 685ms\n",
      "434:\tlearn: 0.0114632\ttotal: 4.52s\tremaining: 675ms\n",
      "435:\tlearn: 0.0114353\ttotal: 4.53s\tremaining: 665ms\n",
      "436:\tlearn: 0.0113959\ttotal: 4.54s\tremaining: 654ms\n",
      "437:\tlearn: 0.0113700\ttotal: 4.55s\tremaining: 644ms\n",
      "438:\tlearn: 0.0113401\ttotal: 4.56s\tremaining: 633ms\n",
      "439:\tlearn: 0.0112762\ttotal: 4.57s\tremaining: 623ms\n",
      "440:\tlearn: 0.0112436\ttotal: 4.58s\tremaining: 612ms\n",
      "441:\tlearn: 0.0111904\ttotal: 4.59s\tremaining: 602ms\n",
      "442:\tlearn: 0.0111582\ttotal: 4.6s\tremaining: 592ms\n",
      "443:\tlearn: 0.0111555\ttotal: 4.61s\tremaining: 581ms\n",
      "444:\tlearn: 0.0111547\ttotal: 4.62s\tremaining: 571ms\n",
      "445:\tlearn: 0.0111025\ttotal: 4.63s\tremaining: 561ms\n",
      "446:\tlearn: 0.0110516\ttotal: 4.64s\tremaining: 550ms\n",
      "447:\tlearn: 0.0110036\ttotal: 4.65s\tremaining: 540ms\n",
      "448:\tlearn: 0.0109798\ttotal: 4.66s\tremaining: 529ms\n",
      "449:\tlearn: 0.0109764\ttotal: 4.67s\tremaining: 519ms\n",
      "450:\tlearn: 0.0109758\ttotal: 4.68s\tremaining: 508ms\n",
      "451:\tlearn: 0.0109702\ttotal: 4.69s\tremaining: 498ms\n",
      "452:\tlearn: 0.0108924\ttotal: 4.7s\tremaining: 488ms\n",
      "453:\tlearn: 0.0108791\ttotal: 4.71s\tremaining: 477ms\n",
      "454:\tlearn: 0.0108334\ttotal: 4.72s\tremaining: 467ms\n",
      "455:\tlearn: 0.0108207\ttotal: 4.73s\tremaining: 457ms\n",
      "456:\tlearn: 0.0107928\ttotal: 4.74s\tremaining: 446ms\n",
      "457:\tlearn: 0.0107548\ttotal: 4.75s\tremaining: 436ms\n",
      "458:\tlearn: 0.0106903\ttotal: 4.76s\tremaining: 426ms\n",
      "459:\tlearn: 0.0106644\ttotal: 4.78s\tremaining: 415ms\n",
      "460:\tlearn: 0.0105357\ttotal: 4.79s\tremaining: 405ms\n",
      "461:\tlearn: 0.0105202\ttotal: 4.8s\tremaining: 394ms\n",
      "462:\tlearn: 0.0104574\ttotal: 4.81s\tremaining: 384ms\n",
      "463:\tlearn: 0.0103748\ttotal: 4.82s\tremaining: 374ms\n",
      "464:\tlearn: 0.0103484\ttotal: 4.83s\tremaining: 363ms\n",
      "465:\tlearn: 0.0103439\ttotal: 4.83s\tremaining: 353ms\n",
      "466:\tlearn: 0.0102771\ttotal: 4.84s\tremaining: 342ms\n",
      "467:\tlearn: 0.0102731\ttotal: 4.86s\tremaining: 332ms\n",
      "468:\tlearn: 0.0102582\ttotal: 4.86s\tremaining: 322ms\n",
      "469:\tlearn: 0.0102213\ttotal: 4.87s\tremaining: 311ms\n",
      "470:\tlearn: 0.0102065\ttotal: 4.88s\tremaining: 301ms\n",
      "471:\tlearn: 0.0101997\ttotal: 4.89s\tremaining: 290ms\n",
      "472:\tlearn: 0.0101298\ttotal: 4.91s\tremaining: 280ms\n",
      "473:\tlearn: 0.0101030\ttotal: 4.92s\tremaining: 270ms\n",
      "474:\tlearn: 0.0100954\ttotal: 4.92s\tremaining: 259ms\n",
      "475:\tlearn: 0.0100912\ttotal: 4.94s\tremaining: 249ms\n",
      "476:\tlearn: 0.0100799\ttotal: 4.95s\tremaining: 239ms\n",
      "477:\tlearn: 0.0100464\ttotal: 4.96s\tremaining: 228ms\n",
      "478:\tlearn: 0.0100451\ttotal: 4.97s\tremaining: 218ms\n",
      "479:\tlearn: 0.0100078\ttotal: 4.98s\tremaining: 207ms\n",
      "480:\tlearn: 0.0099731\ttotal: 4.99s\tremaining: 197ms\n",
      "481:\tlearn: 0.0099506\ttotal: 5s\tremaining: 187ms\n",
      "482:\tlearn: 0.0099108\ttotal: 5.01s\tremaining: 176ms\n",
      "483:\tlearn: 0.0098881\ttotal: 5.02s\tremaining: 166ms\n",
      "484:\tlearn: 0.0098411\ttotal: 5.03s\tremaining: 156ms\n",
      "485:\tlearn: 0.0098062\ttotal: 5.04s\tremaining: 145ms\n",
      "486:\tlearn: 0.0097861\ttotal: 5.05s\tremaining: 135ms\n",
      "487:\tlearn: 0.0097667\ttotal: 5.06s\tremaining: 124ms\n",
      "488:\tlearn: 0.0097640\ttotal: 5.07s\tremaining: 114ms\n",
      "489:\tlearn: 0.0097123\ttotal: 5.08s\tremaining: 104ms\n",
      "490:\tlearn: 0.0096940\ttotal: 5.09s\tremaining: 93.4ms\n",
      "491:\tlearn: 0.0096918\ttotal: 5.1s\tremaining: 83ms\n",
      "492:\tlearn: 0.0096749\ttotal: 5.12s\tremaining: 72.6ms\n",
      "493:\tlearn: 0.0096580\ttotal: 5.13s\tremaining: 62.3ms\n",
      "494:\tlearn: 0.0096522\ttotal: 5.14s\tremaining: 51.9ms\n",
      "495:\tlearn: 0.0096003\ttotal: 5.15s\tremaining: 41.5ms\n",
      "496:\tlearn: 0.0095919\ttotal: 5.16s\tremaining: 31.1ms\n",
      "497:\tlearn: 0.0095788\ttotal: 5.17s\tremaining: 20.8ms\n",
      "498:\tlearn: 0.0095515\ttotal: 5.18s\tremaining: 10.4ms\n",
      "499:\tlearn: 0.0095042\ttotal: 5.19s\tremaining: 0us\n"
     ]
    }
   ],
   "source": [
    "from catboost import CatBoostClassifier\n",
    "\n",
    "# Initializing CatBoost Classifier\n",
    "model = CatBoostClassifier(iterations=500, depth=6, learning_rate=0.1, loss_function='MultiLogloss', random_seed=42, cat_features=cat_features)\n",
    "\n",
    "# Training the model\n",
    "model.fit(train_df, train_y)\n",
    "\n",
    "# # Model evaluation (if needed)\n",
    "# metrics = model.get_evals_result()\n",
    "\n",
    "# Feature importance\n",
    "feature_importance = model.get_feature_importance()"
   ],
   "metadata": {
    "collapsed": false
   }
  },
  {
   "cell_type": "code",
   "execution_count": 148,
   "outputs": [],
   "source": [
    "preds = model.predict(val_df)"
   ],
   "metadata": {
    "collapsed": false
   }
  },
  {
   "cell_type": "code",
   "execution_count": 157,
   "outputs": [
    {
     "data": {
      "text/plain": "     0  1\n0    0  0\n1    0  0\n2    0  0\n3    0  0\n4    0  0\n..  .. ..\n776  0  0\n777  0  0\n778  0  0\n779  0  0\n780  0  0\n\n[781 rows x 2 columns]",
      "text/html": "<div>\n<style scoped>\n    .dataframe tbody tr th:only-of-type {\n        vertical-align: middle;\n    }\n\n    .dataframe tbody tr th {\n        vertical-align: top;\n    }\n\n    .dataframe thead th {\n        text-align: right;\n    }\n</style>\n<table border=\"1\" class=\"dataframe\">\n  <thead>\n    <tr style=\"text-align: right;\">\n      <th></th>\n      <th>0</th>\n      <th>1</th>\n    </tr>\n  </thead>\n  <tbody>\n    <tr>\n      <th>0</th>\n      <td>0</td>\n      <td>0</td>\n    </tr>\n    <tr>\n      <th>1</th>\n      <td>0</td>\n      <td>0</td>\n    </tr>\n    <tr>\n      <th>2</th>\n      <td>0</td>\n      <td>0</td>\n    </tr>\n    <tr>\n      <th>3</th>\n      <td>0</td>\n      <td>0</td>\n    </tr>\n    <tr>\n      <th>4</th>\n      <td>0</td>\n      <td>0</td>\n    </tr>\n    <tr>\n      <th>...</th>\n      <td>...</td>\n      <td>...</td>\n    </tr>\n    <tr>\n      <th>776</th>\n      <td>0</td>\n      <td>0</td>\n    </tr>\n    <tr>\n      <th>777</th>\n      <td>0</td>\n      <td>0</td>\n    </tr>\n    <tr>\n      <th>778</th>\n      <td>0</td>\n      <td>0</td>\n    </tr>\n    <tr>\n      <th>779</th>\n      <td>0</td>\n      <td>0</td>\n    </tr>\n    <tr>\n      <th>780</th>\n      <td>0</td>\n      <td>0</td>\n    </tr>\n  </tbody>\n</table>\n<p>781 rows × 2 columns</p>\n</div>"
     },
     "execution_count": 157,
     "metadata": {},
     "output_type": "execute_result"
    }
   ],
   "source": [
    "preds = pd.DataFrame(preds)\n",
    "preds"
   ],
   "metadata": {
    "collapsed": false
   }
  },
  {
   "cell_type": "code",
   "execution_count": 152,
   "outputs": [
    {
     "data": {
      "text/plain": "      target_month  target_day\n6377             0           0\n6095             0           0\n7634             0           0\n4471             0           0\n4126             0           0\n...            ...         ...\n4604             0           0\n2306             0           0\n2275             0           0\n2648             0           0\n5568             0           0\n\n[781 rows x 2 columns]",
      "text/html": "<div>\n<style scoped>\n    .dataframe tbody tr th:only-of-type {\n        vertical-align: middle;\n    }\n\n    .dataframe tbody tr th {\n        vertical-align: top;\n    }\n\n    .dataframe thead th {\n        text-align: right;\n    }\n</style>\n<table border=\"1\" class=\"dataframe\">\n  <thead>\n    <tr style=\"text-align: right;\">\n      <th></th>\n      <th>target_month</th>\n      <th>target_day</th>\n    </tr>\n  </thead>\n  <tbody>\n    <tr>\n      <th>6377</th>\n      <td>0</td>\n      <td>0</td>\n    </tr>\n    <tr>\n      <th>6095</th>\n      <td>0</td>\n      <td>0</td>\n    </tr>\n    <tr>\n      <th>7634</th>\n      <td>0</td>\n      <td>0</td>\n    </tr>\n    <tr>\n      <th>4471</th>\n      <td>0</td>\n      <td>0</td>\n    </tr>\n    <tr>\n      <th>4126</th>\n      <td>0</td>\n      <td>0</td>\n    </tr>\n    <tr>\n      <th>...</th>\n      <td>...</td>\n      <td>...</td>\n    </tr>\n    <tr>\n      <th>4604</th>\n      <td>0</td>\n      <td>0</td>\n    </tr>\n    <tr>\n      <th>2306</th>\n      <td>0</td>\n      <td>0</td>\n    </tr>\n    <tr>\n      <th>2275</th>\n      <td>0</td>\n      <td>0</td>\n    </tr>\n    <tr>\n      <th>2648</th>\n      <td>0</td>\n      <td>0</td>\n    </tr>\n    <tr>\n      <th>5568</th>\n      <td>0</td>\n      <td>0</td>\n    </tr>\n  </tbody>\n</table>\n<p>781 rows × 2 columns</p>\n</div>"
     },
     "execution_count": 152,
     "metadata": {},
     "output_type": "execute_result"
    }
   ],
   "source": [
    "val_y"
   ],
   "metadata": {
    "collapsed": false
   }
  },
  {
   "cell_type": "code",
   "execution_count": 160,
   "outputs": [
    {
     "data": {
      "text/plain": "     target_month  target_day\n0               0           0\n1               0           0\n2               0           0\n3               0           0\n4               0           0\n..            ...         ...\n776             0           0\n777             0           0\n778             0           0\n779             0           0\n780             0           0\n\n[781 rows x 2 columns]",
      "text/html": "<div>\n<style scoped>\n    .dataframe tbody tr th:only-of-type {\n        vertical-align: middle;\n    }\n\n    .dataframe tbody tr th {\n        vertical-align: top;\n    }\n\n    .dataframe thead th {\n        text-align: right;\n    }\n</style>\n<table border=\"1\" class=\"dataframe\">\n  <thead>\n    <tr style=\"text-align: right;\">\n      <th></th>\n      <th>target_month</th>\n      <th>target_day</th>\n    </tr>\n  </thead>\n  <tbody>\n    <tr>\n      <th>0</th>\n      <td>0</td>\n      <td>0</td>\n    </tr>\n    <tr>\n      <th>1</th>\n      <td>0</td>\n      <td>0</td>\n    </tr>\n    <tr>\n      <th>2</th>\n      <td>0</td>\n      <td>0</td>\n    </tr>\n    <tr>\n      <th>3</th>\n      <td>0</td>\n      <td>0</td>\n    </tr>\n    <tr>\n      <th>4</th>\n      <td>0</td>\n      <td>0</td>\n    </tr>\n    <tr>\n      <th>...</th>\n      <td>...</td>\n      <td>...</td>\n    </tr>\n    <tr>\n      <th>776</th>\n      <td>0</td>\n      <td>0</td>\n    </tr>\n    <tr>\n      <th>777</th>\n      <td>0</td>\n      <td>0</td>\n    </tr>\n    <tr>\n      <th>778</th>\n      <td>0</td>\n      <td>0</td>\n    </tr>\n    <tr>\n      <th>779</th>\n      <td>0</td>\n      <td>0</td>\n    </tr>\n    <tr>\n      <th>780</th>\n      <td>0</td>\n      <td>0</td>\n    </tr>\n  </tbody>\n</table>\n<p>781 rows × 2 columns</p>\n</div>"
     },
     "execution_count": 160,
     "metadata": {},
     "output_type": "execute_result"
    }
   ],
   "source": [
    "preds = preds.rename(columns={0: 'target_month', 1: 'target_day'})\n",
    "preds"
   ],
   "metadata": {
    "collapsed": false
   }
  },
  {
   "cell_type": "code",
   "execution_count": 161,
   "outputs": [],
   "source": [
    "import numpy as np\n",
    "np.savetxt('preds.csv', preds, delimiter=',')\n",
    "val_y.to_csv('y.csv', index=False)"
   ],
   "metadata": {
    "collapsed": false
   }
  },
  {
   "cell_type": "code",
   "execution_count": 162,
   "outputs": [
    {
     "ename": "KeyError",
     "evalue": "'target_month'",
     "output_type": "error",
     "traceback": [
      "\u001B[0;31m---------------------------------------------------------------------------\u001B[0m",
      "\u001B[0;31mKeyError\u001B[0m                                  Traceback (most recent call last)",
      "File \u001B[0;32m~/Downloads/venv/lib/python3.11/site-packages/pandas/core/indexes/base.py:3652\u001B[0m, in \u001B[0;36mIndex.get_loc\u001B[0;34m(self, key)\u001B[0m\n\u001B[1;32m   3651\u001B[0m \u001B[38;5;28;01mtry\u001B[39;00m:\n\u001B[0;32m-> 3652\u001B[0m     \u001B[38;5;28;01mreturn\u001B[39;00m \u001B[38;5;28;43mself\u001B[39;49m\u001B[38;5;241;43m.\u001B[39;49m\u001B[43m_engine\u001B[49m\u001B[38;5;241;43m.\u001B[39;49m\u001B[43mget_loc\u001B[49m\u001B[43m(\u001B[49m\u001B[43mcasted_key\u001B[49m\u001B[43m)\u001B[49m\n\u001B[1;32m   3653\u001B[0m \u001B[38;5;28;01mexcept\u001B[39;00m \u001B[38;5;167;01mKeyError\u001B[39;00m \u001B[38;5;28;01mas\u001B[39;00m err:\n",
      "File \u001B[0;32m~/Downloads/venv/lib/python3.11/site-packages/pandas/_libs/index.pyx:147\u001B[0m, in \u001B[0;36mpandas._libs.index.IndexEngine.get_loc\u001B[0;34m()\u001B[0m\n",
      "File \u001B[0;32m~/Downloads/venv/lib/python3.11/site-packages/pandas/_libs/index.pyx:176\u001B[0m, in \u001B[0;36mpandas._libs.index.IndexEngine.get_loc\u001B[0;34m()\u001B[0m\n",
      "File \u001B[0;32mpandas/_libs/hashtable_class_helper.pxi:7080\u001B[0m, in \u001B[0;36mpandas._libs.hashtable.PyObjectHashTable.get_item\u001B[0;34m()\u001B[0m\n",
      "File \u001B[0;32mpandas/_libs/hashtable_class_helper.pxi:7088\u001B[0m, in \u001B[0;36mpandas._libs.hashtable.PyObjectHashTable.get_item\u001B[0;34m()\u001B[0m\n",
      "\u001B[0;31mKeyError\u001B[0m: 'target_month'",
      "\nThe above exception was the direct cause of the following exception:\n",
      "\u001B[0;31mKeyError\u001B[0m                                  Traceback (most recent call last)",
      "Cell \u001B[0;32mIn[162], line 1\u001B[0m\n\u001B[0;32m----> 1\u001B[0m \u001B[43mcalc_f1_score\u001B[49m\u001B[43m(\u001B[49m\u001B[38;5;124;43m'\u001B[39;49m\u001B[38;5;124;43my.csv\u001B[39;49m\u001B[38;5;124;43m'\u001B[39;49m\u001B[43m,\u001B[49m\u001B[43m \u001B[49m\u001B[38;5;124;43m'\u001B[39;49m\u001B[38;5;124;43mpreds.csv\u001B[39;49m\u001B[38;5;124;43m'\u001B[39;49m\u001B[43m)\u001B[49m\n",
      "File \u001B[0;32m~/Downloads/DataWagon/train/metrics_f1.py:10\u001B[0m, in \u001B[0;36mcalc_f1_score\u001B[0;34m(test_url, prediction_url)\u001B[0m\n\u001B[1;32m      8\u001B[0m pred_labels \u001B[38;5;241m=\u001B[39m pd\u001B[38;5;241m.\u001B[39mread_csv(prediction_url)\n\u001B[1;32m      9\u001B[0m \u001B[38;5;66;03m# Таргет для месячного прогноза\u001B[39;00m\n\u001B[0;32m---> 10\u001B[0m true_labels_month \u001B[38;5;241m=\u001B[39m \u001B[43mtrue_labels\u001B[49m\u001B[43m[\u001B[49m\u001B[38;5;124;43m'\u001B[39;49m\u001B[38;5;124;43mtarget_month\u001B[39;49m\u001B[38;5;124;43m'\u001B[39;49m\u001B[43m]\u001B[49m\u001B[38;5;241m.\u001B[39mvalues\n\u001B[1;32m     11\u001B[0m pred_labels_month \u001B[38;5;241m=\u001B[39m pred_labels[\u001B[38;5;124m'\u001B[39m\u001B[38;5;124mtarget_month\u001B[39m\u001B[38;5;124m'\u001B[39m]\u001B[38;5;241m.\u001B[39mvalues\n\u001B[1;32m     13\u001B[0m \u001B[38;5;66;03m# Таргет для 10 дневного прогноза\u001B[39;00m\n",
      "File \u001B[0;32m~/Downloads/venv/lib/python3.11/site-packages/pandas/core/frame.py:3760\u001B[0m, in \u001B[0;36mDataFrame.__getitem__\u001B[0;34m(self, key)\u001B[0m\n\u001B[1;32m   3758\u001B[0m \u001B[38;5;28;01mif\u001B[39;00m \u001B[38;5;28mself\u001B[39m\u001B[38;5;241m.\u001B[39mcolumns\u001B[38;5;241m.\u001B[39mnlevels \u001B[38;5;241m>\u001B[39m \u001B[38;5;241m1\u001B[39m:\n\u001B[1;32m   3759\u001B[0m     \u001B[38;5;28;01mreturn\u001B[39;00m \u001B[38;5;28mself\u001B[39m\u001B[38;5;241m.\u001B[39m_getitem_multilevel(key)\n\u001B[0;32m-> 3760\u001B[0m indexer \u001B[38;5;241m=\u001B[39m \u001B[38;5;28;43mself\u001B[39;49m\u001B[38;5;241;43m.\u001B[39;49m\u001B[43mcolumns\u001B[49m\u001B[38;5;241;43m.\u001B[39;49m\u001B[43mget_loc\u001B[49m\u001B[43m(\u001B[49m\u001B[43mkey\u001B[49m\u001B[43m)\u001B[49m\n\u001B[1;32m   3761\u001B[0m \u001B[38;5;28;01mif\u001B[39;00m is_integer(indexer):\n\u001B[1;32m   3762\u001B[0m     indexer \u001B[38;5;241m=\u001B[39m [indexer]\n",
      "File \u001B[0;32m~/Downloads/venv/lib/python3.11/site-packages/pandas/core/indexes/base.py:3654\u001B[0m, in \u001B[0;36mIndex.get_loc\u001B[0;34m(self, key)\u001B[0m\n\u001B[1;32m   3652\u001B[0m     \u001B[38;5;28;01mreturn\u001B[39;00m \u001B[38;5;28mself\u001B[39m\u001B[38;5;241m.\u001B[39m_engine\u001B[38;5;241m.\u001B[39mget_loc(casted_key)\n\u001B[1;32m   3653\u001B[0m \u001B[38;5;28;01mexcept\u001B[39;00m \u001B[38;5;167;01mKeyError\u001B[39;00m \u001B[38;5;28;01mas\u001B[39;00m err:\n\u001B[0;32m-> 3654\u001B[0m     \u001B[38;5;28;01mraise\u001B[39;00m \u001B[38;5;167;01mKeyError\u001B[39;00m(key) \u001B[38;5;28;01mfrom\u001B[39;00m \u001B[38;5;21;01merr\u001B[39;00m\n\u001B[1;32m   3655\u001B[0m \u001B[38;5;28;01mexcept\u001B[39;00m \u001B[38;5;167;01mTypeError\u001B[39;00m:\n\u001B[1;32m   3656\u001B[0m     \u001B[38;5;66;03m# If we have a listlike key, _check_indexing_error will raise\u001B[39;00m\n\u001B[1;32m   3657\u001B[0m     \u001B[38;5;66;03m#  InvalidIndexError. Otherwise we fall through and re-raise\u001B[39;00m\n\u001B[1;32m   3658\u001B[0m     \u001B[38;5;66;03m#  the TypeError.\u001B[39;00m\n\u001B[1;32m   3659\u001B[0m     \u001B[38;5;28mself\u001B[39m\u001B[38;5;241m.\u001B[39m_check_indexing_error(key)\n",
      "\u001B[0;31mKeyError\u001B[0m: 'target_month'"
     ]
    }
   ],
   "source": [
    "calc_f1_score('y.csv', 'preds.csv')"
   ],
   "metadata": {
    "collapsed": false
   }
  },
  {
   "cell_type": "code",
   "execution_count": null,
   "outputs": [],
   "source": [],
   "metadata": {
    "collapsed": false
   }
  }
 ],
 "metadata": {
  "kernelspec": {
   "display_name": "Python 3",
   "language": "python",
   "name": "python3"
  },
  "language_info": {
   "codemirror_mode": {
    "name": "ipython",
    "version": 2
   },
   "file_extension": ".py",
   "mimetype": "text/x-python",
   "name": "python",
   "nbconvert_exporter": "python",
   "pygments_lexer": "ipython2",
   "version": "2.7.6"
  }
 },
 "nbformat": 4,
 "nbformat_minor": 0
}
